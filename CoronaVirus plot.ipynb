{
 "cells": [
  {
   "cell_type": "markdown",
   "metadata": {},
   "source": [
    "# Replicating the Financial Times Data"
   ]
  },
  {
   "cell_type": "markdown",
   "metadata": {},
   "source": [
    "Importing a list of countries from the [country_list module](https://pypi.org/project/country-list/) and turning this into a list of country names"
   ]
  },
  {
   "cell_type": "code",
   "execution_count": 2,
   "metadata": {},
   "outputs": [],
   "source": [
    "from country_list import countries_for_language\n",
    "\n",
    "countries = dict(countries_for_language('en'))\n",
    "\n",
    "country_names = []\n",
    "\n",
    "for i in countries:\n",
    "    country_names.append(countries[i])"
   ]
  },
  {
   "cell_type": "markdown",
   "metadata": {},
   "source": [
    "Importing core modules"
   ]
  },
  {
   "cell_type": "code",
   "execution_count": 3,
   "metadata": {},
   "outputs": [],
   "source": [
    "import pandas as pd\n",
    "import plotly.graph_objects as go"
   ]
  },
  {
   "cell_type": "markdown",
   "metadata": {},
   "source": [
    "Loading in data from [Our World In Data](https://ourworldindata.org/coronavirus#confirmed-covid-19-deaths-by-country)"
   ]
  },
  {
   "cell_type": "code",
   "execution_count": 7,
   "metadata": {},
   "outputs": [],
   "source": [
    "df = pd.read_csv('total-daily-covid-deaths.csv')"
   ]
  },
  {
   "cell_type": "markdown",
   "metadata": {},
   "source": [
    "The our data comes with data on continents and regions so we use this pandas function to filter for entities in our country list."
   ]
  },
  {
   "cell_type": "code",
   "execution_count": 8,
   "metadata": {},
   "outputs": [],
   "source": [
    "df = df[df['Entity'].isin(country_names)]"
   ]
  },
  {
   "cell_type": "code",
   "execution_count": 10,
   "metadata": {},
   "outputs": [
    {
     "data": {
      "text/html": [
       "<div>\n",
       "<style scoped>\n",
       "    .dataframe tbody tr th:only-of-type {\n",
       "        vertical-align: middle;\n",
       "    }\n",
       "\n",
       "    .dataframe tbody tr th {\n",
       "        vertical-align: top;\n",
       "    }\n",
       "\n",
       "    .dataframe thead th {\n",
       "        text-align: right;\n",
       "    }\n",
       "</style>\n",
       "<table border=\"1\" class=\"dataframe\">\n",
       "  <thead>\n",
       "    <tr style=\"text-align: right;\">\n",
       "      <th></th>\n",
       "      <th>Entity</th>\n",
       "      <th>Code</th>\n",
       "      <th>Date</th>\n",
       "      <th>Total confirmed deaths (deaths)</th>\n",
       "      <th>Daily new confirmed deaths (deaths)</th>\n",
       "    </tr>\n",
       "  </thead>\n",
       "  <tbody>\n",
       "    <tr>\n",
       "      <td>0</td>\n",
       "      <td>Afghanistan</td>\n",
       "      <td>AFG</td>\n",
       "      <td>Dec 31, 2019</td>\n",
       "      <td>0</td>\n",
       "      <td>0</td>\n",
       "    </tr>\n",
       "    <tr>\n",
       "      <td>1</td>\n",
       "      <td>Afghanistan</td>\n",
       "      <td>AFG</td>\n",
       "      <td>Jan 1, 2020</td>\n",
       "      <td>0</td>\n",
       "      <td>0</td>\n",
       "    </tr>\n",
       "    <tr>\n",
       "      <td>2</td>\n",
       "      <td>Afghanistan</td>\n",
       "      <td>AFG</td>\n",
       "      <td>Jan 2, 2020</td>\n",
       "      <td>0</td>\n",
       "      <td>0</td>\n",
       "    </tr>\n",
       "    <tr>\n",
       "      <td>3</td>\n",
       "      <td>Afghanistan</td>\n",
       "      <td>AFG</td>\n",
       "      <td>Jan 3, 2020</td>\n",
       "      <td>0</td>\n",
       "      <td>0</td>\n",
       "    </tr>\n",
       "    <tr>\n",
       "      <td>4</td>\n",
       "      <td>Afghanistan</td>\n",
       "      <td>AFG</td>\n",
       "      <td>Jan 4, 2020</td>\n",
       "      <td>0</td>\n",
       "      <td>0</td>\n",
       "    </tr>\n",
       "  </tbody>\n",
       "</table>\n",
       "</div>"
      ],
      "text/plain": [
       "        Entity Code          Date  Total confirmed deaths (deaths)  \\\n",
       "0  Afghanistan  AFG  Dec 31, 2019                                0   \n",
       "1  Afghanistan  AFG   Jan 1, 2020                                0   \n",
       "2  Afghanistan  AFG   Jan 2, 2020                                0   \n",
       "3  Afghanistan  AFG   Jan 3, 2020                                0   \n",
       "4  Afghanistan  AFG   Jan 4, 2020                                0   \n",
       "\n",
       "   Daily new confirmed deaths (deaths)  \n",
       "0                                    0  \n",
       "1                                    0  \n",
       "2                                    0  \n",
       "3                                    0  \n",
       "4                                    0  "
      ]
     },
     "execution_count": 10,
     "metadata": {},
     "output_type": "execute_result"
    }
   ],
   "source": [
    "df.head() # prints first 5 rows of the data set"
   ]
  },
  {
   "cell_type": "code",
   "execution_count": 11,
   "metadata": {},
   "outputs": [
    {
     "data": {
      "text/plain": [
       "['Entity',\n",
       " 'Code',\n",
       " 'Date',\n",
       " 'Total confirmed deaths (deaths)',\n",
       " 'Daily new confirmed deaths (deaths)']"
      ]
     },
     "execution_count": 11,
     "metadata": {},
     "output_type": "execute_result"
    }
   ],
   "source": [
    "list(df) # prints header"
   ]
  },
  {
   "cell_type": "markdown",
   "metadata": {},
   "source": [
    "We want a list of countries in our database to iterate over later. To get this I use drop_duplicates on the entity column"
   ]
  },
  {
   "cell_type": "code",
   "execution_count": 12,
   "metadata": {},
   "outputs": [
    {
     "data": {
      "text/plain": [
       "0      Afghanistan\n",
       "1          Albania\n",
       "2          Algeria\n",
       "3          Andorra\n",
       "4           Angola\n",
       "          ...     \n",
       "176     Uzbekistan\n",
       "177      Venezuela\n",
       "178        Vietnam\n",
       "179         Zambia\n",
       "180       Zimbabwe\n",
       "Name: Entity, Length: 181, dtype: object"
      ]
     },
     "execution_count": 12,
     "metadata": {},
     "output_type": "execute_result"
    }
   ],
   "source": [
    "countries = df['Entity'].drop_duplicates().reset_index(drop = True) \n",
    "\n",
    "countries"
   ]
  },
  {
   "cell_type": "markdown",
   "metadata": {},
   "source": [
    "## Data Cleaning"
   ]
  },
  {
   "cell_type": "markdown",
   "metadata": {},
   "source": [
    "We want to get the data into a 7 day average rolling format with the x-axis being the number of days since first recorded death"
   ]
  },
  {
   "cell_type": "code",
   "execution_count": 13,
   "metadata": {},
   "outputs": [
    {
     "data": {
      "text/plain": [
       "['Entity',\n",
       " 'Code',\n",
       " 'Date',\n",
       " 'Total confirmed deaths (deaths)',\n",
       " 'Daily new confirmed deaths (deaths)']"
      ]
     },
     "execution_count": 13,
     "metadata": {},
     "output_type": "execute_result"
    }
   ],
   "source": [
    "list(df)"
   ]
  },
  {
   "cell_type": "markdown",
   "metadata": {},
   "source": [
    "Defining our average function to use later"
   ]
  },
  {
   "cell_type": "code",
   "execution_count": 15,
   "metadata": {},
   "outputs": [],
   "source": [
    "def get_avg(listy):\n",
    "    return sum(listy)/len(listy)"
   ]
  },
  {
   "cell_type": "markdown",
   "metadata": {},
   "source": [
    "### Calculating the rolling average"
   ]
  },
  {
   "cell_type": "markdown",
   "metadata": {},
   "source": [
    "First we want to get the rolling average values for each country. To do this we iterate through our list of countries and for each country we sort the data set to just the countries dataset. \n",
    "\n",
    "We then go through the daily death values and add them to a list of the last seven days, the rolling average is then calculated from the average of this list."
   ]
  },
  {
   "cell_type": "code",
   "execution_count": 16,
   "metadata": {},
   "outputs": [],
   "source": [
    "rolling_avg = []\n",
    "\n",
    "for country in list(countries):\n",
    "    \n",
    "    country_df = df[df['Entity'] == country] # sorting dataset for values belonging to the country\n",
    "\n",
    "    past_values = []\n",
    "    for index, row in country_df.iterrows(): # iterating through rows of our pandas dataset\n",
    "        Entity, Code,Date, total_deaths, daily_deaths = list(row)\n",
    "        past_values.append(daily_deaths) # adding daily deaths value to list of past values\n",
    "        \n",
    "        if len(past_values) > 7: \n",
    "            # if we have more than seven values we need to remove the olderst value which corresponds to the first value in the list\n",
    "            past_values.remove(past_values[0])\n",
    "            \n",
    "#         print(len(past_values))\n",
    "            \n",
    "        average = get_avg(past_values)\n",
    "        rolling_avg.append(average)"
   ]
  },
  {
   "cell_type": "code",
   "execution_count": 17,
   "metadata": {},
   "outputs": [
    {
     "data": {
      "text/html": [
       "<div>\n",
       "<style scoped>\n",
       "    .dataframe tbody tr th:only-of-type {\n",
       "        vertical-align: middle;\n",
       "    }\n",
       "\n",
       "    .dataframe tbody tr th {\n",
       "        vertical-align: top;\n",
       "    }\n",
       "\n",
       "    .dataframe thead th {\n",
       "        text-align: right;\n",
       "    }\n",
       "</style>\n",
       "<table border=\"1\" class=\"dataframe\">\n",
       "  <thead>\n",
       "    <tr style=\"text-align: right;\">\n",
       "      <th></th>\n",
       "      <th>Entity</th>\n",
       "      <th>Code</th>\n",
       "      <th>Date</th>\n",
       "      <th>Total confirmed deaths (deaths)</th>\n",
       "      <th>Daily new confirmed deaths (deaths)</th>\n",
       "      <th>Daily Confirmed Deaths avg</th>\n",
       "    </tr>\n",
       "  </thead>\n",
       "  <tbody>\n",
       "    <tr>\n",
       "      <td>0</td>\n",
       "      <td>Afghanistan</td>\n",
       "      <td>AFG</td>\n",
       "      <td>Dec 31, 2019</td>\n",
       "      <td>0</td>\n",
       "      <td>0</td>\n",
       "      <td>0.0</td>\n",
       "    </tr>\n",
       "    <tr>\n",
       "      <td>1</td>\n",
       "      <td>Afghanistan</td>\n",
       "      <td>AFG</td>\n",
       "      <td>Jan 1, 2020</td>\n",
       "      <td>0</td>\n",
       "      <td>0</td>\n",
       "      <td>0.0</td>\n",
       "    </tr>\n",
       "    <tr>\n",
       "      <td>2</td>\n",
       "      <td>Afghanistan</td>\n",
       "      <td>AFG</td>\n",
       "      <td>Jan 2, 2020</td>\n",
       "      <td>0</td>\n",
       "      <td>0</td>\n",
       "      <td>0.0</td>\n",
       "    </tr>\n",
       "    <tr>\n",
       "      <td>3</td>\n",
       "      <td>Afghanistan</td>\n",
       "      <td>AFG</td>\n",
       "      <td>Jan 3, 2020</td>\n",
       "      <td>0</td>\n",
       "      <td>0</td>\n",
       "      <td>0.0</td>\n",
       "    </tr>\n",
       "    <tr>\n",
       "      <td>4</td>\n",
       "      <td>Afghanistan</td>\n",
       "      <td>AFG</td>\n",
       "      <td>Jan 4, 2020</td>\n",
       "      <td>0</td>\n",
       "      <td>0</td>\n",
       "      <td>0.0</td>\n",
       "    </tr>\n",
       "  </tbody>\n",
       "</table>\n",
       "</div>"
      ],
      "text/plain": [
       "        Entity Code          Date  Total confirmed deaths (deaths)  \\\n",
       "0  Afghanistan  AFG  Dec 31, 2019                                0   \n",
       "1  Afghanistan  AFG   Jan 1, 2020                                0   \n",
       "2  Afghanistan  AFG   Jan 2, 2020                                0   \n",
       "3  Afghanistan  AFG   Jan 3, 2020                                0   \n",
       "4  Afghanistan  AFG   Jan 4, 2020                                0   \n",
       "\n",
       "   Daily new confirmed deaths (deaths)  Daily Confirmed Deaths avg  \n",
       "0                                    0                         0.0  \n",
       "1                                    0                         0.0  \n",
       "2                                    0                         0.0  \n",
       "3                                    0                         0.0  \n",
       "4                                    0                         0.0  "
      ]
     },
     "execution_count": 17,
     "metadata": {},
     "output_type": "execute_result"
    }
   ],
   "source": [
    "df['Daily Confirmed Deaths avg'] = rolling_avg\n",
    "\n",
    "df.head()"
   ]
  },
  {
   "cell_type": "markdown",
   "metadata": {},
   "source": [
    "### Filtering for values after 3 deaths a day"
   ]
  },
  {
   "cell_type": "code",
   "execution_count": 19,
   "metadata": {},
   "outputs": [
    {
     "data": {
      "text/plain": [
       "0                Algeria\n",
       "1              Argentina\n",
       "2              Australia\n",
       "3                Austria\n",
       "4                Belgium\n",
       "5                 Brazil\n",
       "6                 Canada\n",
       "7                  Chile\n",
       "8                  China\n",
       "9               Colombia\n",
       "10               Denmark\n",
       "11    Dominican Republic\n",
       "12               Ecuador\n",
       "13                 Egypt\n",
       "14                France\n",
       "15               Germany\n",
       "16                Greece\n",
       "17               Hungary\n",
       "18                 India\n",
       "19             Indonesia\n",
       "20                  Iran\n",
       "21                  Iraq\n",
       "22               Ireland\n",
       "23                Israel\n",
       "24                 Italy\n",
       "25                 Japan\n",
       "26            Luxembourg\n",
       "27              Malaysia\n",
       "28                Mexico\n",
       "29               Morocco\n",
       "30           Netherlands\n",
       "31                Norway\n",
       "32              Pakistan\n",
       "33                Panama\n",
       "34                  Peru\n",
       "35           Philippines\n",
       "36                Poland\n",
       "37              Portugal\n",
       "38               Romania\n",
       "39                Russia\n",
       "40          Saudi Arabia\n",
       "41                Serbia\n",
       "42           South Korea\n",
       "43                 Spain\n",
       "44                Sweden\n",
       "45           Switzerland\n",
       "46                Turkey\n",
       "47               Ukraine\n",
       "48        United Kingdom\n",
       "49         United States\n",
       "Name: Entity, dtype: object"
      ]
     },
     "execution_count": 19,
     "metadata": {},
     "output_type": "execute_result"
    }
   ],
   "source": [
    "### Filtering out days before third death\n",
    "\n",
    "df.head()\n",
    "\n",
    "new_data = []\n",
    "\n",
    "for country in list(countries):\n",
    "    \n",
    "    country_df = df[df['Entity'] == country]\n",
    "    \n",
    "    days = 0\n",
    "    start_counting = 'n'\n",
    "    for index, row in country_df.iterrows():\n",
    "        if start_counting == 'n':\n",
    "            if row['Daily Confirmed Deaths avg'] < 3:\n",
    "                continue # this skips the code bellow and goes to the next iteration in the list\n",
    "                \n",
    "            else:\n",
    "                start_counting = 'y'\n",
    "        \n",
    "        new_row = list(row)\n",
    "        new_row.append(days)\n",
    "        \n",
    "        new_data.append(new_row)\n",
    "        \n",
    "        days += 1\n",
    "        \n",
    "df2 = pd.DataFrame(new_data, columns = list(df) + ['Days Since Third Death'])\n",
    "\n",
    "df2.head()\n",
    "\n",
    "countries = df2['Entity'].drop_duplicates().reset_index(drop = True)\n",
    "\n",
    "countries"
   ]
  },
  {
   "cell_type": "code",
   "execution_count": 21,
   "metadata": {},
   "outputs": [
    {
     "data": {
      "text/html": [
       "<div>\n",
       "<style scoped>\n",
       "    .dataframe tbody tr th:only-of-type {\n",
       "        vertical-align: middle;\n",
       "    }\n",
       "\n",
       "    .dataframe tbody tr th {\n",
       "        vertical-align: top;\n",
       "    }\n",
       "\n",
       "    .dataframe thead th {\n",
       "        text-align: right;\n",
       "    }\n",
       "</style>\n",
       "<table border=\"1\" class=\"dataframe\">\n",
       "  <thead>\n",
       "    <tr style=\"text-align: right;\">\n",
       "      <th></th>\n",
       "      <th>Entity</th>\n",
       "      <th>Code</th>\n",
       "      <th>Date</th>\n",
       "      <th>Total confirmed deaths (deaths)</th>\n",
       "      <th>Daily new confirmed deaths (deaths)</th>\n",
       "      <th>Daily Confirmed Deaths avg</th>\n",
       "      <th>Days Since Third Death</th>\n",
       "    </tr>\n",
       "  </thead>\n",
       "  <tbody>\n",
       "    <tr>\n",
       "      <td>0</td>\n",
       "      <td>Algeria</td>\n",
       "      <td>DZA</td>\n",
       "      <td>Apr 2, 2020</td>\n",
       "      <td>58</td>\n",
       "      <td>23</td>\n",
       "      <td>5.857143</td>\n",
       "      <td>0</td>\n",
       "    </tr>\n",
       "    <tr>\n",
       "      <td>1</td>\n",
       "      <td>Algeria</td>\n",
       "      <td>DZA</td>\n",
       "      <td>Apr 3, 2020</td>\n",
       "      <td>58</td>\n",
       "      <td>0</td>\n",
       "      <td>5.285714</td>\n",
       "      <td>1</td>\n",
       "    </tr>\n",
       "    <tr>\n",
       "      <td>2</td>\n",
       "      <td>Algeria</td>\n",
       "      <td>DZA</td>\n",
       "      <td>Apr 4, 2020</td>\n",
       "      <td>83</td>\n",
       "      <td>25</td>\n",
       "      <td>8.857143</td>\n",
       "      <td>2</td>\n",
       "    </tr>\n",
       "    <tr>\n",
       "      <td>3</td>\n",
       "      <td>Algeria</td>\n",
       "      <td>DZA</td>\n",
       "      <td>Apr 5, 2020</td>\n",
       "      <td>130</td>\n",
       "      <td>47</td>\n",
       "      <td>14.857143</td>\n",
       "      <td>3</td>\n",
       "    </tr>\n",
       "    <tr>\n",
       "      <td>4</td>\n",
       "      <td>Algeria</td>\n",
       "      <td>DZA</td>\n",
       "      <td>Apr 6, 2020</td>\n",
       "      <td>152</td>\n",
       "      <td>22</td>\n",
       "      <td>17.571429</td>\n",
       "      <td>4</td>\n",
       "    </tr>\n",
       "  </tbody>\n",
       "</table>\n",
       "</div>"
      ],
      "text/plain": [
       "    Entity Code         Date  Total confirmed deaths (deaths)  \\\n",
       "0  Algeria  DZA  Apr 2, 2020                               58   \n",
       "1  Algeria  DZA  Apr 3, 2020                               58   \n",
       "2  Algeria  DZA  Apr 4, 2020                               83   \n",
       "3  Algeria  DZA  Apr 5, 2020                              130   \n",
       "4  Algeria  DZA  Apr 6, 2020                              152   \n",
       "\n",
       "   Daily new confirmed deaths (deaths)  Daily Confirmed Deaths avg  \\\n",
       "0                                   23                    5.857143   \n",
       "1                                    0                    5.285714   \n",
       "2                                   25                    8.857143   \n",
       "3                                   47                   14.857143   \n",
       "4                                   22                   17.571429   \n",
       "\n",
       "   Days Since Third Death  \n",
       "0                       0  \n",
       "1                       1  \n",
       "2                       2  \n",
       "3                       3  \n",
       "4                       4  "
      ]
     },
     "execution_count": 21,
     "metadata": {},
     "output_type": "execute_result"
    }
   ],
   "source": [
    "df2.head()"
   ]
  },
  {
   "cell_type": "markdown",
   "metadata": {},
   "source": [
    "### Saving our cleaned data"
   ]
  },
  {
   "cell_type": "code",
   "execution_count": 22,
   "metadata": {},
   "outputs": [],
   "source": [
    "df2.to_csv('total-daily-covid-deaths-cleaned.csv', index = False)"
   ]
  },
  {
   "cell_type": "markdown",
   "metadata": {},
   "source": [
    "## Data Visualization"
   ]
  },
  {
   "cell_type": "markdown",
   "metadata": {},
   "source": [
    "This is the list of countries we want to colour and label"
   ]
  },
  {
   "cell_type": "code",
   "execution_count": 24,
   "metadata": {},
   "outputs": [],
   "source": [
    "keep_list = ['United Kingdom', 'United States', 'Spain', 'France', 'Italy', 'Germany', 'South Korea', 'China']"
   ]
  },
  {
   "cell_type": "code",
   "execution_count": 27,
   "metadata": {},
   "outputs": [],
   "source": [
    "colour_code = {'United Kingdom':'#B3325D', # colour codes for each country\n",
    "               'United States':'#EB5E8D', \n",
    "               'Spain':'#208FCE', \n",
    "               'France':'#208FCE', \n",
    "               'Italy':'#66605C', \n",
    "               'Germany':'#79972A', \n",
    "               'South Korea':'#72DCE6', \n",
    "               'China':'#DA870C'}\n",
    "\n",
    "label_code = {'United Kingdom':'UK', # labels for each country\n",
    "               'United States':'US', \n",
    "               'Spain':'Spain', \n",
    "               'France':'France', \n",
    "               'Italy':'Italy', \n",
    "               'Germany':'Germany', \n",
    "               'South Korea':'S Korea', \n",
    "               'China':'China'}\n",
    "\n",
    "\n",
    "background_colour = '#C7BBB3' # The famous ft background colour"
   ]
  },
  {
   "cell_type": "markdown",
   "metadata": {},
   "source": [
    "For each country we want to sort our database and add the x and y values to a plot"
   ]
  },
  {
   "cell_type": "code",
   "execution_count": 33,
   "metadata": {},
   "outputs": [
    {
     "data": {
      "application/vnd.plotly.v1+json": {
       "config": {
        "plotlyServerURL": "https://plot.ly"
       },
       "data": [
        {
         "line": {
          "color": "#C7BBB3",
          "width": 2
         },
         "mode": "lines",
         "name": "Algeria",
         "showlegend": false,
         "type": "scatter",
         "x": [
          0,
          1,
          2,
          3,
          4,
          5
         ],
         "y": [
          5.857142857142857,
          5.285714285714286,
          8.857142857142858,
          14.857142857142858,
          17.571428571428573,
          20.285714285714285
         ]
        },
        {
         "line": {
          "color": "#C7BBB3",
          "width": 2
         },
         "mode": "markers",
         "name": "Algeria",
         "showlegend": false,
         "type": "scatter",
         "x": [
          5
         ],
         "y": [
          20.285714285714285
         ]
        },
        {
         "line": {
          "color": "#C7BBB3",
          "width": 2
         },
         "mode": "lines",
         "name": "Argentina",
         "showlegend": false,
         "type": "scatter",
         "x": [
          0,
          1,
          2,
          3,
          4,
          5
         ],
         "y": [
          3.2857142857142856,
          3.142857142857143,
          2.857142857142857,
          3.4285714285714284,
          3.7142857142857144,
          4.142857142857143
         ]
        },
        {
         "line": {
          "color": "#C7BBB3",
          "width": 2
         },
         "mode": "markers",
         "name": "Argentina",
         "showlegend": false,
         "type": "scatter",
         "x": [
          5
         ],
         "y": [
          4.142857142857143
         ]
        },
        {
         "line": {
          "color": "#C7BBB3",
          "width": 2
         },
         "mode": "lines",
         "name": "Australia",
         "showlegend": false,
         "type": "scatter",
         "x": [
          0
         ],
         "y": [
          3.2857142857142856
         ]
        },
        {
         "line": {
          "color": "#C7BBB3",
          "width": 2
         },
         "mode": "markers",
         "name": "Australia",
         "showlegend": false,
         "type": "scatter",
         "x": [
          0
         ],
         "y": [
          3.2857142857142856
         ]
        },
        {
         "line": {
          "color": "#C7BBB3",
          "width": 2
         },
         "mode": "lines",
         "name": "Austria",
         "showlegend": false,
         "type": "scatter",
         "x": [
          0,
          1,
          2,
          3,
          4,
          5,
          6,
          7,
          8,
          9,
          10,
          11,
          12,
          13,
          14
         ],
         "y": [
          3.142857142857143,
          3.857142857142857,
          4.285714285714286,
          6.571428571428571,
          8.857142857142858,
          8.571428571428571,
          10,
          11.857142857142858,
          14,
          16,
          15.142857142857142,
          14.285714285714286,
          16.857142857142858,
          16.857142857142858,
          16
         ]
        },
        {
         "line": {
          "color": "#C7BBB3",
          "width": 2
         },
         "mode": "markers",
         "name": "Austria",
         "showlegend": false,
         "type": "scatter",
         "x": [
          14
         ],
         "y": [
          16
         ]
        },
        {
         "line": {
          "color": "#C7BBB3",
          "width": 2
         },
         "mode": "lines",
         "name": "Belgium",
         "showlegend": false,
         "type": "scatter",
         "x": [
          0,
          1,
          2,
          3,
          4,
          5,
          6,
          7,
          8,
          9,
          10,
          11,
          12,
          13,
          14,
          15,
          16,
          17
         ],
         "y": [
          4.857142857142857,
          9,
          10.142857142857142,
          11.857142857142858,
          16.714285714285715,
          23.428571428571427,
          28.428571428571427,
          36,
          40.857142857142854,
          50.857142857142854,
          60.714285714285715,
          83.28571428571429,
          92.85714285714286,
          113,
          122,
          132.85714285714286,
          145.14285714285714,
          159.85714285714286
         ]
        },
        {
         "line": {
          "color": "#C7BBB3",
          "width": 2
         },
         "mode": "markers",
         "name": "Belgium",
         "showlegend": false,
         "type": "scatter",
         "x": [
          17
         ],
         "y": [
          159.85714285714286
         ]
        },
        {
         "line": {
          "color": "#C7BBB3",
          "width": 2
         },
         "mode": "lines",
         "name": "Brazil",
         "showlegend": false,
         "type": "scatter",
         "x": [
          0,
          1,
          2,
          3,
          4,
          5,
          6,
          7,
          8,
          9,
          10,
          11,
          12,
          13,
          14,
          15
         ],
         "y": [
          3.5714285714285716,
          4.857142857142857,
          6.428571428571429,
          7.571428571428571,
          10.142857142857142,
          11.571428571428571,
          13.714285714285714,
          15.857142857142858,
          17.857142857142858,
          22.142857142857142,
          26.285714285714285,
          31.714285714285715,
          38.142857142857146,
          45.42857142857143,
          50,
          56.285714285714285
         ]
        },
        {
         "line": {
          "color": "#C7BBB3",
          "width": 2
         },
         "mode": "markers",
         "name": "Brazil",
         "showlegend": false,
         "type": "scatter",
         "x": [
          15
         ],
         "y": [
          56.285714285714285
         ]
        },
        {
         "line": {
          "color": "#C7BBB3",
          "width": 2
         },
         "mode": "lines",
         "name": "Canada",
         "showlegend": false,
         "type": "scatter",
         "x": [
          0,
          1,
          2,
          3,
          4,
          5,
          6,
          7,
          8,
          9,
          10,
          11,
          12
         ],
         "y": [
          3.7142857142857144,
          4.142857142857143,
          5.857142857142857,
          6.714285714285714,
          6.142857142857143,
          9.285714285714286,
          9.857142857142858,
          10.571428571428571,
          14.142857142857142,
          19.142857142857142,
          24.428571428571427,
          31.285714285714285,
          33.42857142857143
         ]
        },
        {
         "line": {
          "color": "#C7BBB3",
          "width": 2
         },
         "mode": "markers",
         "name": "Canada",
         "showlegend": false,
         "type": "scatter",
         "x": [
          12
         ],
         "y": [
          33.42857142857143
         ]
        },
        {
         "line": {
          "color": "#C7BBB3",
          "width": 2
         },
         "mode": "lines",
         "name": "Chile",
         "showlegend": false,
         "type": "scatter",
         "x": [
          0,
          1,
          2
         ],
         "y": [
          3,
          3.857142857142857,
          4.142857142857143
         ]
        },
        {
         "line": {
          "color": "#C7BBB3",
          "width": 2
         },
         "mode": "markers",
         "name": "Chile",
         "showlegend": false,
         "type": "scatter",
         "x": [
          2
         ],
         "y": [
          4.142857142857143
         ]
        },
        {
         "line": {
          "color": "#C7BBB3",
          "width": 2
         },
         "mode": "lines",
         "name": "Colombia",
         "showlegend": false,
         "type": "scatter",
         "x": [
          0,
          1,
          2
         ],
         "y": [
          3.7142857142857144,
          3.5714285714285716,
          4.571428571428571
         ]
        },
        {
         "line": {
          "color": "#C7BBB3",
          "width": 2
         },
         "mode": "markers",
         "name": "Colombia",
         "showlegend": false,
         "type": "scatter",
         "x": [
          2
         ],
         "y": [
          4.571428571428571
         ]
        },
        {
         "line": {
          "color": "#C7BBB3",
          "width": 2
         },
         "mode": "lines",
         "name": "Denmark",
         "showlegend": false,
         "type": "scatter",
         "x": [
          0,
          1,
          2,
          3,
          4,
          5,
          6,
          7,
          8,
          9,
          10,
          11,
          12,
          13,
          14
         ],
         "y": [
          3.2857142857142856,
          4,
          4.285714285714286,
          5,
          6.142857142857143,
          7.428571428571429,
          8.428571428571429,
          7.571428571428571,
          8.285714285714286,
          10,
          11.714285714285714,
          12.428571428571429,
          13.714285714285714,
          15.285714285714286,
          15.714285714285714
         ]
        },
        {
         "line": {
          "color": "#C7BBB3",
          "width": 2
         },
         "mode": "markers",
         "name": "Denmark",
         "showlegend": false,
         "type": "scatter",
         "x": [
          14
         ],
         "y": [
          15.714285714285714
         ]
        },
        {
         "line": {
          "color": "#C7BBB3",
          "width": 2
         },
         "mode": "lines",
         "name": "Dominican Republic",
         "showlegend": false,
         "type": "scatter",
         "x": [
          0,
          1,
          2,
          3,
          4,
          5,
          6,
          7,
          8,
          9
         ],
         "y": [
          3.5714285714285716,
          5.142857142857143,
          5.571428571428571,
          6.428571428571429,
          6.714285714285714,
          7.142857142857143,
          6.857142857142857,
          7,
          6.142857142857143,
          6.285714285714286
         ]
        },
        {
         "line": {
          "color": "#C7BBB3",
          "width": 2
         },
         "mode": "markers",
         "name": "Dominican Republic",
         "showlegend": false,
         "type": "scatter",
         "x": [
          9
         ],
         "y": [
          6.285714285714286
         ]
        },
        {
         "line": {
          "color": "#C7BBB3",
          "width": 2
         },
         "mode": "lines",
         "name": "Ecuador",
         "showlegend": false,
         "type": "scatter",
         "x": [
          0,
          1,
          2,
          3,
          4,
          5,
          6,
          7,
          8,
          9,
          10,
          11,
          12,
          13
         ],
         "y": [
          3.5714285714285716,
          3.7142857142857144,
          4.428571428571429,
          4.857142857142857,
          5.857142857142857,
          6.285714285714286,
          6.285714285714286,
          7.428571428571429,
          13,
          12.285714285714286,
          14.857142857142858,
          17.714285714285715,
          17.428571428571427,
          18.428571428571427
         ]
        },
        {
         "line": {
          "color": "#C7BBB3",
          "width": 2
         },
         "mode": "markers",
         "name": "Ecuador",
         "showlegend": false,
         "type": "scatter",
         "x": [
          13
         ],
         "y": [
          18.428571428571427
         ]
        },
        {
         "line": {
          "color": "#C7BBB3",
          "width": 2
         },
         "mode": "lines",
         "name": "Egypt",
         "showlegend": false,
         "type": "scatter",
         "x": [
          0,
          1,
          2,
          3,
          4,
          5,
          6,
          7,
          8,
          9
         ],
         "y": [
          3.142857142857143,
          3.7142857142857144,
          3.7142857142857144,
          3.142857142857143,
          3.5714285714285716,
          4.428571428571429,
          4,
          5.142857142857143,
          5,
          5.428571428571429
         ]
        },
        {
         "line": {
          "color": "#C7BBB3",
          "width": 2
         },
         "mode": "markers",
         "name": "Egypt",
         "showlegend": false,
         "type": "scatter",
         "x": [
          9
         ],
         "y": [
          5.428571428571429
         ]
        },
        {
         "line": {
          "color": "#C7BBB3",
          "width": 2
         },
         "mode": "lines",
         "name": "Greece",
         "showlegend": false,
         "type": "scatter",
         "x": [
          0,
          1,
          2,
          3,
          4,
          5,
          6,
          7,
          8,
          9,
          10,
          11
         ],
         "y": [
          3,
          2.857142857142857,
          2.7142857142857144,
          3.2857142857142856,
          3.7142857142857144,
          4.142857142857143,
          4,
          3.857142857142857,
          4.428571428571429,
          5.142857142857143,
          5,
          5.142857142857143
         ]
        },
        {
         "line": {
          "color": "#C7BBB3",
          "width": 2
         },
         "mode": "markers",
         "name": "Greece",
         "showlegend": false,
         "type": "scatter",
         "x": [
          11
         ],
         "y": [
          5.142857142857143
         ]
        },
        {
         "line": {
          "color": "#C7BBB3",
          "width": 2
         },
         "mode": "lines",
         "name": "Hungary",
         "showlegend": false,
         "type": "scatter",
         "x": [
          0,
          1,
          2,
          3
         ],
         "y": [
          3,
          3,
          3.2857142857142856,
          4.571428571428571
         ]
        },
        {
         "line": {
          "color": "#C7BBB3",
          "width": 2
         },
         "mode": "markers",
         "name": "Hungary",
         "showlegend": false,
         "type": "scatter",
         "x": [
          3
         ],
         "y": [
          4.571428571428571
         ]
        },
        {
         "line": {
          "color": "#C7BBB3",
          "width": 2
         },
         "mode": "lines",
         "name": "India",
         "showlegend": false,
         "type": "scatter",
         "x": [
          0,
          1,
          2,
          3,
          4,
          5,
          6,
          7,
          8,
          9
         ],
         "y": [
          3,
          3.142857142857143,
          3.2857142857142856,
          3.7142857142857144,
          5.285714285714286,
          5.571428571428571,
          7,
          7.428571428571429,
          11.428571428571429,
          11.714285714285714
         ]
        },
        {
         "line": {
          "color": "#C7BBB3",
          "width": 2
         },
         "mode": "markers",
         "name": "India",
         "showlegend": false,
         "type": "scatter",
         "x": [
          9
         ],
         "y": [
          11.714285714285714
         ]
        },
        {
         "line": {
          "color": "#C7BBB3",
          "width": 2
         },
         "mode": "lines",
         "name": "Indonesia",
         "showlegend": false,
         "type": "scatter",
         "x": [
          0,
          1,
          2,
          3,
          4,
          5,
          6,
          7,
          8,
          9,
          10,
          11,
          12,
          13,
          14,
          15,
          16,
          17
         ],
         "y": [
          3,
          4.857142857142857,
          6.142857142857143,
          6.285714285714286,
          7.142857142857143,
          7.571428571428571,
          8.428571428571429,
          8.857142857142858,
          9.142857142857142,
          9.428571428571429,
          10.428571428571429,
          11.571428571428571,
          14.142857142857142,
          13.142857142857142,
          13.428571428571429,
          12.714285714285714,
          12,
          12.428571428571429
         ]
        },
        {
         "line": {
          "color": "#C7BBB3",
          "width": 2
         },
         "mode": "markers",
         "name": "Indonesia",
         "showlegend": false,
         "type": "scatter",
         "x": [
          17
         ],
         "y": [
          12.428571428571429
         ]
        },
        {
         "line": {
          "color": "#C7BBB3",
          "width": 2
         },
         "mode": "lines",
         "name": "Iran",
         "showlegend": false,
         "type": "scatter",
         "x": [
          0,
          1,
          2,
          3,
          4,
          5,
          6,
          7,
          8,
          9,
          10,
          11,
          12,
          13,
          14,
          15,
          16,
          17,
          18,
          19,
          20,
          21,
          22,
          23,
          24,
          25,
          26,
          27,
          28,
          29,
          30,
          31,
          32,
          33,
          34,
          35,
          36,
          37,
          38,
          39
         ],
         "y": [
          3.4285714285714284,
          4.285714285714286,
          5.428571428571429,
          6.571428571428571,
          7.714285714285714,
          8.857142857142858,
          10.428571428571429,
          11.571428571428571,
          12.857142857142858,
          14.571428571428571,
          20,
          24.428571428571427,
          30.571428571428573,
          37.42857142857143,
          46,
          55.714285714285715,
          66.57142857142857,
          75.71428571428571,
          88,
          99.57142857142857,
          111.57142857142857,
          122.14285714285714,
          131.28571428571428,
          135,
          137.28571428571428,
          137,
          135.14285714285714,
          134.57142857142858,
          135.71428571428572,
          135,
          137.28571428571428,
          136.42857142857142,
          135,
          137.71428571428572,
          137,
          132.28571428571428,
          111.71428571428571,
          133.57142857142858,
          137.57142857142858,
          140.28571428571428
         ]
        },
        {
         "line": {
          "color": "#C7BBB3",
          "width": 2
         },
         "mode": "markers",
         "name": "Iran",
         "showlegend": false,
         "type": "scatter",
         "x": [
          39
         ],
         "y": [
          140.28571428571428
         ]
        },
        {
         "line": {
          "color": "#C7BBB3",
          "width": 2
         },
         "mode": "lines",
         "name": "Iraq",
         "showlegend": false,
         "type": "scatter",
         "x": [
          0,
          1,
          2,
          3,
          4,
          5,
          6,
          7,
          8,
          9,
          10,
          11
         ],
         "y": [
          3.4285714285714284,
          3.7142857142857144,
          3.5714285714285716,
          3.142857142857143,
          3.2857142857142856,
          3.2857142857142856,
          3,
          2.5714285714285716,
          2,
          2,
          2.7142857142857144,
          2.5714285714285716
         ]
        },
        {
         "line": {
          "color": "#C7BBB3",
          "width": 2
         },
         "mode": "markers",
         "name": "Iraq",
         "showlegend": false,
         "type": "scatter",
         "x": [
          11
         ],
         "y": [
          2.5714285714285716
         ]
        },
        {
         "line": {
          "color": "#C7BBB3",
          "width": 2
         },
         "mode": "lines",
         "name": "Ireland",
         "showlegend": false,
         "type": "scatter",
         "x": [
          0,
          1,
          2,
          3,
          4,
          5,
          6,
          7,
          8,
          9
         ],
         "y": [
          4.714285714285714,
          6,
          6.857142857142857,
          9.142857142857142,
          10.857142857142858,
          11.285714285714286,
          14,
          14.428571428571429,
          16,
          17.142857142857142
         ]
        },
        {
         "line": {
          "color": "#C7BBB3",
          "width": 2
         },
         "mode": "markers",
         "name": "Ireland",
         "showlegend": false,
         "type": "scatter",
         "x": [
          9
         ],
         "y": [
          17.142857142857142
         ]
        },
        {
         "line": {
          "color": "#C7BBB3",
          "width": 2
         },
         "mode": "lines",
         "name": "Israel",
         "showlegend": false,
         "type": "scatter",
         "x": [
          0,
          1,
          2,
          3,
          4
         ],
         "y": [
          3.7142857142857144,
          4.142857142857143,
          4.857142857142857,
          4.857142857142857,
          5.714285714285714
         ]
        },
        {
         "line": {
          "color": "#C7BBB3",
          "width": 2
         },
         "mode": "markers",
         "name": "Israel",
         "showlegend": false,
         "type": "scatter",
         "x": [
          4
         ],
         "y": [
          5.714285714285714
         ]
        },
        {
         "line": {
          "color": "#C7BBB3",
          "width": 2
         },
         "mode": "lines",
         "name": "Japan",
         "showlegend": false,
         "type": "scatter",
         "x": [
          0
         ],
         "y": [
          3.4285714285714284
         ]
        },
        {
         "line": {
          "color": "#C7BBB3",
          "width": 2
         },
         "mode": "markers",
         "name": "Japan",
         "showlegend": false,
         "type": "scatter",
         "x": [
          0
         ],
         "y": [
          3.4285714285714284
         ]
        },
        {
         "line": {
          "color": "#C7BBB3",
          "width": 2
         },
         "mode": "lines",
         "name": "Luxembourg",
         "showlegend": false,
         "type": "scatter",
         "x": [
          0,
          1,
          2,
          3,
          4,
          5
         ],
         "y": [
          3,
          3,
          2.2857142857142856,
          1.8571428571428572,
          2.142857142857143,
          2.7142857142857144
         ]
        },
        {
         "line": {
          "color": "#C7BBB3",
          "width": 2
         },
         "mode": "markers",
         "name": "Luxembourg",
         "showlegend": false,
         "type": "scatter",
         "x": [
          5
         ],
         "y": [
          2.7142857142857144
         ]
        },
        {
         "line": {
          "color": "#C7BBB3",
          "width": 2
         },
         "mode": "lines",
         "name": "Malaysia",
         "showlegend": false,
         "type": "scatter",
         "x": [
          0,
          1,
          2,
          3,
          4,
          5,
          6,
          7,
          8,
          9,
          10,
          11
         ],
         "y": [
          3,
          3.4285714285714284,
          3.2857142857142856,
          3.4285714285714284,
          3.2857142857142856,
          3.142857142857143,
          3.7142857142857144,
          3.857142857142857,
          3.857142857142857,
          4.285714285714286,
          3.857142857142857,
          3.5714285714285716
         ]
        },
        {
         "line": {
          "color": "#C7BBB3",
          "width": 2
         },
         "mode": "markers",
         "name": "Malaysia",
         "showlegend": false,
         "type": "scatter",
         "x": [
          11
         ],
         "y": [
          3.5714285714285716
         ]
        },
        {
         "line": {
          "color": "#C7BBB3",
          "width": 2
         },
         "mode": "lines",
         "name": "Mexico",
         "showlegend": false,
         "type": "scatter",
         "x": [
          0,
          1,
          2,
          3,
          4,
          5,
          6,
          7
         ],
         "y": [
          3.4285714285714284,
          3.4285714285714284,
          4.571428571428571,
          4.142857142857143,
          6.857142857142857,
          9,
          10.571428571428571,
          13.857142857142858
         ]
        },
        {
         "line": {
          "color": "#C7BBB3",
          "width": 2
         },
         "mode": "markers",
         "name": "Mexico",
         "showlegend": false,
         "type": "scatter",
         "x": [
          7
         ],
         "y": [
          13.857142857142858
         ]
        },
        {
         "line": {
          "color": "#C7BBB3",
          "width": 2
         },
         "mode": "lines",
         "name": "Morocco",
         "showlegend": false,
         "type": "scatter",
         "x": [
          0,
          1,
          2,
          3,
          4,
          5,
          6,
          7,
          8
         ],
         "y": [
          3.142857142857143,
          4.142857142857143,
          4.428571428571429,
          4.714285714285714,
          4.857142857142857,
          3,
          5.142857142857143,
          6.285714285714286,
          6.714285714285714
         ]
        },
        {
         "line": {
          "color": "#C7BBB3",
          "width": 2
         },
         "mode": "markers",
         "name": "Morocco",
         "showlegend": false,
         "type": "scatter",
         "x": [
          8
         ],
         "y": [
          6.714285714285714
         ]
        },
        {
         "line": {
          "color": "#C7BBB3",
          "width": 2
         },
         "mode": "lines",
         "name": "Netherlands",
         "showlegend": false,
         "type": "scatter",
         "x": [
          0,
          1,
          2,
          3,
          4,
          5,
          6,
          7,
          8,
          9,
          10,
          11,
          12,
          13,
          14,
          15,
          16,
          17,
          18,
          19,
          20,
          21
         ],
         "y": [
          3,
          5.571428571428571,
          7.571428571428571,
          10.142857142857142,
          14.428571428571429,
          17.714285714285715,
          22.714285714285715,
          27,
          33.285714285714285,
          42.57142857142857,
          51.142857142857146,
          62.857142857142854,
          71.85714285714286,
          84.57142857142857,
          93,
          109,
          116.71428571428571,
          129.28571428571428,
          134.42857142857142,
          144.57142857142858,
          142.14285714285714,
          143.28571428571428
         ]
        },
        {
         "line": {
          "color": "#C7BBB3",
          "width": 2
         },
         "mode": "markers",
         "name": "Netherlands",
         "showlegend": false,
         "type": "scatter",
         "x": [
          21
         ],
         "y": [
          143.28571428571428
         ]
        },
        {
         "line": {
          "color": "#C7BBB3",
          "width": 2
         },
         "mode": "lines",
         "name": "Norway",
         "showlegend": false,
         "type": "scatter",
         "x": [
          0,
          1,
          2,
          3,
          4
         ],
         "y": [
          4,
          4,
          4.285714285714286,
          5.142857142857143,
          4.714285714285714
         ]
        },
        {
         "line": {
          "color": "#C7BBB3",
          "width": 2
         },
         "mode": "markers",
         "name": "Norway",
         "showlegend": false,
         "type": "scatter",
         "x": [
          4
         ],
         "y": [
          4.714285714285714
         ]
        },
        {
         "line": {
          "color": "#C7BBB3",
          "width": 2
         },
         "mode": "lines",
         "name": "Pakistan",
         "showlegend": false,
         "type": "scatter",
         "x": [
          0,
          1,
          2,
          3,
          4,
          5
         ],
         "y": [
          3.2857142857142856,
          3.142857142857143,
          3.142857142857143,
          3.4285714285714284,
          5.285714285714286,
          5.142857142857143
         ]
        },
        {
         "line": {
          "color": "#C7BBB3",
          "width": 2
         },
         "mode": "markers",
         "name": "Pakistan",
         "showlegend": false,
         "type": "scatter",
         "x": [
          5
         ],
         "y": [
          5.142857142857143
         ]
        },
        {
         "line": {
          "color": "#C7BBB3",
          "width": 2
         },
         "mode": "lines",
         "name": "Panama",
         "showlegend": false,
         "type": "scatter",
         "x": [
          0,
          1,
          2,
          3,
          4,
          5,
          6,
          7,
          8
         ],
         "y": [
          3,
          2.857142857142857,
          3.4285714285714284,
          3.7142857142857144,
          4,
          3.857142857142857,
          4.142857142857143,
          4.285714285714286,
          4.142857142857143
         ]
        },
        {
         "line": {
          "color": "#C7BBB3",
          "width": 2
         },
         "mode": "markers",
         "name": "Panama",
         "showlegend": false,
         "type": "scatter",
         "x": [
          8
         ],
         "y": [
          4.142857142857143
         ]
        },
        {
         "line": {
          "color": "#C7BBB3",
          "width": 2
         },
         "mode": "lines",
         "name": "Peru",
         "showlegend": false,
         "type": "scatter",
         "x": [
          0,
          1,
          2,
          3,
          4,
          5,
          6
         ],
         "y": [
          3.2857142857142856,
          5.571428571428571,
          6.571428571428571,
          7.142857142857143,
          8.142857142857142,
          9.285714285714286,
          9.714285714285714
         ]
        },
        {
         "line": {
          "color": "#C7BBB3",
          "width": 2
         },
         "mode": "markers",
         "name": "Peru",
         "showlegend": false,
         "type": "scatter",
         "x": [
          6
         ],
         "y": [
          9.714285714285714
         ]
        },
        {
         "line": {
          "color": "#C7BBB3",
          "width": 2
         },
         "mode": "lines",
         "name": "Philippines",
         "showlegend": false,
         "type": "scatter",
         "x": [
          0,
          1,
          2,
          3,
          4,
          5,
          6,
          7,
          8,
          9,
          10,
          11,
          12,
          13,
          14
         ],
         "y": [
          3,
          3,
          3,
          3.857142857142857,
          5.142857142857143,
          6.142857142857143,
          6.571428571428571,
          7.857142857142857,
          7.571428571428571,
          8.285714285714286,
          8.857142857142858,
          11.714285714285714,
          10.857142857142858,
          11.571428571428571,
          10.714285714285714
         ]
        },
        {
         "line": {
          "color": "#C7BBB3",
          "width": 2
         },
         "mode": "markers",
         "name": "Philippines",
         "showlegend": false,
         "type": "scatter",
         "x": [
          14
         ],
         "y": [
          10.714285714285714
         ]
        },
        {
         "line": {
          "color": "#C7BBB3",
          "width": 2
         },
         "mode": "lines",
         "name": "Poland",
         "showlegend": false,
         "type": "scatter",
         "x": [
          0,
          1,
          2,
          3,
          4,
          5,
          6,
          7
         ],
         "y": [
          3.2857142857142856,
          3.2857142857142856,
          4.142857142857143,
          5.857142857142857,
          7.857142857142857,
          8.714285714285714,
          10.285714285714286,
          10.857142857142858
         ]
        },
        {
         "line": {
          "color": "#C7BBB3",
          "width": 2
         },
         "mode": "markers",
         "name": "Poland",
         "showlegend": false,
         "type": "scatter",
         "x": [
          7
         ],
         "y": [
          10.857142857142858
         ]
        },
        {
         "line": {
          "color": "#C7BBB3",
          "width": 2
         },
         "mode": "lines",
         "name": "Portugal",
         "showlegend": false,
         "type": "scatter",
         "x": [
          0,
          1,
          2,
          3,
          4,
          5,
          6,
          7,
          8,
          9,
          10,
          11,
          12,
          13,
          14
         ],
         "y": [
          3.2857142857142856,
          4.571428571428571,
          5.857142857142857,
          8.142857142857142,
          10,
          12.571428571428571,
          15,
          16.714285714285715,
          18.142857142857142,
          20.571428571428573,
          21.285714285714285,
          24.285714285714285,
          23.714285714285715,
          25.142857142857142,
          24.428571428571427
         ]
        },
        {
         "line": {
          "color": "#C7BBB3",
          "width": 2
         },
         "mode": "markers",
         "name": "Portugal",
         "showlegend": false,
         "type": "scatter",
         "x": [
          14
         ],
         "y": [
          24.428571428571427
         ]
        },
        {
         "line": {
          "color": "#C7BBB3",
          "width": 2
         },
         "mode": "lines",
         "name": "Romania",
         "showlegend": false,
         "type": "scatter",
         "x": [
          0,
          1,
          2,
          3,
          4,
          5,
          6,
          7,
          8,
          9,
          10
         ],
         "y": [
          3.4285714285714284,
          4.142857142857143,
          5.428571428571429,
          5.285714285714286,
          8.285714285714286,
          10.285714285714286,
          11,
          15.571428571428571,
          16,
          15.428571428571429,
          16.142857142857142
         ]
        },
        {
         "line": {
          "color": "#C7BBB3",
          "width": 2
         },
         "mode": "markers",
         "name": "Romania",
         "showlegend": false,
         "type": "scatter",
         "x": [
          10
         ],
         "y": [
          16.142857142857142
         ]
        },
        {
         "line": {
          "color": "#C7BBB3",
          "width": 2
         },
         "mode": "lines",
         "name": "Russia",
         "showlegend": false,
         "type": "scatter",
         "x": [
          0,
          1,
          2,
          3,
          4,
          5
         ],
         "y": [
          3.4285714285714284,
          4,
          4.285714285714286,
          5.428571428571429,
          5.285714285714286,
          5.285714285714286
         ]
        },
        {
         "line": {
          "color": "#C7BBB3",
          "width": 2
         },
         "mode": "markers",
         "name": "Russia",
         "showlegend": false,
         "type": "scatter",
         "x": [
          5
         ],
         "y": [
          5.285714285714286
         ]
        },
        {
         "line": {
          "color": "#C7BBB3",
          "width": 2
         },
         "mode": "lines",
         "name": "Saudi Arabia",
         "showlegend": false,
         "type": "scatter",
         "x": [
          0,
          1,
          2
         ],
         "y": [
          3.5714285714285716,
          3.7142857142857144,
          4.285714285714286
         ]
        },
        {
         "line": {
          "color": "#C7BBB3",
          "width": 2
         },
         "mode": "markers",
         "name": "Saudi Arabia",
         "showlegend": false,
         "type": "scatter",
         "x": [
          2
         ],
         "y": [
          4.285714285714286
         ]
        },
        {
         "line": {
          "color": "#C7BBB3",
          "width": 2
         },
         "mode": "lines",
         "name": "Serbia",
         "showlegend": false,
         "type": "scatter",
         "x": [
          0,
          1,
          2,
          3,
          4,
          5,
          6
         ],
         "y": [
          3.142857142857143,
          3,
          4,
          4.714285714285714,
          4.857142857142857,
          5.428571428571429,
          6.428571428571429
         ]
        },
        {
         "line": {
          "color": "#C7BBB3",
          "width": 2
         },
         "mode": "markers",
         "name": "Serbia",
         "showlegend": false,
         "type": "scatter",
         "x": [
          6
         ],
         "y": [
          6.428571428571429
         ]
        },
        {
         "line": {
          "color": "#C7BBB3",
          "width": 2
         },
         "mode": "lines",
         "name": "Sweden",
         "showlegend": false,
         "type": "scatter",
         "x": [
          0,
          1,
          2,
          3,
          4,
          5,
          6,
          7,
          8,
          9,
          10,
          11,
          12,
          13
         ],
         "y": [
          4,
          4.571428571428571,
          8,
          10.857142857142858,
          11.714285714285714,
          12.714285714285714,
          17.285714285714285,
          20.571428571428573,
          28.142857142857142,
          30.857142857142858,
          34.42857142857143,
          38.714285714285715,
          41.57142857142857,
          47.285714285714285
         ]
        },
        {
         "line": {
          "color": "#C7BBB3",
          "width": 2
         },
         "mode": "markers",
         "name": "Sweden",
         "showlegend": false,
         "type": "scatter",
         "x": [
          13
         ],
         "y": [
          47.285714285714285
         ]
        },
        {
         "line": {
          "color": "#C7BBB3",
          "width": 2
         },
         "mode": "lines",
         "name": "Switzerland",
         "showlegend": false,
         "type": "scatter",
         "x": [
          0,
          1,
          2,
          3,
          4,
          5,
          6,
          7,
          8,
          9,
          10,
          11,
          12,
          13,
          14,
          15,
          16,
          17,
          18
         ],
         "y": [
          4.142857142857143,
          5.142857142857143,
          6.428571428571429,
          6.714285714285714,
          7.428571428571429,
          9.571428571428571,
          11.714285714285714,
          18.285714285714285,
          22,
          25.571428571428573,
          28.142857142857142,
          32.714285714285715,
          41,
          39.285714285714285,
          38.714285714285715,
          41,
          43.57142857142857,
          43.142857142857146,
          41.285714285714285
         ]
        },
        {
         "line": {
          "color": "#C7BBB3",
          "width": 2
         },
         "mode": "markers",
         "name": "Switzerland",
         "showlegend": false,
         "type": "scatter",
         "x": [
          18
         ],
         "y": [
          41.285714285714285
         ]
        },
        {
         "line": {
          "color": "#C7BBB3",
          "width": 2
         },
         "mode": "lines",
         "name": "Turkey",
         "showlegend": false,
         "type": "scatter",
         "x": [
          0,
          1,
          2,
          3,
          4,
          5,
          6,
          7,
          8,
          9,
          10,
          11,
          12,
          13,
          14,
          15,
          16
         ],
         "y": [
          3,
          4.285714285714286,
          5.285714285714286,
          6.285714285714286,
          8.285714285714286,
          10.142857142857142,
          11.857142857142858,
          12.428571428571429,
          14.428571428571429,
          18.714285714285715,
          24.285714285714285,
          31.142857142857142,
          40.142857142857146,
          47.57142857142857,
          56.142857142857146,
          63.285714285714285,
          68.71428571428571
         ]
        },
        {
         "line": {
          "color": "#C7BBB3",
          "width": 2
         },
         "mode": "markers",
         "name": "Turkey",
         "showlegend": false,
         "type": "scatter",
         "x": [
          16
         ],
         "y": [
          68.71428571428571
         ]
        },
        {
         "line": {
          "color": "#C7BBB3",
          "width": 2
         },
         "mode": "lines",
         "name": "Ukraine",
         "showlegend": false,
         "type": "scatter",
         "x": [
          0,
          1
         ],
         "y": [
          3.2857142857142856,
          3.857142857142857
         ]
        },
        {
         "line": {
          "color": "#C7BBB3",
          "width": 2
         },
         "mode": "markers",
         "name": "Ukraine",
         "showlegend": false,
         "type": "scatter",
         "x": [
          1
         ],
         "y": [
          3.857142857142857
         ]
        },
        {
         "line": {
          "color": "#DA870C",
          "width": 2
         },
         "mode": "lines",
         "name": "China",
         "showlegend": false,
         "type": "scatter",
         "x": [
          0,
          1,
          2,
          3,
          4,
          5,
          6,
          7,
          8,
          9,
          10,
          11,
          12,
          13,
          14,
          15,
          16,
          17,
          18,
          19,
          20,
          21,
          22,
          23,
          24,
          25,
          26,
          27,
          28,
          29,
          30,
          31,
          32,
          33,
          34,
          35,
          36,
          37,
          38,
          39,
          40,
          41,
          42,
          43,
          44,
          45,
          46,
          47,
          48,
          49,
          50,
          51,
          52,
          53,
          54,
          55,
          56,
          57,
          58,
          59,
          60,
          61,
          62,
          63,
          64,
          65,
          66,
          67,
          68,
          69,
          70,
          71,
          72,
          73,
          74
         ],
         "y": [
          3.4285714285714284,
          5.571428571428571,
          7.571428571428571,
          11.142857142857142,
          14.285714285714286,
          16.428571428571427,
          21.857142857142858,
          26.714285714285715,
          31.142857142857142,
          35.42857142857143,
          40,
          45.714285714285715,
          51.42857142857143,
          56.285714285714285,
          60.57142857142857,
          66.28571428571429,
          72.57142857142857,
          78.28571428571429,
          84.42857142857143,
          88.85714285714286,
          114.85714285714286,
          106.28571428571429,
          114.42857142857143,
          122,
          123.14285714285714,
          121.71428571428571,
          127.71428571428571,
          107.42857142857143,
          122.42857142857143,
          117.57142857142857,
          111.28571428571429,
          117.71428571428571,
          113.71428571428571,
          101.28571428571429,
          89.42857142857143,
          78.85714285714286,
          70,
          61,
          45.57142857142857,
          40.142857142857146,
          38,
          38.285714285714285,
          36.285714285714285,
          33.57142857142857,
          32.42857142857143,
          29.714285714285715,
          27.571428571428573,
          25.428571428571427,
          22.571428571428573,
          19.285714285714285,
          17.428571428571427,
          14.857142857142858,
          13.428571428571429,
          12.285714285714286,
          11.428571428571429,
          11,
          10.571428571428571,
          9.285714285714286,
          8.857142857142858,
          8.285714285714286,
          8,
          6.285714285714286,
          6,
          6.142857142857143,
          5.714285714285714,
          5.571428571428571,
          4.571428571428571,
          4,
          3.5714285714285716,
          3.5714285714285716,
          4.285714285714286,
          4.428571428571429,
          4.142857142857143,
          4.142857142857143,
          3.7142857142857144
         ]
        },
        {
         "line": {
          "color": "#DA870C",
          "width": 2
         },
         "mode": "markers+text",
         "name": "China",
         "showlegend": false,
         "text": [
          "China"
         ],
         "textfont": {
          "color": "#DA870C",
          "family": "Metric",
          "size": 14
         },
         "textposition": "top right",
         "type": "scatter",
         "x": [
          74
         ],
         "y": [
          3.7142857142857144
         ]
        },
        {
         "line": {
          "color": "#208FCE",
          "width": 2
         },
         "mode": "lines",
         "name": "France",
         "showlegend": false,
         "type": "scatter",
         "x": [
          0,
          1,
          2,
          3,
          4,
          5,
          6,
          7,
          8,
          9,
          10,
          11,
          12,
          13,
          14,
          15,
          16,
          17,
          18,
          19,
          20,
          21,
          22,
          23,
          24,
          25,
          26,
          27,
          28
         ],
         "y": [
          3.857142857142857,
          4.142857142857143,
          6.285714285714286,
          7.714285714285714,
          10,
          11.571428571428571,
          15.428571428571429,
          16.857142857142858,
          20.285714285714285,
          28,
          44.42857142857143,
          53,
          67.28571428571429,
          78.14285714285714,
          101.71428571428571,
          132.14285714285714,
          155.28571428571428,
          189.14285714285714,
          220.71428571428572,
          250.28571428571428,
          276,
          309.14285714285717,
          346.14285714285717,
          385.85714285714283,
          401,
          644.5714285714286,
          749.4285714285714,
          781.7142857142857,
          841
         ]
        },
        {
         "line": {
          "color": "#208FCE",
          "width": 2
         },
         "mode": "markers+text",
         "name": "France",
         "showlegend": false,
         "text": [
          "France"
         ],
         "textfont": {
          "color": "#208FCE",
          "family": "Metric",
          "size": 14
         },
         "textposition": "top right",
         "type": "scatter",
         "x": [
          28
         ],
         "y": [
          841
         ]
        },
        {
         "line": {
          "color": "#79972A",
          "width": 2
         },
         "mode": "lines",
         "name": "Germany",
         "showlegend": false,
         "type": "scatter",
         "x": [
          0,
          1,
          2,
          3,
          4,
          5,
          6,
          7,
          8,
          9,
          10,
          11,
          12,
          13,
          14,
          15,
          16,
          17,
          18
         ],
         "y": [
          5.428571428571429,
          5.714285714285714,
          8.428571428571429,
          11.714285714285714,
          16.142857142857142,
          19.428571428571427,
          26.428571428571427,
          30,
          40,
          46,
          51.57142857142857,
          65.28571428571429,
          83.28571428571429,
          96.28571428571429,
          109.14285714285714,
          119,
          136.14285714285714,
          139.85714285714286,
          146.28571428571428
         ]
        },
        {
         "line": {
          "color": "#79972A",
          "width": 2
         },
         "mode": "markers+text",
         "name": "Germany",
         "showlegend": false,
         "text": [
          "Germany"
         ],
         "textfont": {
          "color": "#79972A",
          "family": "Metric",
          "size": 14
         },
         "textposition": "top right",
         "type": "scatter",
         "x": [
          18
         ],
         "y": [
          146.28571428571428
         ]
        },
        {
         "line": {
          "color": "#66605C",
          "width": 2
         },
         "mode": "lines",
         "name": "Italy",
         "showlegend": false,
         "type": "scatter",
         "x": [
          0,
          1,
          2,
          3,
          4,
          5,
          6,
          7,
          8,
          9,
          10,
          11,
          12,
          13,
          14,
          15,
          16,
          17,
          18,
          19,
          20,
          21,
          22,
          23,
          24,
          25,
          26,
          27,
          28,
          29,
          30,
          31,
          32,
          33,
          34,
          35,
          36,
          37,
          38
         ],
         "y": [
          3,
          3.857142857142857,
          4.714285714285714,
          6.571428571428571,
          9.857142857142858,
          13.571428571428571,
          18.714285714285715,
          25.142857142857142,
          29.142857142857142,
          47.285714285714285,
          58.857142857142854,
          78.71428571428571,
          102.85714285714286,
          124,
          153,
          172.57142857142858,
          206.42857142857142,
          242,
          267.7142857142857,
          307.2857142857143,
          341.57142857142856,
          394.85714285714283,
          483.7142857142857,
          523.5714285714286,
          559.8571428571429,
          616.4285714285714,
          646.7142857142857,
          679.7142857142857,
          729.1428571428571,
          742.2857142857143,
          757.8571428571429,
          787.7142857142857,
          801.4285714285714,
          807.4285714285714,
          821.7142857142857,
          792.1428571428571,
          762.7142857142857,
          729.7142857142857,
          704.8571428571429
         ]
        },
        {
         "line": {
          "color": "#66605C",
          "width": 2
         },
         "mode": "markers+text",
         "name": "Italy",
         "showlegend": false,
         "text": [
          "Italy"
         ],
         "textfont": {
          "color": "#66605C",
          "family": "Metric",
          "size": 14
         },
         "textposition": "top right",
         "type": "scatter",
         "x": [
          38
         ],
         "y": [
          704.8571428571429
         ]
        },
        {
         "line": {
          "color": "#72DCE6",
          "width": 2
         },
         "mode": "lines",
         "name": "South Korea",
         "showlegend": false,
         "type": "scatter",
         "x": [
          0,
          1,
          2,
          3,
          4,
          5,
          6,
          7,
          8,
          9,
          10,
          11,
          12,
          13,
          14,
          15,
          16,
          17,
          18,
          19,
          20,
          21,
          22,
          23,
          24,
          25,
          26,
          27,
          28,
          29,
          30,
          31,
          32,
          33,
          34
         ],
         "y": [
          3,
          3.2857142857142856,
          4.142857142857143,
          4,
          4.714285714285714,
          4.142857142857143,
          3.7142857142857144,
          4,
          4.428571428571429,
          3.5714285714285716,
          4,
          3.5714285714285716,
          3.4285714285714284,
          3.857142857142857,
          3.7142857142857144,
          3.5714285714285716,
          4.714285714285714,
          4.428571428571429,
          4.142857142857143,
          5.428571428571429,
          5.571428571428571,
          5.714285714285714,
          5.714285714285714,
          5.571428571428571,
          5.857142857142857,
          6.857142857142857,
          6.428571428571429,
          6.142857142857143,
          5.285714285714286,
          5.428571428571429,
          5,
          4.714285714285714,
          4.428571428571429,
          4,
          4.142857142857143
         ]
        },
        {
         "line": {
          "color": "#72DCE6",
          "width": 2
         },
         "mode": "markers+text",
         "name": "South Korea",
         "showlegend": false,
         "text": [
          "S Korea"
         ],
         "textfont": {
          "color": "#72DCE6",
          "family": "Metric",
          "size": 14
         },
         "textposition": "top right",
         "type": "scatter",
         "x": [
          34
         ],
         "y": [
          4.142857142857143
         ]
        },
        {
         "line": {
          "color": "#208FCE",
          "width": 2
         },
         "mode": "lines",
         "name": "Spain",
         "showlegend": false,
         "type": "scatter",
         "x": [
          0,
          1,
          2,
          3,
          4,
          5,
          6,
          7,
          8,
          9,
          10,
          11,
          12,
          13,
          14,
          15,
          16,
          17,
          18,
          19,
          20,
          21,
          22,
          23,
          24,
          25,
          26,
          27,
          28
         ],
         "y": [
          4,
          5,
          6.571428571428571,
          11.571428571428571,
          16.571428571428573,
          18.714285714285715,
          40.42857142857143,
          40.142857142857146,
          65.14285714285714,
          78.71428571428571,
          97.57142857142857,
          125.85714285714286,
          170,
          204.57142857142858,
          267.57142857142856,
          315,
          405.14285714285717,
          474.57142857142856,
          550.8571428571429,
          623.4285714285714,
          686.8571428571429,
          736.8571428571429,
          784.7142857142857,
          802.7142857142857,
          844.8571428571429,
          868.1428571428571,
          864.8571428571429,
          841.4285714285714,
          816.4285714285714
         ]
        },
        {
         "line": {
          "color": "#208FCE",
          "width": 2
         },
         "mode": "markers+text",
         "name": "Spain",
         "showlegend": false,
         "text": [
          "Spain"
         ],
         "textfont": {
          "color": "#208FCE",
          "family": "Metric",
          "size": 14
         },
         "textposition": "top left",
         "type": "scatter",
         "x": [
          28
         ],
         "y": [
          816.4285714285714
         ]
        },
        {
         "line": {
          "color": "#B3325D",
          "width": 2
         },
         "mode": "lines",
         "name": "United Kingdom",
         "showlegend": false,
         "type": "scatter",
         "x": [
          0,
          1,
          2,
          3,
          4,
          5,
          6,
          7,
          8,
          9,
          10,
          11,
          12,
          13,
          14,
          15,
          16,
          17,
          18,
          19,
          20,
          21,
          22
         ],
         "y": [
          4.571428571428571,
          7.142857142857143,
          7.714285714285714,
          13.857142857142858,
          19.142857142857142,
          23.857142857142858,
          30.285714285714285,
          35.142857142857146,
          40,
          51.714285714285715,
          51.42857142857143,
          62,
          83.14285714285714,
          112.28571428571429,
          135.28571428571428,
          153.28571428571428,
          195.28571428571428,
          295.57142857142856,
          334.7142857142857,
          406.57142857142856,
          470.57142857142856,
          529.4285714285714,
          566.4285714285714
         ]
        },
        {
         "line": {
          "color": "#B3325D",
          "width": 2
         },
         "mode": "markers+text",
         "name": "United Kingdom",
         "showlegend": false,
         "text": [
          "UK"
         ],
         "textfont": {
          "color": "#B3325D",
          "family": "Metric",
          "size": 14
         },
         "textposition": "top right",
         "type": "scatter",
         "x": [
          22
         ],
         "y": [
          566.4285714285714
         ]
        },
        {
         "line": {
          "color": "#EB5E8D",
          "width": 2
         },
         "mode": "lines",
         "name": "United States",
         "showlegend": false,
         "type": "scatter",
         "x": [
          0,
          1,
          2,
          3,
          4,
          5,
          6,
          7,
          8,
          9,
          10,
          11,
          12,
          13,
          14,
          15,
          16,
          17,
          18,
          19,
          20,
          21,
          22,
          23,
          24,
          25
         ],
         "y": [
          4,
          4.714285714285714,
          5.714285714285714,
          6.857142857142857,
          8.428571428571429,
          11.428571428571429,
          17.142857142857142,
          15.714285714285714,
          30.428571428571427,
          40.42857142857143,
          57.42857142857143,
          72.14285714285714,
          99,
          128.57142857142858,
          163.71428571428572,
          206.71428571428572,
          264.42857142857144,
          291.14285714285717,
          368.57142857142856,
          468.2857142857143,
          584,
          679.5714285714286,
          778.5714285714286,
          901.4285714285714,
          1019.7142857142857,
          1117
         ]
        },
        {
         "line": {
          "color": "#EB5E8D",
          "width": 2
         },
         "mode": "markers+text",
         "name": "United States",
         "showlegend": false,
         "text": [
          "US"
         ],
         "textfont": {
          "color": "#EB5E8D",
          "family": "Metric",
          "size": 14
         },
         "textposition": "top right",
         "type": "scatter",
         "x": [
          25
         ],
         "y": [
          1117
         ]
        }
       ],
       "layout": {
        "autosize": true,
        "template": {
         "data": {
          "bar": [
           {
            "error_x": {
             "color": "#2a3f5f"
            },
            "error_y": {
             "color": "#2a3f5f"
            },
            "marker": {
             "line": {
              "color": "#E5ECF6",
              "width": 0.5
             }
            },
            "type": "bar"
           }
          ],
          "barpolar": [
           {
            "marker": {
             "line": {
              "color": "#E5ECF6",
              "width": 0.5
             }
            },
            "type": "barpolar"
           }
          ],
          "carpet": [
           {
            "aaxis": {
             "endlinecolor": "#2a3f5f",
             "gridcolor": "white",
             "linecolor": "white",
             "minorgridcolor": "white",
             "startlinecolor": "#2a3f5f"
            },
            "baxis": {
             "endlinecolor": "#2a3f5f",
             "gridcolor": "white",
             "linecolor": "white",
             "minorgridcolor": "white",
             "startlinecolor": "#2a3f5f"
            },
            "type": "carpet"
           }
          ],
          "choropleth": [
           {
            "colorbar": {
             "outlinewidth": 0,
             "ticks": ""
            },
            "type": "choropleth"
           }
          ],
          "contour": [
           {
            "colorbar": {
             "outlinewidth": 0,
             "ticks": ""
            },
            "colorscale": [
             [
              0,
              "#0d0887"
             ],
             [
              0.1111111111111111,
              "#46039f"
             ],
             [
              0.2222222222222222,
              "#7201a8"
             ],
             [
              0.3333333333333333,
              "#9c179e"
             ],
             [
              0.4444444444444444,
              "#bd3786"
             ],
             [
              0.5555555555555556,
              "#d8576b"
             ],
             [
              0.6666666666666666,
              "#ed7953"
             ],
             [
              0.7777777777777778,
              "#fb9f3a"
             ],
             [
              0.8888888888888888,
              "#fdca26"
             ],
             [
              1,
              "#f0f921"
             ]
            ],
            "type": "contour"
           }
          ],
          "contourcarpet": [
           {
            "colorbar": {
             "outlinewidth": 0,
             "ticks": ""
            },
            "type": "contourcarpet"
           }
          ],
          "heatmap": [
           {
            "colorbar": {
             "outlinewidth": 0,
             "ticks": ""
            },
            "colorscale": [
             [
              0,
              "#0d0887"
             ],
             [
              0.1111111111111111,
              "#46039f"
             ],
             [
              0.2222222222222222,
              "#7201a8"
             ],
             [
              0.3333333333333333,
              "#9c179e"
             ],
             [
              0.4444444444444444,
              "#bd3786"
             ],
             [
              0.5555555555555556,
              "#d8576b"
             ],
             [
              0.6666666666666666,
              "#ed7953"
             ],
             [
              0.7777777777777778,
              "#fb9f3a"
             ],
             [
              0.8888888888888888,
              "#fdca26"
             ],
             [
              1,
              "#f0f921"
             ]
            ],
            "type": "heatmap"
           }
          ],
          "heatmapgl": [
           {
            "colorbar": {
             "outlinewidth": 0,
             "ticks": ""
            },
            "colorscale": [
             [
              0,
              "#0d0887"
             ],
             [
              0.1111111111111111,
              "#46039f"
             ],
             [
              0.2222222222222222,
              "#7201a8"
             ],
             [
              0.3333333333333333,
              "#9c179e"
             ],
             [
              0.4444444444444444,
              "#bd3786"
             ],
             [
              0.5555555555555556,
              "#d8576b"
             ],
             [
              0.6666666666666666,
              "#ed7953"
             ],
             [
              0.7777777777777778,
              "#fb9f3a"
             ],
             [
              0.8888888888888888,
              "#fdca26"
             ],
             [
              1,
              "#f0f921"
             ]
            ],
            "type": "heatmapgl"
           }
          ],
          "histogram": [
           {
            "marker": {
             "colorbar": {
              "outlinewidth": 0,
              "ticks": ""
             }
            },
            "type": "histogram"
           }
          ],
          "histogram2d": [
           {
            "colorbar": {
             "outlinewidth": 0,
             "ticks": ""
            },
            "colorscale": [
             [
              0,
              "#0d0887"
             ],
             [
              0.1111111111111111,
              "#46039f"
             ],
             [
              0.2222222222222222,
              "#7201a8"
             ],
             [
              0.3333333333333333,
              "#9c179e"
             ],
             [
              0.4444444444444444,
              "#bd3786"
             ],
             [
              0.5555555555555556,
              "#d8576b"
             ],
             [
              0.6666666666666666,
              "#ed7953"
             ],
             [
              0.7777777777777778,
              "#fb9f3a"
             ],
             [
              0.8888888888888888,
              "#fdca26"
             ],
             [
              1,
              "#f0f921"
             ]
            ],
            "type": "histogram2d"
           }
          ],
          "histogram2dcontour": [
           {
            "colorbar": {
             "outlinewidth": 0,
             "ticks": ""
            },
            "colorscale": [
             [
              0,
              "#0d0887"
             ],
             [
              0.1111111111111111,
              "#46039f"
             ],
             [
              0.2222222222222222,
              "#7201a8"
             ],
             [
              0.3333333333333333,
              "#9c179e"
             ],
             [
              0.4444444444444444,
              "#bd3786"
             ],
             [
              0.5555555555555556,
              "#d8576b"
             ],
             [
              0.6666666666666666,
              "#ed7953"
             ],
             [
              0.7777777777777778,
              "#fb9f3a"
             ],
             [
              0.8888888888888888,
              "#fdca26"
             ],
             [
              1,
              "#f0f921"
             ]
            ],
            "type": "histogram2dcontour"
           }
          ],
          "mesh3d": [
           {
            "colorbar": {
             "outlinewidth": 0,
             "ticks": ""
            },
            "type": "mesh3d"
           }
          ],
          "parcoords": [
           {
            "line": {
             "colorbar": {
              "outlinewidth": 0,
              "ticks": ""
             }
            },
            "type": "parcoords"
           }
          ],
          "scatter": [
           {
            "marker": {
             "colorbar": {
              "outlinewidth": 0,
              "ticks": ""
             }
            },
            "type": "scatter"
           }
          ],
          "scatter3d": [
           {
            "line": {
             "colorbar": {
              "outlinewidth": 0,
              "ticks": ""
             }
            },
            "marker": {
             "colorbar": {
              "outlinewidth": 0,
              "ticks": ""
             }
            },
            "type": "scatter3d"
           }
          ],
          "scattercarpet": [
           {
            "marker": {
             "colorbar": {
              "outlinewidth": 0,
              "ticks": ""
             }
            },
            "type": "scattercarpet"
           }
          ],
          "scattergeo": [
           {
            "marker": {
             "colorbar": {
              "outlinewidth": 0,
              "ticks": ""
             }
            },
            "type": "scattergeo"
           }
          ],
          "scattergl": [
           {
            "marker": {
             "colorbar": {
              "outlinewidth": 0,
              "ticks": ""
             }
            },
            "type": "scattergl"
           }
          ],
          "scattermapbox": [
           {
            "marker": {
             "colorbar": {
              "outlinewidth": 0,
              "ticks": ""
             }
            },
            "type": "scattermapbox"
           }
          ],
          "scatterpolar": [
           {
            "marker": {
             "colorbar": {
              "outlinewidth": 0,
              "ticks": ""
             }
            },
            "type": "scatterpolar"
           }
          ],
          "scatterpolargl": [
           {
            "marker": {
             "colorbar": {
              "outlinewidth": 0,
              "ticks": ""
             }
            },
            "type": "scatterpolargl"
           }
          ],
          "scatterternary": [
           {
            "marker": {
             "colorbar": {
              "outlinewidth": 0,
              "ticks": ""
             }
            },
            "type": "scatterternary"
           }
          ],
          "surface": [
           {
            "colorbar": {
             "outlinewidth": 0,
             "ticks": ""
            },
            "colorscale": [
             [
              0,
              "#0d0887"
             ],
             [
              0.1111111111111111,
              "#46039f"
             ],
             [
              0.2222222222222222,
              "#7201a8"
             ],
             [
              0.3333333333333333,
              "#9c179e"
             ],
             [
              0.4444444444444444,
              "#bd3786"
             ],
             [
              0.5555555555555556,
              "#d8576b"
             ],
             [
              0.6666666666666666,
              "#ed7953"
             ],
             [
              0.7777777777777778,
              "#fb9f3a"
             ],
             [
              0.8888888888888888,
              "#fdca26"
             ],
             [
              1,
              "#f0f921"
             ]
            ],
            "type": "surface"
           }
          ],
          "table": [
           {
            "cells": {
             "fill": {
              "color": "#EBF0F8"
             },
             "line": {
              "color": "white"
             }
            },
            "header": {
             "fill": {
              "color": "#C8D4E3"
             },
             "line": {
              "color": "white"
             }
            },
            "type": "table"
           }
          ]
         },
         "layout": {
          "annotationdefaults": {
           "arrowcolor": "#2a3f5f",
           "arrowhead": 0,
           "arrowwidth": 1
          },
          "colorscale": {
           "diverging": [
            [
             0,
             "#8e0152"
            ],
            [
             0.1,
             "#c51b7d"
            ],
            [
             0.2,
             "#de77ae"
            ],
            [
             0.3,
             "#f1b6da"
            ],
            [
             0.4,
             "#fde0ef"
            ],
            [
             0.5,
             "#f7f7f7"
            ],
            [
             0.6,
             "#e6f5d0"
            ],
            [
             0.7,
             "#b8e186"
            ],
            [
             0.8,
             "#7fbc41"
            ],
            [
             0.9,
             "#4d9221"
            ],
            [
             1,
             "#276419"
            ]
           ],
           "sequential": [
            [
             0,
             "#0d0887"
            ],
            [
             0.1111111111111111,
             "#46039f"
            ],
            [
             0.2222222222222222,
             "#7201a8"
            ],
            [
             0.3333333333333333,
             "#9c179e"
            ],
            [
             0.4444444444444444,
             "#bd3786"
            ],
            [
             0.5555555555555556,
             "#d8576b"
            ],
            [
             0.6666666666666666,
             "#ed7953"
            ],
            [
             0.7777777777777778,
             "#fb9f3a"
            ],
            [
             0.8888888888888888,
             "#fdca26"
            ],
            [
             1,
             "#f0f921"
            ]
           ],
           "sequentialminus": [
            [
             0,
             "#0d0887"
            ],
            [
             0.1111111111111111,
             "#46039f"
            ],
            [
             0.2222222222222222,
             "#7201a8"
            ],
            [
             0.3333333333333333,
             "#9c179e"
            ],
            [
             0.4444444444444444,
             "#bd3786"
            ],
            [
             0.5555555555555556,
             "#d8576b"
            ],
            [
             0.6666666666666666,
             "#ed7953"
            ],
            [
             0.7777777777777778,
             "#fb9f3a"
            ],
            [
             0.8888888888888888,
             "#fdca26"
            ],
            [
             1,
             "#f0f921"
            ]
           ]
          },
          "colorway": [
           "#636efa",
           "#EF553B",
           "#00cc96",
           "#ab63fa",
           "#FFA15A",
           "#19d3f3",
           "#FF6692",
           "#B6E880",
           "#FF97FF",
           "#FECB52"
          ],
          "font": {
           "color": "#2a3f5f"
          },
          "geo": {
           "bgcolor": "white",
           "lakecolor": "white",
           "landcolor": "#E5ECF6",
           "showlakes": true,
           "showland": true,
           "subunitcolor": "white"
          },
          "hoverlabel": {
           "align": "left"
          },
          "hovermode": "closest",
          "mapbox": {
           "style": "light"
          },
          "paper_bgcolor": "white",
          "plot_bgcolor": "#E5ECF6",
          "polar": {
           "angularaxis": {
            "gridcolor": "white",
            "linecolor": "white",
            "ticks": ""
           },
           "bgcolor": "#E5ECF6",
           "radialaxis": {
            "gridcolor": "white",
            "linecolor": "white",
            "ticks": ""
           }
          },
          "scene": {
           "xaxis": {
            "backgroundcolor": "#E5ECF6",
            "gridcolor": "white",
            "gridwidth": 2,
            "linecolor": "white",
            "showbackground": true,
            "ticks": "",
            "zerolinecolor": "white"
           },
           "yaxis": {
            "backgroundcolor": "#E5ECF6",
            "gridcolor": "white",
            "gridwidth": 2,
            "linecolor": "white",
            "showbackground": true,
            "ticks": "",
            "zerolinecolor": "white"
           },
           "zaxis": {
            "backgroundcolor": "#E5ECF6",
            "gridcolor": "white",
            "gridwidth": 2,
            "linecolor": "white",
            "showbackground": true,
            "ticks": "",
            "zerolinecolor": "white"
           }
          },
          "shapedefaults": {
           "line": {
            "color": "#2a3f5f"
           }
          },
          "ternary": {
           "aaxis": {
            "gridcolor": "white",
            "linecolor": "white",
            "ticks": ""
           },
           "baxis": {
            "gridcolor": "white",
            "linecolor": "white",
            "ticks": ""
           },
           "bgcolor": "#E5ECF6",
           "caxis": {
            "gridcolor": "white",
            "linecolor": "white",
            "ticks": ""
           }
          },
          "title": {
           "x": 0.05
          },
          "xaxis": {
           "automargin": true,
           "gridcolor": "white",
           "linecolor": "white",
           "ticks": "",
           "zerolinecolor": "white",
           "zerolinewidth": 2
          },
          "yaxis": {
           "automargin": true,
           "gridcolor": "white",
           "linecolor": "white",
           "ticks": "",
           "zerolinecolor": "white",
           "zerolinewidth": 2
          }
         }
        },
        "xaxis": {
         "autorange": true,
         "range": [
          -4.508243173621843,
          78.50824317362185
         ],
         "type": "linear"
        },
        "yaxis": {
         "autorange": true,
         "range": [
          0.11202480603924292,
          3.248434931105984
         ],
         "type": "log"
        }
       }
      },
      "image/png": "[encoded data removed]",
      "text/html": [
       "<div>\n",
       "        \n",
       "        \n",
       "            <div id=\"03b6b062-09dc-4680-b317-fb0844268bbd\" class=\"plotly-graph-div\" style=\"height:525px; width:100%;\"></div>\n",
       "            <script type=\"text/javascript\">\n",
       "                require([\"plotly\"], function(Plotly) {\n",
       "                    window.PLOTLYENV=window.PLOTLYENV || {};\n",
       "                    \n",
       "                if (document.getElementById(\"03b6b062-09dc-4680-b317-fb0844268bbd\")) {\n",
       "                    Plotly.newPlot(\n",
       "                        '03b6b062-09dc-4680-b317-fb0844268bbd',\n",
       "                        [{\"line\": {\"color\": \"#C7BBB3\", \"width\": 2}, \"mode\": \"lines\", \"name\": \"Algeria\", \"showlegend\": false, \"type\": \"scatter\", \"x\": [0, 1, 2, 3, 4, 5], \"y\": [5.857142857142857, 5.285714285714286, 8.857142857142858, 14.857142857142858, 17.571428571428573, 20.285714285714285]}, {\"line\": {\"color\": \"#C7BBB3\", \"width\": 2}, \"mode\": \"markers\", \"name\": \"Algeria\", \"showlegend\": false, \"type\": \"scatter\", \"x\": [5], \"y\": [20.285714285714285]}, {\"line\": {\"color\": \"#C7BBB3\", \"width\": 2}, \"mode\": \"lines\", \"name\": \"Argentina\", \"showlegend\": false, \"type\": \"scatter\", \"x\": [0, 1, 2, 3, 4, 5], \"y\": [3.2857142857142856, 3.142857142857143, 2.857142857142857, 3.4285714285714284, 3.7142857142857144, 4.142857142857143]}, {\"line\": {\"color\": \"#C7BBB3\", \"width\": 2}, \"mode\": \"markers\", \"name\": \"Argentina\", \"showlegend\": false, \"type\": \"scatter\", \"x\": [5], \"y\": [4.142857142857143]}, {\"line\": {\"color\": \"#C7BBB3\", \"width\": 2}, \"mode\": \"lines\", \"name\": \"Australia\", \"showlegend\": false, \"type\": \"scatter\", \"x\": [0], \"y\": [3.2857142857142856]}, {\"line\": {\"color\": \"#C7BBB3\", \"width\": 2}, \"mode\": \"markers\", \"name\": \"Australia\", \"showlegend\": false, \"type\": \"scatter\", \"x\": [0], \"y\": [3.2857142857142856]}, {\"line\": {\"color\": \"#C7BBB3\", \"width\": 2}, \"mode\": \"lines\", \"name\": \"Austria\", \"showlegend\": false, \"type\": \"scatter\", \"x\": [0, 1, 2, 3, 4, 5, 6, 7, 8, 9, 10, 11, 12, 13, 14], \"y\": [3.142857142857143, 3.857142857142857, 4.285714285714286, 6.571428571428571, 8.857142857142858, 8.571428571428571, 10.0, 11.857142857142858, 14.0, 16.0, 15.142857142857142, 14.285714285714286, 16.857142857142858, 16.857142857142858, 16.0]}, {\"line\": {\"color\": \"#C7BBB3\", \"width\": 2}, \"mode\": \"markers\", \"name\": \"Austria\", \"showlegend\": false, \"type\": \"scatter\", \"x\": [14], \"y\": [16.0]}, {\"line\": {\"color\": \"#C7BBB3\", \"width\": 2}, \"mode\": \"lines\", \"name\": \"Belgium\", \"showlegend\": false, \"type\": \"scatter\", \"x\": [0, 1, 2, 3, 4, 5, 6, 7, 8, 9, 10, 11, 12, 13, 14, 15, 16, 17], \"y\": [4.857142857142857, 9.0, 10.142857142857142, 11.857142857142858, 16.714285714285715, 23.428571428571427, 28.428571428571427, 36.0, 40.857142857142854, 50.857142857142854, 60.714285714285715, 83.28571428571429, 92.85714285714286, 113.0, 122.0, 132.85714285714286, 145.14285714285714, 159.85714285714286]}, {\"line\": {\"color\": \"#C7BBB3\", \"width\": 2}, \"mode\": \"markers\", \"name\": \"Belgium\", \"showlegend\": false, \"type\": \"scatter\", \"x\": [17], \"y\": [159.85714285714286]}, {\"line\": {\"color\": \"#C7BBB3\", \"width\": 2}, \"mode\": \"lines\", \"name\": \"Brazil\", \"showlegend\": false, \"type\": \"scatter\", \"x\": [0, 1, 2, 3, 4, 5, 6, 7, 8, 9, 10, 11, 12, 13, 14, 15], \"y\": [3.5714285714285716, 4.857142857142857, 6.428571428571429, 7.571428571428571, 10.142857142857142, 11.571428571428571, 13.714285714285714, 15.857142857142858, 17.857142857142858, 22.142857142857142, 26.285714285714285, 31.714285714285715, 38.142857142857146, 45.42857142857143, 50.0, 56.285714285714285]}, {\"line\": {\"color\": \"#C7BBB3\", \"width\": 2}, \"mode\": \"markers\", \"name\": \"Brazil\", \"showlegend\": false, \"type\": \"scatter\", \"x\": [15], \"y\": [56.285714285714285]}, {\"line\": {\"color\": \"#C7BBB3\", \"width\": 2}, \"mode\": \"lines\", \"name\": \"Canada\", \"showlegend\": false, \"type\": \"scatter\", \"x\": [0, 1, 2, 3, 4, 5, 6, 7, 8, 9, 10, 11, 12], \"y\": [3.7142857142857144, 4.142857142857143, 5.857142857142857, 6.714285714285714, 6.142857142857143, 9.285714285714286, 9.857142857142858, 10.571428571428571, 14.142857142857142, 19.142857142857142, 24.428571428571427, 31.285714285714285, 33.42857142857143]}, {\"line\": {\"color\": \"#C7BBB3\", \"width\": 2}, \"mode\": \"markers\", \"name\": \"Canada\", \"showlegend\": false, \"type\": \"scatter\", \"x\": [12], \"y\": [33.42857142857143]}, {\"line\": {\"color\": \"#C7BBB3\", \"width\": 2}, \"mode\": \"lines\", \"name\": \"Chile\", \"showlegend\": false, \"type\": \"scatter\", \"x\": [0, 1, 2], \"y\": [3.0, 3.857142857142857, 4.142857142857143]}, {\"line\": {\"color\": \"#C7BBB3\", \"width\": 2}, \"mode\": \"markers\", \"name\": \"Chile\", \"showlegend\": false, \"type\": \"scatter\", \"x\": [2], \"y\": [4.142857142857143]}, {\"line\": {\"color\": \"#C7BBB3\", \"width\": 2}, \"mode\": \"lines\", \"name\": \"Colombia\", \"showlegend\": false, \"type\": \"scatter\", \"x\": [0, 1, 2], \"y\": [3.7142857142857144, 3.5714285714285716, 4.571428571428571]}, {\"line\": {\"color\": \"#C7BBB3\", \"width\": 2}, \"mode\": \"markers\", \"name\": \"Colombia\", \"showlegend\": false, \"type\": \"scatter\", \"x\": [2], \"y\": [4.571428571428571]}, {\"line\": {\"color\": \"#C7BBB3\", \"width\": 2}, \"mode\": \"lines\", \"name\": \"Denmark\", \"showlegend\": false, \"type\": \"scatter\", \"x\": [0, 1, 2, 3, 4, 5, 6, 7, 8, 9, 10, 11, 12, 13, 14], \"y\": [3.2857142857142856, 4.0, 4.285714285714286, 5.0, 6.142857142857143, 7.428571428571429, 8.428571428571429, 7.571428571428571, 8.285714285714286, 10.0, 11.714285714285714, 12.428571428571429, 13.714285714285714, 15.285714285714286, 15.714285714285714]}, {\"line\": {\"color\": \"#C7BBB3\", \"width\": 2}, \"mode\": \"markers\", \"name\": \"Denmark\", \"showlegend\": false, \"type\": \"scatter\", \"x\": [14], \"y\": [15.714285714285714]}, {\"line\": {\"color\": \"#C7BBB3\", \"width\": 2}, \"mode\": \"lines\", \"name\": \"Dominican Republic\", \"showlegend\": false, \"type\": \"scatter\", \"x\": [0, 1, 2, 3, 4, 5, 6, 7, 8, 9], \"y\": [3.5714285714285716, 5.142857142857143, 5.571428571428571, 6.428571428571429, 6.714285714285714, 7.142857142857143, 6.857142857142857, 7.0, 6.142857142857143, 6.285714285714286]}, {\"line\": {\"color\": \"#C7BBB3\", \"width\": 2}, \"mode\": \"markers\", \"name\": \"Dominican Republic\", \"showlegend\": false, \"type\": \"scatter\", \"x\": [9], \"y\": [6.285714285714286]}, {\"line\": {\"color\": \"#C7BBB3\", \"width\": 2}, \"mode\": \"lines\", \"name\": \"Ecuador\", \"showlegend\": false, \"type\": \"scatter\", \"x\": [0, 1, 2, 3, 4, 5, 6, 7, 8, 9, 10, 11, 12, 13], \"y\": [3.5714285714285716, 3.7142857142857144, 4.428571428571429, 4.857142857142857, 5.857142857142857, 6.285714285714286, 6.285714285714286, 7.428571428571429, 13.0, 12.285714285714286, 14.857142857142858, 17.714285714285715, 17.428571428571427, 18.428571428571427]}, {\"line\": {\"color\": \"#C7BBB3\", \"width\": 2}, \"mode\": \"markers\", \"name\": \"Ecuador\", \"showlegend\": false, \"type\": \"scatter\", \"x\": [13], \"y\": [18.428571428571427]}, {\"line\": {\"color\": \"#C7BBB3\", \"width\": 2}, \"mode\": \"lines\", \"name\": \"Egypt\", \"showlegend\": false, \"type\": \"scatter\", \"x\": [0, 1, 2, 3, 4, 5, 6, 7, 8, 9], \"y\": [3.142857142857143, 3.7142857142857144, 3.7142857142857144, 3.142857142857143, 3.5714285714285716, 4.428571428571429, 4.0, 5.142857142857143, 5.0, 5.428571428571429]}, {\"line\": {\"color\": \"#C7BBB3\", \"width\": 2}, \"mode\": \"markers\", \"name\": \"Egypt\", \"showlegend\": false, \"type\": \"scatter\", \"x\": [9], \"y\": [5.428571428571429]}, {\"line\": {\"color\": \"#C7BBB3\", \"width\": 2}, \"mode\": \"lines\", \"name\": \"Greece\", \"showlegend\": false, \"type\": \"scatter\", \"x\": [0, 1, 2, 3, 4, 5, 6, 7, 8, 9, 10, 11], \"y\": [3.0, 2.857142857142857, 2.7142857142857144, 3.2857142857142856, 3.7142857142857144, 4.142857142857143, 4.0, 3.857142857142857, 4.428571428571429, 5.142857142857143, 5.0, 5.142857142857143]}, {\"line\": {\"color\": \"#C7BBB3\", \"width\": 2}, \"mode\": \"markers\", \"name\": \"Greece\", \"showlegend\": false, \"type\": \"scatter\", \"x\": [11], \"y\": [5.142857142857143]}, {\"line\": {\"color\": \"#C7BBB3\", \"width\": 2}, \"mode\": \"lines\", \"name\": \"Hungary\", \"showlegend\": false, \"type\": \"scatter\", \"x\": [0, 1, 2, 3], \"y\": [3.0, 3.0, 3.2857142857142856, 4.571428571428571]}, {\"line\": {\"color\": \"#C7BBB3\", \"width\": 2}, \"mode\": \"markers\", \"name\": \"Hungary\", \"showlegend\": false, \"type\": \"scatter\", \"x\": [3], \"y\": [4.571428571428571]}, {\"line\": {\"color\": \"#C7BBB3\", \"width\": 2}, \"mode\": \"lines\", \"name\": \"India\", \"showlegend\": false, \"type\": \"scatter\", \"x\": [0, 1, 2, 3, 4, 5, 6, 7, 8, 9], \"y\": [3.0, 3.142857142857143, 3.2857142857142856, 3.7142857142857144, 5.285714285714286, 5.571428571428571, 7.0, 7.428571428571429, 11.428571428571429, 11.714285714285714]}, {\"line\": {\"color\": \"#C7BBB3\", \"width\": 2}, \"mode\": \"markers\", \"name\": \"India\", \"showlegend\": false, \"type\": \"scatter\", \"x\": [9], \"y\": [11.714285714285714]}, {\"line\": {\"color\": \"#C7BBB3\", \"width\": 2}, \"mode\": \"lines\", \"name\": \"Indonesia\", \"showlegend\": false, \"type\": \"scatter\", \"x\": [0, 1, 2, 3, 4, 5, 6, 7, 8, 9, 10, 11, 12, 13, 14, 15, 16, 17], \"y\": [3.0, 4.857142857142857, 6.142857142857143, 6.285714285714286, 7.142857142857143, 7.571428571428571, 8.428571428571429, 8.857142857142858, 9.142857142857142, 9.428571428571429, 10.428571428571429, 11.571428571428571, 14.142857142857142, 13.142857142857142, 13.428571428571429, 12.714285714285714, 12.0, 12.428571428571429]}, {\"line\": {\"color\": \"#C7BBB3\", \"width\": 2}, \"mode\": \"markers\", \"name\": \"Indonesia\", \"showlegend\": false, \"type\": \"scatter\", \"x\": [17], \"y\": [12.428571428571429]}, {\"line\": {\"color\": \"#C7BBB3\", \"width\": 2}, \"mode\": \"lines\", \"name\": \"Iran\", \"showlegend\": false, \"type\": \"scatter\", \"x\": [0, 1, 2, 3, 4, 5, 6, 7, 8, 9, 10, 11, 12, 13, 14, 15, 16, 17, 18, 19, 20, 21, 22, 23, 24, 25, 26, 27, 28, 29, 30, 31, 32, 33, 34, 35, 36, 37, 38, 39], \"y\": [3.4285714285714284, 4.285714285714286, 5.428571428571429, 6.571428571428571, 7.714285714285714, 8.857142857142858, 10.428571428571429, 11.571428571428571, 12.857142857142858, 14.571428571428571, 20.0, 24.428571428571427, 30.571428571428573, 37.42857142857143, 46.0, 55.714285714285715, 66.57142857142857, 75.71428571428571, 88.0, 99.57142857142857, 111.57142857142857, 122.14285714285714, 131.28571428571428, 135.0, 137.28571428571428, 137.0, 135.14285714285714, 134.57142857142858, 135.71428571428572, 135.0, 137.28571428571428, 136.42857142857142, 135.0, 137.71428571428572, 137.0, 132.28571428571428, 111.71428571428571, 133.57142857142858, 137.57142857142858, 140.28571428571428]}, {\"line\": {\"color\": \"#C7BBB3\", \"width\": 2}, \"mode\": \"markers\", \"name\": \"Iran\", \"showlegend\": false, \"type\": \"scatter\", \"x\": [39], \"y\": [140.28571428571428]}, {\"line\": {\"color\": \"#C7BBB3\", \"width\": 2}, \"mode\": \"lines\", \"name\": \"Iraq\", \"showlegend\": false, \"type\": \"scatter\", \"x\": [0, 1, 2, 3, 4, 5, 6, 7, 8, 9, 10, 11], \"y\": [3.4285714285714284, 3.7142857142857144, 3.5714285714285716, 3.142857142857143, 3.2857142857142856, 3.2857142857142856, 3.0, 2.5714285714285716, 2.0, 2.0, 2.7142857142857144, 2.5714285714285716]}, {\"line\": {\"color\": \"#C7BBB3\", \"width\": 2}, \"mode\": \"markers\", \"name\": \"Iraq\", \"showlegend\": false, \"type\": \"scatter\", \"x\": [11], \"y\": [2.5714285714285716]}, {\"line\": {\"color\": \"#C7BBB3\", \"width\": 2}, \"mode\": \"lines\", \"name\": \"Ireland\", \"showlegend\": false, \"type\": \"scatter\", \"x\": [0, 1, 2, 3, 4, 5, 6, 7, 8, 9], \"y\": [4.714285714285714, 6.0, 6.857142857142857, 9.142857142857142, 10.857142857142858, 11.285714285714286, 14.0, 14.428571428571429, 16.0, 17.142857142857142]}, {\"line\": {\"color\": \"#C7BBB3\", \"width\": 2}, \"mode\": \"markers\", \"name\": \"Ireland\", \"showlegend\": false, \"type\": \"scatter\", \"x\": [9], \"y\": [17.142857142857142]}, {\"line\": {\"color\": \"#C7BBB3\", \"width\": 2}, \"mode\": \"lines\", \"name\": \"Israel\", \"showlegend\": false, \"type\": \"scatter\", \"x\": [0, 1, 2, 3, 4], \"y\": [3.7142857142857144, 4.142857142857143, 4.857142857142857, 4.857142857142857, 5.714285714285714]}, {\"line\": {\"color\": \"#C7BBB3\", \"width\": 2}, \"mode\": \"markers\", \"name\": \"Israel\", \"showlegend\": false, \"type\": \"scatter\", \"x\": [4], \"y\": [5.714285714285714]}, {\"line\": {\"color\": \"#C7BBB3\", \"width\": 2}, \"mode\": \"lines\", \"name\": \"Japan\", \"showlegend\": false, \"type\": \"scatter\", \"x\": [0], \"y\": [3.4285714285714284]}, {\"line\": {\"color\": \"#C7BBB3\", \"width\": 2}, \"mode\": \"markers\", \"name\": \"Japan\", \"showlegend\": false, \"type\": \"scatter\", \"x\": [0], \"y\": [3.4285714285714284]}, {\"line\": {\"color\": \"#C7BBB3\", \"width\": 2}, \"mode\": \"lines\", \"name\": \"Luxembourg\", \"showlegend\": false, \"type\": \"scatter\", \"x\": [0, 1, 2, 3, 4, 5], \"y\": [3.0, 3.0, 2.2857142857142856, 1.8571428571428572, 2.142857142857143, 2.7142857142857144]}, {\"line\": {\"color\": \"#C7BBB3\", \"width\": 2}, \"mode\": \"markers\", \"name\": \"Luxembourg\", \"showlegend\": false, \"type\": \"scatter\", \"x\": [5], \"y\": [2.7142857142857144]}, {\"line\": {\"color\": \"#C7BBB3\", \"width\": 2}, \"mode\": \"lines\", \"name\": \"Malaysia\", \"showlegend\": false, \"type\": \"scatter\", \"x\": [0, 1, 2, 3, 4, 5, 6, 7, 8, 9, 10, 11], \"y\": [3.0, 3.4285714285714284, 3.2857142857142856, 3.4285714285714284, 3.2857142857142856, 3.142857142857143, 3.7142857142857144, 3.857142857142857, 3.857142857142857, 4.285714285714286, 3.857142857142857, 3.5714285714285716]}, {\"line\": {\"color\": \"#C7BBB3\", \"width\": 2}, \"mode\": \"markers\", \"name\": \"Malaysia\", \"showlegend\": false, \"type\": \"scatter\", \"x\": [11], \"y\": [3.5714285714285716]}, {\"line\": {\"color\": \"#C7BBB3\", \"width\": 2}, \"mode\": \"lines\", \"name\": \"Mexico\", \"showlegend\": false, \"type\": \"scatter\", \"x\": [0, 1, 2, 3, 4, 5, 6, 7], \"y\": [3.4285714285714284, 3.4285714285714284, 4.571428571428571, 4.142857142857143, 6.857142857142857, 9.0, 10.571428571428571, 13.857142857142858]}, {\"line\": {\"color\": \"#C7BBB3\", \"width\": 2}, \"mode\": \"markers\", \"name\": \"Mexico\", \"showlegend\": false, \"type\": \"scatter\", \"x\": [7], \"y\": [13.857142857142858]}, {\"line\": {\"color\": \"#C7BBB3\", \"width\": 2}, \"mode\": \"lines\", \"name\": \"Morocco\", \"showlegend\": false, \"type\": \"scatter\", \"x\": [0, 1, 2, 3, 4, 5, 6, 7, 8], \"y\": [3.142857142857143, 4.142857142857143, 4.428571428571429, 4.714285714285714, 4.857142857142857, 3.0, 5.142857142857143, 6.285714285714286, 6.714285714285714]}, {\"line\": {\"color\": \"#C7BBB3\", \"width\": 2}, \"mode\": \"markers\", \"name\": \"Morocco\", \"showlegend\": false, \"type\": \"scatter\", \"x\": [8], \"y\": [6.714285714285714]}, {\"line\": {\"color\": \"#C7BBB3\", \"width\": 2}, \"mode\": \"lines\", \"name\": \"Netherlands\", \"showlegend\": false, \"type\": \"scatter\", \"x\": [0, 1, 2, 3, 4, 5, 6, 7, 8, 9, 10, 11, 12, 13, 14, 15, 16, 17, 18, 19, 20, 21], \"y\": [3.0, 5.571428571428571, 7.571428571428571, 10.142857142857142, 14.428571428571429, 17.714285714285715, 22.714285714285715, 27.0, 33.285714285714285, 42.57142857142857, 51.142857142857146, 62.857142857142854, 71.85714285714286, 84.57142857142857, 93.0, 109.0, 116.71428571428571, 129.28571428571428, 134.42857142857142, 144.57142857142858, 142.14285714285714, 143.28571428571428]}, {\"line\": {\"color\": \"#C7BBB3\", \"width\": 2}, \"mode\": \"markers\", \"name\": \"Netherlands\", \"showlegend\": false, \"type\": \"scatter\", \"x\": [21], \"y\": [143.28571428571428]}, {\"line\": {\"color\": \"#C7BBB3\", \"width\": 2}, \"mode\": \"lines\", \"name\": \"Norway\", \"showlegend\": false, \"type\": \"scatter\", \"x\": [0, 1, 2, 3, 4], \"y\": [4.0, 4.0, 4.285714285714286, 5.142857142857143, 4.714285714285714]}, {\"line\": {\"color\": \"#C7BBB3\", \"width\": 2}, \"mode\": \"markers\", \"name\": \"Norway\", \"showlegend\": false, \"type\": \"scatter\", \"x\": [4], \"y\": [4.714285714285714]}, {\"line\": {\"color\": \"#C7BBB3\", \"width\": 2}, \"mode\": \"lines\", \"name\": \"Pakistan\", \"showlegend\": false, \"type\": \"scatter\", \"x\": [0, 1, 2, 3, 4, 5], \"y\": [3.2857142857142856, 3.142857142857143, 3.142857142857143, 3.4285714285714284, 5.285714285714286, 5.142857142857143]}, {\"line\": {\"color\": \"#C7BBB3\", \"width\": 2}, \"mode\": \"markers\", \"name\": \"Pakistan\", \"showlegend\": false, \"type\": \"scatter\", \"x\": [5], \"y\": [5.142857142857143]}, {\"line\": {\"color\": \"#C7BBB3\", \"width\": 2}, \"mode\": \"lines\", \"name\": \"Panama\", \"showlegend\": false, \"type\": \"scatter\", \"x\": [0, 1, 2, 3, 4, 5, 6, 7, 8], \"y\": [3.0, 2.857142857142857, 3.4285714285714284, 3.7142857142857144, 4.0, 3.857142857142857, 4.142857142857143, 4.285714285714286, 4.142857142857143]}, {\"line\": {\"color\": \"#C7BBB3\", \"width\": 2}, \"mode\": \"markers\", \"name\": \"Panama\", \"showlegend\": false, \"type\": \"scatter\", \"x\": [8], \"y\": [4.142857142857143]}, {\"line\": {\"color\": \"#C7BBB3\", \"width\": 2}, \"mode\": \"lines\", \"name\": \"Peru\", \"showlegend\": false, \"type\": \"scatter\", \"x\": [0, 1, 2, 3, 4, 5, 6], \"y\": [3.2857142857142856, 5.571428571428571, 6.571428571428571, 7.142857142857143, 8.142857142857142, 9.285714285714286, 9.714285714285714]}, {\"line\": {\"color\": \"#C7BBB3\", \"width\": 2}, \"mode\": \"markers\", \"name\": \"Peru\", \"showlegend\": false, \"type\": \"scatter\", \"x\": [6], \"y\": [9.714285714285714]}, {\"line\": {\"color\": \"#C7BBB3\", \"width\": 2}, \"mode\": \"lines\", \"name\": \"Philippines\", \"showlegend\": false, \"type\": \"scatter\", \"x\": [0, 1, 2, 3, 4, 5, 6, 7, 8, 9, 10, 11, 12, 13, 14], \"y\": [3.0, 3.0, 3.0, 3.857142857142857, 5.142857142857143, 6.142857142857143, 6.571428571428571, 7.857142857142857, 7.571428571428571, 8.285714285714286, 8.857142857142858, 11.714285714285714, 10.857142857142858, 11.571428571428571, 10.714285714285714]}, {\"line\": {\"color\": \"#C7BBB3\", \"width\": 2}, \"mode\": \"markers\", \"name\": \"Philippines\", \"showlegend\": false, \"type\": \"scatter\", \"x\": [14], \"y\": [10.714285714285714]}, {\"line\": {\"color\": \"#C7BBB3\", \"width\": 2}, \"mode\": \"lines\", \"name\": \"Poland\", \"showlegend\": false, \"type\": \"scatter\", \"x\": [0, 1, 2, 3, 4, 5, 6, 7], \"y\": [3.2857142857142856, 3.2857142857142856, 4.142857142857143, 5.857142857142857, 7.857142857142857, 8.714285714285714, 10.285714285714286, 10.857142857142858]}, {\"line\": {\"color\": \"#C7BBB3\", \"width\": 2}, \"mode\": \"markers\", \"name\": \"Poland\", \"showlegend\": false, \"type\": \"scatter\", \"x\": [7], \"y\": [10.857142857142858]}, {\"line\": {\"color\": \"#C7BBB3\", \"width\": 2}, \"mode\": \"lines\", \"name\": \"Portugal\", \"showlegend\": false, \"type\": \"scatter\", \"x\": [0, 1, 2, 3, 4, 5, 6, 7, 8, 9, 10, 11, 12, 13, 14], \"y\": [3.2857142857142856, 4.571428571428571, 5.857142857142857, 8.142857142857142, 10.0, 12.571428571428571, 15.0, 16.714285714285715, 18.142857142857142, 20.571428571428573, 21.285714285714285, 24.285714285714285, 23.714285714285715, 25.142857142857142, 24.428571428571427]}, {\"line\": {\"color\": \"#C7BBB3\", \"width\": 2}, \"mode\": \"markers\", \"name\": \"Portugal\", \"showlegend\": false, \"type\": \"scatter\", \"x\": [14], \"y\": [24.428571428571427]}, {\"line\": {\"color\": \"#C7BBB3\", \"width\": 2}, \"mode\": \"lines\", \"name\": \"Romania\", \"showlegend\": false, \"type\": \"scatter\", \"x\": [0, 1, 2, 3, 4, 5, 6, 7, 8, 9, 10], \"y\": [3.4285714285714284, 4.142857142857143, 5.428571428571429, 5.285714285714286, 8.285714285714286, 10.285714285714286, 11.0, 15.571428571428571, 16.0, 15.428571428571429, 16.142857142857142]}, {\"line\": {\"color\": \"#C7BBB3\", \"width\": 2}, \"mode\": \"markers\", \"name\": \"Romania\", \"showlegend\": false, \"type\": \"scatter\", \"x\": [10], \"y\": [16.142857142857142]}, {\"line\": {\"color\": \"#C7BBB3\", \"width\": 2}, \"mode\": \"lines\", \"name\": \"Russia\", \"showlegend\": false, \"type\": \"scatter\", \"x\": [0, 1, 2, 3, 4, 5], \"y\": [3.4285714285714284, 4.0, 4.285714285714286, 5.428571428571429, 5.285714285714286, 5.285714285714286]}, {\"line\": {\"color\": \"#C7BBB3\", \"width\": 2}, \"mode\": \"markers\", \"name\": \"Russia\", \"showlegend\": false, \"type\": \"scatter\", \"x\": [5], \"y\": [5.285714285714286]}, {\"line\": {\"color\": \"#C7BBB3\", \"width\": 2}, \"mode\": \"lines\", \"name\": \"Saudi Arabia\", \"showlegend\": false, \"type\": \"scatter\", \"x\": [0, 1, 2], \"y\": [3.5714285714285716, 3.7142857142857144, 4.285714285714286]}, {\"line\": {\"color\": \"#C7BBB3\", \"width\": 2}, \"mode\": \"markers\", \"name\": \"Saudi Arabia\", \"showlegend\": false, \"type\": \"scatter\", \"x\": [2], \"y\": [4.285714285714286]}, {\"line\": {\"color\": \"#C7BBB3\", \"width\": 2}, \"mode\": \"lines\", \"name\": \"Serbia\", \"showlegend\": false, \"type\": \"scatter\", \"x\": [0, 1, 2, 3, 4, 5, 6], \"y\": [3.142857142857143, 3.0, 4.0, 4.714285714285714, 4.857142857142857, 5.428571428571429, 6.428571428571429]}, {\"line\": {\"color\": \"#C7BBB3\", \"width\": 2}, \"mode\": \"markers\", \"name\": \"Serbia\", \"showlegend\": false, \"type\": \"scatter\", \"x\": [6], \"y\": [6.428571428571429]}, {\"line\": {\"color\": \"#C7BBB3\", \"width\": 2}, \"mode\": \"lines\", \"name\": \"Sweden\", \"showlegend\": false, \"type\": \"scatter\", \"x\": [0, 1, 2, 3, 4, 5, 6, 7, 8, 9, 10, 11, 12, 13], \"y\": [4.0, 4.571428571428571, 8.0, 10.857142857142858, 11.714285714285714, 12.714285714285714, 17.285714285714285, 20.571428571428573, 28.142857142857142, 30.857142857142858, 34.42857142857143, 38.714285714285715, 41.57142857142857, 47.285714285714285]}, {\"line\": {\"color\": \"#C7BBB3\", \"width\": 2}, \"mode\": \"markers\", \"name\": \"Sweden\", \"showlegend\": false, \"type\": \"scatter\", \"x\": [13], \"y\": [47.285714285714285]}, {\"line\": {\"color\": \"#C7BBB3\", \"width\": 2}, \"mode\": \"lines\", \"name\": \"Switzerland\", \"showlegend\": false, \"type\": \"scatter\", \"x\": [0, 1, 2, 3, 4, 5, 6, 7, 8, 9, 10, 11, 12, 13, 14, 15, 16, 17, 18], \"y\": [4.142857142857143, 5.142857142857143, 6.428571428571429, 6.714285714285714, 7.428571428571429, 9.571428571428571, 11.714285714285714, 18.285714285714285, 22.0, 25.571428571428573, 28.142857142857142, 32.714285714285715, 41.0, 39.285714285714285, 38.714285714285715, 41.0, 43.57142857142857, 43.142857142857146, 41.285714285714285]}, {\"line\": {\"color\": \"#C7BBB3\", \"width\": 2}, \"mode\": \"markers\", \"name\": \"Switzerland\", \"showlegend\": false, \"type\": \"scatter\", \"x\": [18], \"y\": [41.285714285714285]}, {\"line\": {\"color\": \"#C7BBB3\", \"width\": 2}, \"mode\": \"lines\", \"name\": \"Turkey\", \"showlegend\": false, \"type\": \"scatter\", \"x\": [0, 1, 2, 3, 4, 5, 6, 7, 8, 9, 10, 11, 12, 13, 14, 15, 16], \"y\": [3.0, 4.285714285714286, 5.285714285714286, 6.285714285714286, 8.285714285714286, 10.142857142857142, 11.857142857142858, 12.428571428571429, 14.428571428571429, 18.714285714285715, 24.285714285714285, 31.142857142857142, 40.142857142857146, 47.57142857142857, 56.142857142857146, 63.285714285714285, 68.71428571428571]}, {\"line\": {\"color\": \"#C7BBB3\", \"width\": 2}, \"mode\": \"markers\", \"name\": \"Turkey\", \"showlegend\": false, \"type\": \"scatter\", \"x\": [16], \"y\": [68.71428571428571]}, {\"line\": {\"color\": \"#C7BBB3\", \"width\": 2}, \"mode\": \"lines\", \"name\": \"Ukraine\", \"showlegend\": false, \"type\": \"scatter\", \"x\": [0, 1], \"y\": [3.2857142857142856, 3.857142857142857]}, {\"line\": {\"color\": \"#C7BBB3\", \"width\": 2}, \"mode\": \"markers\", \"name\": \"Ukraine\", \"showlegend\": false, \"type\": \"scatter\", \"x\": [1], \"y\": [3.857142857142857]}, {\"line\": {\"color\": \"#DA870C\", \"width\": 2}, \"mode\": \"lines\", \"name\": \"China\", \"showlegend\": false, \"type\": \"scatter\", \"x\": [0, 1, 2, 3, 4, 5, 6, 7, 8, 9, 10, 11, 12, 13, 14, 15, 16, 17, 18, 19, 20, 21, 22, 23, 24, 25, 26, 27, 28, 29, 30, 31, 32, 33, 34, 35, 36, 37, 38, 39, 40, 41, 42, 43, 44, 45, 46, 47, 48, 49, 50, 51, 52, 53, 54, 55, 56, 57, 58, 59, 60, 61, 62, 63, 64, 65, 66, 67, 68, 69, 70, 71, 72, 73, 74], \"y\": [3.4285714285714284, 5.571428571428571, 7.571428571428571, 11.142857142857142, 14.285714285714286, 16.428571428571427, 21.857142857142858, 26.714285714285715, 31.142857142857142, 35.42857142857143, 40.0, 45.714285714285715, 51.42857142857143, 56.285714285714285, 60.57142857142857, 66.28571428571429, 72.57142857142857, 78.28571428571429, 84.42857142857143, 88.85714285714286, 114.85714285714286, 106.28571428571429, 114.42857142857143, 122.0, 123.14285714285714, 121.71428571428571, 127.71428571428571, 107.42857142857143, 122.42857142857143, 117.57142857142857, 111.28571428571429, 117.71428571428571, 113.71428571428571, 101.28571428571429, 89.42857142857143, 78.85714285714286, 70.0, 61.0, 45.57142857142857, 40.142857142857146, 38.0, 38.285714285714285, 36.285714285714285, 33.57142857142857, 32.42857142857143, 29.714285714285715, 27.571428571428573, 25.428571428571427, 22.571428571428573, 19.285714285714285, 17.428571428571427, 14.857142857142858, 13.428571428571429, 12.285714285714286, 11.428571428571429, 11.0, 10.571428571428571, 9.285714285714286, 8.857142857142858, 8.285714285714286, 8.0, 6.285714285714286, 6.0, 6.142857142857143, 5.714285714285714, 5.571428571428571, 4.571428571428571, 4.0, 3.5714285714285716, 3.5714285714285716, 4.285714285714286, 4.428571428571429, 4.142857142857143, 4.142857142857143, 3.7142857142857144]}, {\"line\": {\"color\": \"#DA870C\", \"width\": 2}, \"mode\": \"markers+text\", \"name\": \"China\", \"showlegend\": false, \"text\": [\"China\"], \"textfont\": {\"color\": \"#DA870C\", \"family\": \"Metric\", \"size\": 14}, \"textposition\": \"top right\", \"type\": \"scatter\", \"x\": [74], \"y\": [3.7142857142857144]}, {\"line\": {\"color\": \"#208FCE\", \"width\": 2}, \"mode\": \"lines\", \"name\": \"France\", \"showlegend\": false, \"type\": \"scatter\", \"x\": [0, 1, 2, 3, 4, 5, 6, 7, 8, 9, 10, 11, 12, 13, 14, 15, 16, 17, 18, 19, 20, 21, 22, 23, 24, 25, 26, 27, 28], \"y\": [3.857142857142857, 4.142857142857143, 6.285714285714286, 7.714285714285714, 10.0, 11.571428571428571, 15.428571428571429, 16.857142857142858, 20.285714285714285, 28.0, 44.42857142857143, 53.0, 67.28571428571429, 78.14285714285714, 101.71428571428571, 132.14285714285714, 155.28571428571428, 189.14285714285714, 220.71428571428572, 250.28571428571428, 276.0, 309.14285714285717, 346.14285714285717, 385.85714285714283, 401.0, 644.5714285714286, 749.4285714285714, 781.7142857142857, 841.0]}, {\"line\": {\"color\": \"#208FCE\", \"width\": 2}, \"mode\": \"markers+text\", \"name\": \"France\", \"showlegend\": false, \"text\": [\"France\"], \"textfont\": {\"color\": \"#208FCE\", \"family\": \"Metric\", \"size\": 14}, \"textposition\": \"top right\", \"type\": \"scatter\", \"x\": [28], \"y\": [841.0]}, {\"line\": {\"color\": \"#79972A\", \"width\": 2}, \"mode\": \"lines\", \"name\": \"Germany\", \"showlegend\": false, \"type\": \"scatter\", \"x\": [0, 1, 2, 3, 4, 5, 6, 7, 8, 9, 10, 11, 12, 13, 14, 15, 16, 17, 18], \"y\": [5.428571428571429, 5.714285714285714, 8.428571428571429, 11.714285714285714, 16.142857142857142, 19.428571428571427, 26.428571428571427, 30.0, 40.0, 46.0, 51.57142857142857, 65.28571428571429, 83.28571428571429, 96.28571428571429, 109.14285714285714, 119.0, 136.14285714285714, 139.85714285714286, 146.28571428571428]}, {\"line\": {\"color\": \"#79972A\", \"width\": 2}, \"mode\": \"markers+text\", \"name\": \"Germany\", \"showlegend\": false, \"text\": [\"Germany\"], \"textfont\": {\"color\": \"#79972A\", \"family\": \"Metric\", \"size\": 14}, \"textposition\": \"top right\", \"type\": \"scatter\", \"x\": [18], \"y\": [146.28571428571428]}, {\"line\": {\"color\": \"#66605C\", \"width\": 2}, \"mode\": \"lines\", \"name\": \"Italy\", \"showlegend\": false, \"type\": \"scatter\", \"x\": [0, 1, 2, 3, 4, 5, 6, 7, 8, 9, 10, 11, 12, 13, 14, 15, 16, 17, 18, 19, 20, 21, 22, 23, 24, 25, 26, 27, 28, 29, 30, 31, 32, 33, 34, 35, 36, 37, 38], \"y\": [3.0, 3.857142857142857, 4.714285714285714, 6.571428571428571, 9.857142857142858, 13.571428571428571, 18.714285714285715, 25.142857142857142, 29.142857142857142, 47.285714285714285, 58.857142857142854, 78.71428571428571, 102.85714285714286, 124.0, 153.0, 172.57142857142858, 206.42857142857142, 242.0, 267.7142857142857, 307.2857142857143, 341.57142857142856, 394.85714285714283, 483.7142857142857, 523.5714285714286, 559.8571428571429, 616.4285714285714, 646.7142857142857, 679.7142857142857, 729.1428571428571, 742.2857142857143, 757.8571428571429, 787.7142857142857, 801.4285714285714, 807.4285714285714, 821.7142857142857, 792.1428571428571, 762.7142857142857, 729.7142857142857, 704.8571428571429]}, {\"line\": {\"color\": \"#66605C\", \"width\": 2}, \"mode\": \"markers+text\", \"name\": \"Italy\", \"showlegend\": false, \"text\": [\"Italy\"], \"textfont\": {\"color\": \"#66605C\", \"family\": \"Metric\", \"size\": 14}, \"textposition\": \"top right\", \"type\": \"scatter\", \"x\": [38], \"y\": [704.8571428571429]}, {\"line\": {\"color\": \"#72DCE6\", \"width\": 2}, \"mode\": \"lines\", \"name\": \"South Korea\", \"showlegend\": false, \"type\": \"scatter\", \"x\": [0, 1, 2, 3, 4, 5, 6, 7, 8, 9, 10, 11, 12, 13, 14, 15, 16, 17, 18, 19, 20, 21, 22, 23, 24, 25, 26, 27, 28, 29, 30, 31, 32, 33, 34], \"y\": [3.0, 3.2857142857142856, 4.142857142857143, 4.0, 4.714285714285714, 4.142857142857143, 3.7142857142857144, 4.0, 4.428571428571429, 3.5714285714285716, 4.0, 3.5714285714285716, 3.4285714285714284, 3.857142857142857, 3.7142857142857144, 3.5714285714285716, 4.714285714285714, 4.428571428571429, 4.142857142857143, 5.428571428571429, 5.571428571428571, 5.714285714285714, 5.714285714285714, 5.571428571428571, 5.857142857142857, 6.857142857142857, 6.428571428571429, 6.142857142857143, 5.285714285714286, 5.428571428571429, 5.0, 4.714285714285714, 4.428571428571429, 4.0, 4.142857142857143]}, {\"line\": {\"color\": \"#72DCE6\", \"width\": 2}, \"mode\": \"markers+text\", \"name\": \"South Korea\", \"showlegend\": false, \"text\": [\"S Korea\"], \"textfont\": {\"color\": \"#72DCE6\", \"family\": \"Metric\", \"size\": 14}, \"textposition\": \"top right\", \"type\": \"scatter\", \"x\": [34], \"y\": [4.142857142857143]}, {\"line\": {\"color\": \"#208FCE\", \"width\": 2}, \"mode\": \"lines\", \"name\": \"Spain\", \"showlegend\": false, \"type\": \"scatter\", \"x\": [0, 1, 2, 3, 4, 5, 6, 7, 8, 9, 10, 11, 12, 13, 14, 15, 16, 17, 18, 19, 20, 21, 22, 23, 24, 25, 26, 27, 28], \"y\": [4.0, 5.0, 6.571428571428571, 11.571428571428571, 16.571428571428573, 18.714285714285715, 40.42857142857143, 40.142857142857146, 65.14285714285714, 78.71428571428571, 97.57142857142857, 125.85714285714286, 170.0, 204.57142857142858, 267.57142857142856, 315.0, 405.14285714285717, 474.57142857142856, 550.8571428571429, 623.4285714285714, 686.8571428571429, 736.8571428571429, 784.7142857142857, 802.7142857142857, 844.8571428571429, 868.1428571428571, 864.8571428571429, 841.4285714285714, 816.4285714285714]}, {\"line\": {\"color\": \"#208FCE\", \"width\": 2}, \"mode\": \"markers+text\", \"name\": \"Spain\", \"showlegend\": false, \"text\": [\"Spain\"], \"textfont\": {\"color\": \"#208FCE\", \"family\": \"Metric\", \"size\": 14}, \"textposition\": \"top left\", \"type\": \"scatter\", \"x\": [28], \"y\": [816.4285714285714]}, {\"line\": {\"color\": \"#B3325D\", \"width\": 2}, \"mode\": \"lines\", \"name\": \"United Kingdom\", \"showlegend\": false, \"type\": \"scatter\", \"x\": [0, 1, 2, 3, 4, 5, 6, 7, 8, 9, 10, 11, 12, 13, 14, 15, 16, 17, 18, 19, 20, 21, 22], \"y\": [4.571428571428571, 7.142857142857143, 7.714285714285714, 13.857142857142858, 19.142857142857142, 23.857142857142858, 30.285714285714285, 35.142857142857146, 40.0, 51.714285714285715, 51.42857142857143, 62.0, 83.14285714285714, 112.28571428571429, 135.28571428571428, 153.28571428571428, 195.28571428571428, 295.57142857142856, 334.7142857142857, 406.57142857142856, 470.57142857142856, 529.4285714285714, 566.4285714285714]}, {\"line\": {\"color\": \"#B3325D\", \"width\": 2}, \"mode\": \"markers+text\", \"name\": \"United Kingdom\", \"showlegend\": false, \"text\": [\"UK\"], \"textfont\": {\"color\": \"#B3325D\", \"family\": \"Metric\", \"size\": 14}, \"textposition\": \"top right\", \"type\": \"scatter\", \"x\": [22], \"y\": [566.4285714285714]}, {\"line\": {\"color\": \"#EB5E8D\", \"width\": 2}, \"mode\": \"lines\", \"name\": \"United States\", \"showlegend\": false, \"type\": \"scatter\", \"x\": [0, 1, 2, 3, 4, 5, 6, 7, 8, 9, 10, 11, 12, 13, 14, 15, 16, 17, 18, 19, 20, 21, 22, 23, 24, 25], \"y\": [4.0, 4.714285714285714, 5.714285714285714, 6.857142857142857, 8.428571428571429, 11.428571428571429, 17.142857142857142, 15.714285714285714, 30.428571428571427, 40.42857142857143, 57.42857142857143, 72.14285714285714, 99.0, 128.57142857142858, 163.71428571428572, 206.71428571428572, 264.42857142857144, 291.14285714285717, 368.57142857142856, 468.2857142857143, 584.0, 679.5714285714286, 778.5714285714286, 901.4285714285714, 1019.7142857142857, 1117.0]}, {\"line\": {\"color\": \"#EB5E8D\", \"width\": 2}, \"mode\": \"markers+text\", \"name\": \"United States\", \"showlegend\": false, \"text\": [\"US\"], \"textfont\": {\"color\": \"#EB5E8D\", \"family\": \"Metric\", \"size\": 14}, \"textposition\": \"top right\", \"type\": \"scatter\", \"x\": [25], \"y\": [1117.0]}],\n",
       "                        {\"template\": {\"data\": {\"bar\": [{\"error_x\": {\"color\": \"#2a3f5f\"}, \"error_y\": {\"color\": \"#2a3f5f\"}, \"marker\": {\"line\": {\"color\": \"#E5ECF6\", \"width\": 0.5}}, \"type\": \"bar\"}], \"barpolar\": [{\"marker\": {\"line\": {\"color\": \"#E5ECF6\", \"width\": 0.5}}, \"type\": \"barpolar\"}], \"carpet\": [{\"aaxis\": {\"endlinecolor\": \"#2a3f5f\", \"gridcolor\": \"white\", \"linecolor\": \"white\", \"minorgridcolor\": \"white\", \"startlinecolor\": \"#2a3f5f\"}, \"baxis\": {\"endlinecolor\": \"#2a3f5f\", \"gridcolor\": \"white\", \"linecolor\": \"white\", \"minorgridcolor\": \"white\", \"startlinecolor\": \"#2a3f5f\"}, \"type\": \"carpet\"}], \"choropleth\": [{\"colorbar\": {\"outlinewidth\": 0, \"ticks\": \"\"}, \"type\": \"choropleth\"}], \"contour\": [{\"colorbar\": {\"outlinewidth\": 0, \"ticks\": \"\"}, \"colorscale\": [[0.0, \"#0d0887\"], [0.1111111111111111, \"#46039f\"], [0.2222222222222222, \"#7201a8\"], [0.3333333333333333, \"#9c179e\"], [0.4444444444444444, \"#bd3786\"], [0.5555555555555556, \"#d8576b\"], [0.6666666666666666, \"#ed7953\"], [0.7777777777777778, \"#fb9f3a\"], [0.8888888888888888, \"#fdca26\"], [1.0, \"#f0f921\"]], \"type\": \"contour\"}], \"contourcarpet\": [{\"colorbar\": {\"outlinewidth\": 0, \"ticks\": \"\"}, \"type\": \"contourcarpet\"}], \"heatmap\": [{\"colorbar\": {\"outlinewidth\": 0, \"ticks\": \"\"}, \"colorscale\": [[0.0, \"#0d0887\"], [0.1111111111111111, \"#46039f\"], [0.2222222222222222, \"#7201a8\"], [0.3333333333333333, \"#9c179e\"], [0.4444444444444444, \"#bd3786\"], [0.5555555555555556, \"#d8576b\"], [0.6666666666666666, \"#ed7953\"], [0.7777777777777778, \"#fb9f3a\"], [0.8888888888888888, \"#fdca26\"], [1.0, \"#f0f921\"]], \"type\": \"heatmap\"}], \"heatmapgl\": [{\"colorbar\": {\"outlinewidth\": 0, \"ticks\": \"\"}, \"colorscale\": [[0.0, \"#0d0887\"], [0.1111111111111111, \"#46039f\"], [0.2222222222222222, \"#7201a8\"], [0.3333333333333333, \"#9c179e\"], [0.4444444444444444, \"#bd3786\"], [0.5555555555555556, \"#d8576b\"], [0.6666666666666666, \"#ed7953\"], [0.7777777777777778, \"#fb9f3a\"], [0.8888888888888888, \"#fdca26\"], [1.0, \"#f0f921\"]], \"type\": \"heatmapgl\"}], \"histogram\": [{\"marker\": {\"colorbar\": {\"outlinewidth\": 0, \"ticks\": \"\"}}, \"type\": \"histogram\"}], \"histogram2d\": [{\"colorbar\": {\"outlinewidth\": 0, \"ticks\": \"\"}, \"colorscale\": [[0.0, \"#0d0887\"], [0.1111111111111111, \"#46039f\"], [0.2222222222222222, \"#7201a8\"], [0.3333333333333333, \"#9c179e\"], [0.4444444444444444, \"#bd3786\"], [0.5555555555555556, \"#d8576b\"], [0.6666666666666666, \"#ed7953\"], [0.7777777777777778, \"#fb9f3a\"], [0.8888888888888888, \"#fdca26\"], [1.0, \"#f0f921\"]], \"type\": \"histogram2d\"}], \"histogram2dcontour\": [{\"colorbar\": {\"outlinewidth\": 0, \"ticks\": \"\"}, \"colorscale\": [[0.0, \"#0d0887\"], [0.1111111111111111, \"#46039f\"], [0.2222222222222222, \"#7201a8\"], [0.3333333333333333, \"#9c179e\"], [0.4444444444444444, \"#bd3786\"], [0.5555555555555556, \"#d8576b\"], [0.6666666666666666, \"#ed7953\"], [0.7777777777777778, \"#fb9f3a\"], [0.8888888888888888, \"#fdca26\"], [1.0, \"#f0f921\"]], \"type\": \"histogram2dcontour\"}], \"mesh3d\": [{\"colorbar\": {\"outlinewidth\": 0, \"ticks\": \"\"}, \"type\": \"mesh3d\"}], \"parcoords\": [{\"line\": {\"colorbar\": {\"outlinewidth\": 0, \"ticks\": \"\"}}, \"type\": \"parcoords\"}], \"scatter\": [{\"marker\": {\"colorbar\": {\"outlinewidth\": 0, \"ticks\": \"\"}}, \"type\": \"scatter\"}], \"scatter3d\": [{\"line\": {\"colorbar\": {\"outlinewidth\": 0, \"ticks\": \"\"}}, \"marker\": {\"colorbar\": {\"outlinewidth\": 0, \"ticks\": \"\"}}, \"type\": \"scatter3d\"}], \"scattercarpet\": [{\"marker\": {\"colorbar\": {\"outlinewidth\": 0, \"ticks\": \"\"}}, \"type\": \"scattercarpet\"}], \"scattergeo\": [{\"marker\": {\"colorbar\": {\"outlinewidth\": 0, \"ticks\": \"\"}}, \"type\": \"scattergeo\"}], \"scattergl\": [{\"marker\": {\"colorbar\": {\"outlinewidth\": 0, \"ticks\": \"\"}}, \"type\": \"scattergl\"}], \"scattermapbox\": [{\"marker\": {\"colorbar\": {\"outlinewidth\": 0, \"ticks\": \"\"}}, \"type\": \"scattermapbox\"}], \"scatterpolar\": [{\"marker\": {\"colorbar\": {\"outlinewidth\": 0, \"ticks\": \"\"}}, \"type\": \"scatterpolar\"}], \"scatterpolargl\": [{\"marker\": {\"colorbar\": {\"outlinewidth\": 0, \"ticks\": \"\"}}, \"type\": \"scatterpolargl\"}], \"scatterternary\": [{\"marker\": {\"colorbar\": {\"outlinewidth\": 0, \"ticks\": \"\"}}, \"type\": \"scatterternary\"}], \"surface\": [{\"colorbar\": {\"outlinewidth\": 0, \"ticks\": \"\"}, \"colorscale\": [[0.0, \"#0d0887\"], [0.1111111111111111, \"#46039f\"], [0.2222222222222222, \"#7201a8\"], [0.3333333333333333, \"#9c179e\"], [0.4444444444444444, \"#bd3786\"], [0.5555555555555556, \"#d8576b\"], [0.6666666666666666, \"#ed7953\"], [0.7777777777777778, \"#fb9f3a\"], [0.8888888888888888, \"#fdca26\"], [1.0, \"#f0f921\"]], \"type\": \"surface\"}], \"table\": [{\"cells\": {\"fill\": {\"color\": \"#EBF0F8\"}, \"line\": {\"color\": \"white\"}}, \"header\": {\"fill\": {\"color\": \"#C8D4E3\"}, \"line\": {\"color\": \"white\"}}, \"type\": \"table\"}]}, \"layout\": {\"annotationdefaults\": {\"arrowcolor\": \"#2a3f5f\", \"arrowhead\": 0, \"arrowwidth\": 1}, \"colorscale\": {\"diverging\": [[0, \"#8e0152\"], [0.1, \"#c51b7d\"], [0.2, \"#de77ae\"], [0.3, \"#f1b6da\"], [0.4, \"#fde0ef\"], [0.5, \"#f7f7f7\"], [0.6, \"#e6f5d0\"], [0.7, \"#b8e186\"], [0.8, \"#7fbc41\"], [0.9, \"#4d9221\"], [1, \"#276419\"]], \"sequential\": [[0.0, \"#0d0887\"], [0.1111111111111111, \"#46039f\"], [0.2222222222222222, \"#7201a8\"], [0.3333333333333333, \"#9c179e\"], [0.4444444444444444, \"#bd3786\"], [0.5555555555555556, \"#d8576b\"], [0.6666666666666666, \"#ed7953\"], [0.7777777777777778, \"#fb9f3a\"], [0.8888888888888888, \"#fdca26\"], [1.0, \"#f0f921\"]], \"sequentialminus\": [[0.0, \"#0d0887\"], [0.1111111111111111, \"#46039f\"], [0.2222222222222222, \"#7201a8\"], [0.3333333333333333, \"#9c179e\"], [0.4444444444444444, \"#bd3786\"], [0.5555555555555556, \"#d8576b\"], [0.6666666666666666, \"#ed7953\"], [0.7777777777777778, \"#fb9f3a\"], [0.8888888888888888, \"#fdca26\"], [1.0, \"#f0f921\"]]}, \"colorway\": [\"#636efa\", \"#EF553B\", \"#00cc96\", \"#ab63fa\", \"#FFA15A\", \"#19d3f3\", \"#FF6692\", \"#B6E880\", \"#FF97FF\", \"#FECB52\"], \"font\": {\"color\": \"#2a3f5f\"}, \"geo\": {\"bgcolor\": \"white\", \"lakecolor\": \"white\", \"landcolor\": \"#E5ECF6\", \"showlakes\": true, \"showland\": true, \"subunitcolor\": \"white\"}, \"hoverlabel\": {\"align\": \"left\"}, \"hovermode\": \"closest\", \"mapbox\": {\"style\": \"light\"}, \"paper_bgcolor\": \"white\", \"plot_bgcolor\": \"#E5ECF6\", \"polar\": {\"angularaxis\": {\"gridcolor\": \"white\", \"linecolor\": \"white\", \"ticks\": \"\"}, \"bgcolor\": \"#E5ECF6\", \"radialaxis\": {\"gridcolor\": \"white\", \"linecolor\": \"white\", \"ticks\": \"\"}}, \"scene\": {\"xaxis\": {\"backgroundcolor\": \"#E5ECF6\", \"gridcolor\": \"white\", \"gridwidth\": 2, \"linecolor\": \"white\", \"showbackground\": true, \"ticks\": \"\", \"zerolinecolor\": \"white\"}, \"yaxis\": {\"backgroundcolor\": \"#E5ECF6\", \"gridcolor\": \"white\", \"gridwidth\": 2, \"linecolor\": \"white\", \"showbackground\": true, \"ticks\": \"\", \"zerolinecolor\": \"white\"}, \"zaxis\": {\"backgroundcolor\": \"#E5ECF6\", \"gridcolor\": \"white\", \"gridwidth\": 2, \"linecolor\": \"white\", \"showbackground\": true, \"ticks\": \"\", \"zerolinecolor\": \"white\"}}, \"shapedefaults\": {\"line\": {\"color\": \"#2a3f5f\"}}, \"ternary\": {\"aaxis\": {\"gridcolor\": \"white\", \"linecolor\": \"white\", \"ticks\": \"\"}, \"baxis\": {\"gridcolor\": \"white\", \"linecolor\": \"white\", \"ticks\": \"\"}, \"bgcolor\": \"#E5ECF6\", \"caxis\": {\"gridcolor\": \"white\", \"linecolor\": \"white\", \"ticks\": \"\"}}, \"title\": {\"x\": 0.05}, \"xaxis\": {\"automargin\": true, \"gridcolor\": \"white\", \"linecolor\": \"white\", \"ticks\": \"\", \"zerolinecolor\": \"white\", \"zerolinewidth\": 2}, \"yaxis\": {\"automargin\": true, \"gridcolor\": \"white\", \"linecolor\": \"white\", \"ticks\": \"\", \"zerolinecolor\": \"white\", \"zerolinewidth\": 2}}}, \"yaxis\": {\"type\": \"log\"}},\n",
       "                        {\"responsive\": true}\n",
       "                    ).then(function(){\n",
       "                            \n",
       "var gd = document.getElementById('03b6b062-09dc-4680-b317-fb0844268bbd');\n",
       "var x = new MutationObserver(function (mutations, observer) {{\n",
       "        var display = window.getComputedStyle(gd).display;\n",
       "        if (!display || display === 'none') {{\n",
       "            console.log([gd, 'removed!']);\n",
       "            Plotly.purge(gd);\n",
       "            observer.disconnect();\n",
       "        }}\n",
       "}});\n",
       "\n",
       "// Listen for the removal of the full notebook cells\n",
       "var notebookContainer = gd.closest('#notebook-container');\n",
       "if (notebookContainer) {{\n",
       "    x.observe(notebookContainer, {childList: true});\n",
       "}}\n",
       "\n",
       "// Listen for the clearing of the current output cell\n",
       "var outputEl = gd.closest('.output');\n",
       "if (outputEl) {{\n",
       "    x.observe(outputEl, {childList: true});\n",
       "}}\n",
       "\n",
       "                        })\n",
       "                };\n",
       "                });\n",
       "            </script>\n",
       "        </div>"
      ]
     },
     "metadata": {},
     "output_type": "display_data"
    }
   ],
   "source": [
    "# from plotly.subplots import make_subplots\n",
    "\n",
    "fig = go.Figure()\n",
    "\n",
    "for country in list(countries):\n",
    "    # we want to add the grey colour countries first so they don't overlap the highlighted ones\n",
    "    # the continue function means python will skip the following code and go to the next country in countries\n",
    "    if country in keep_list: continue \n",
    "    \n",
    "    country_df = df2[df2['Entity'] == country]\n",
    "    fig.add_trace(go.Scatter(x=country_df['Days Since Third Death'], \n",
    "                             y=country_df['Daily Confirmed Deaths avg'], \n",
    "                             name = country, mode = 'lines',\n",
    "                             line=dict(color=background_colour, width=2),\n",
    "                            showlegend = False))\n",
    "    \n",
    "    # Adding dots to the end of the line plots\n",
    "    fig.add_trace(go.Scatter(x=[list(country_df['Days Since Third Death'])[-1]], \n",
    "                             y=[list(country_df['Daily Confirmed Deaths avg'])[-1]], \n",
    "                             name = country, mode = 'markers',\n",
    "                             line=dict(color=background_colour, width=2),\n",
    "                            showlegend = False))\n",
    "\n",
    "# This time we want to add the highlighted countries and skip the non highlighted ones\n",
    "for country in list(countries):\n",
    "    \n",
    "    label_position = \"top right\"\n",
    "    \n",
    "    if country == 'Spain': label_position = \"top left\" # changing label position for spain otherwise it will overlap with france\n",
    "    \n",
    "    if country not in keep_list: continue\n",
    "    \n",
    "    country_df = df2[df2['Entity'] == country]\n",
    "    fig.add_trace(go.Scatter(x=country_df['Days Since Third Death'], \n",
    "                             y=country_df['Daily Confirmed Deaths avg'], \n",
    "                             name = country, mode = 'lines',\n",
    "                             line=dict(color=colour_code[country], width=2),\n",
    "                            showlegend = False))\n",
    "    \n",
    "    # Adding dots and labels to the end of the line plots\n",
    "    fig.add_trace(go.Scatter(x=[list(country_df['Days Since Third Death'])[-1]], \n",
    "                             y=[list(country_df['Daily Confirmed Deaths avg'])[-1]], \n",
    "                             name = country,\n",
    "                             mode = 'markers+text',\n",
    "                             text = [label_code[country]],\n",
    "                            textposition=label_position,\n",
    "                            textfont=dict(\n",
    "                                    family=\"Metric\",\n",
    "                                    size=14,\n",
    "                                    color=colour_code[country]\n",
    "                                ),\n",
    "                                     \n",
    "                             line=dict(color=colour_code[country], width=2),\n",
    "                            showlegend = False))\n",
    "    \n",
    "\n",
    "\n",
    "fig.update_layout(yaxis_type=\"log\")\n"
   ]
  },
  {
   "cell_type": "markdown",
   "metadata": {},
   "source": [
    "### Styling the graph"
   ]
  },
  {
   "cell_type": "code",
   "execution_count": 35,
   "metadata": {},
   "outputs": [],
   "source": [
    "\n",
    "graph_width = 1000\n",
    "graph_height = graph_width/1.618\n",
    "\n",
    "\n",
    "# Adding the water mark\n",
    "draft_template = go.layout.Template()\n",
    "draft_template.layout.annotations = [\n",
    "     dict(\n",
    "        name=\"draft watermark\",\n",
    "        text=\"NOT THE FINANCIAL TIMES\",\n",
    "        textangle=0,\n",
    "        opacity=1, #0.1,\n",
    "        font=dict(color='#CEC6B9', size=24),\n",
    "        xref=\"paper\",\n",
    "        yref=\"paper\",\n",
    "        x=0.95, # - 0.05,\n",
    "        y=0.9,\n",
    "        showarrow=False,\n",
    "    )\n",
    "]\n",
    "\n",
    "\n",
    "\n",
    "\n",
    "# setting colours\n",
    "title_colour = '#030303'\n",
    "bold_colour = '#2f5661' \n",
    "axis_colour = '#857D78' \n",
    "\n",
    "\n",
    "background = 0"
   ]
  },
  {
   "cell_type": "code",
   "execution_count": 36,
   "metadata": {},
   "outputs": [
    {
     "data": {
      "application/vnd.plotly.v1+json": {
       "config": {
        "plotlyServerURL": "https://plot.ly"
       },
       "data": [
        {
         "line": {
          "color": "#C7BBB3",
          "width": 2
         },
         "mode": "lines",
         "name": "Algeria",
         "showlegend": false,
         "type": "scatter",
         "x": [
          0,
          1,
          2,
          3,
          4,
          5
         ],
         "y": [
          5.857142857142857,
          5.285714285714286,
          8.857142857142858,
          14.857142857142858,
          17.571428571428573,
          20.285714285714285
         ]
        },
        {
         "line": {
          "color": "#C7BBB3",
          "width": 2
         },
         "mode": "markers",
         "name": "Algeria",
         "showlegend": false,
         "type": "scatter",
         "x": [
          5
         ],
         "y": [
          20.285714285714285
         ]
        },
        {
         "line": {
          "color": "#C7BBB3",
          "width": 2
         },
         "mode": "lines",
         "name": "Argentina",
         "showlegend": false,
         "type": "scatter",
         "x": [
          0,
          1,
          2,
          3,
          4,
          5
         ],
         "y": [
          3.2857142857142856,
          3.142857142857143,
          2.857142857142857,
          3.4285714285714284,
          3.7142857142857144,
          4.142857142857143
         ]
        },
        {
         "line": {
          "color": "#C7BBB3",
          "width": 2
         },
         "mode": "markers",
         "name": "Argentina",
         "showlegend": false,
         "type": "scatter",
         "x": [
          5
         ],
         "y": [
          4.142857142857143
         ]
        },
        {
         "line": {
          "color": "#C7BBB3",
          "width": 2
         },
         "mode": "lines",
         "name": "Australia",
         "showlegend": false,
         "type": "scatter",
         "x": [
          0
         ],
         "y": [
          3.2857142857142856
         ]
        },
        {
         "line": {
          "color": "#C7BBB3",
          "width": 2
         },
         "mode": "markers",
         "name": "Australia",
         "showlegend": false,
         "type": "scatter",
         "x": [
          0
         ],
         "y": [
          3.2857142857142856
         ]
        },
        {
         "line": {
          "color": "#C7BBB3",
          "width": 2
         },
         "mode": "lines",
         "name": "Austria",
         "showlegend": false,
         "type": "scatter",
         "x": [
          0,
          1,
          2,
          3,
          4,
          5,
          6,
          7,
          8,
          9,
          10,
          11,
          12,
          13,
          14
         ],
         "y": [
          3.142857142857143,
          3.857142857142857,
          4.285714285714286,
          6.571428571428571,
          8.857142857142858,
          8.571428571428571,
          10,
          11.857142857142858,
          14,
          16,
          15.142857142857142,
          14.285714285714286,
          16.857142857142858,
          16.857142857142858,
          16
         ]
        },
        {
         "line": {
          "color": "#C7BBB3",
          "width": 2
         },
         "mode": "markers",
         "name": "Austria",
         "showlegend": false,
         "type": "scatter",
         "x": [
          14
         ],
         "y": [
          16
         ]
        },
        {
         "line": {
          "color": "#C7BBB3",
          "width": 2
         },
         "mode": "lines",
         "name": "Belgium",
         "showlegend": false,
         "type": "scatter",
         "x": [
          0,
          1,
          2,
          3,
          4,
          5,
          6,
          7,
          8,
          9,
          10,
          11,
          12,
          13,
          14,
          15,
          16,
          17
         ],
         "y": [
          4.857142857142857,
          9,
          10.142857142857142,
          11.857142857142858,
          16.714285714285715,
          23.428571428571427,
          28.428571428571427,
          36,
          40.857142857142854,
          50.857142857142854,
          60.714285714285715,
          83.28571428571429,
          92.85714285714286,
          113,
          122,
          132.85714285714286,
          145.14285714285714,
          159.85714285714286
         ]
        },
        {
         "line": {
          "color": "#C7BBB3",
          "width": 2
         },
         "mode": "markers",
         "name": "Belgium",
         "showlegend": false,
         "type": "scatter",
         "x": [
          17
         ],
         "y": [
          159.85714285714286
         ]
        },
        {
         "line": {
          "color": "#C7BBB3",
          "width": 2
         },
         "mode": "lines",
         "name": "Brazil",
         "showlegend": false,
         "type": "scatter",
         "x": [
          0,
          1,
          2,
          3,
          4,
          5,
          6,
          7,
          8,
          9,
          10,
          11,
          12,
          13,
          14,
          15
         ],
         "y": [
          3.5714285714285716,
          4.857142857142857,
          6.428571428571429,
          7.571428571428571,
          10.142857142857142,
          11.571428571428571,
          13.714285714285714,
          15.857142857142858,
          17.857142857142858,
          22.142857142857142,
          26.285714285714285,
          31.714285714285715,
          38.142857142857146,
          45.42857142857143,
          50,
          56.285714285714285
         ]
        },
        {
         "line": {
          "color": "#C7BBB3",
          "width": 2
         },
         "mode": "markers",
         "name": "Brazil",
         "showlegend": false,
         "type": "scatter",
         "x": [
          15
         ],
         "y": [
          56.285714285714285
         ]
        },
        {
         "line": {
          "color": "#C7BBB3",
          "width": 2
         },
         "mode": "lines",
         "name": "Canada",
         "showlegend": false,
         "type": "scatter",
         "x": [
          0,
          1,
          2,
          3,
          4,
          5,
          6,
          7,
          8,
          9,
          10,
          11,
          12
         ],
         "y": [
          3.7142857142857144,
          4.142857142857143,
          5.857142857142857,
          6.714285714285714,
          6.142857142857143,
          9.285714285714286,
          9.857142857142858,
          10.571428571428571,
          14.142857142857142,
          19.142857142857142,
          24.428571428571427,
          31.285714285714285,
          33.42857142857143
         ]
        },
        {
         "line": {
          "color": "#C7BBB3",
          "width": 2
         },
         "mode": "markers",
         "name": "Canada",
         "showlegend": false,
         "type": "scatter",
         "x": [
          12
         ],
         "y": [
          33.42857142857143
         ]
        },
        {
         "line": {
          "color": "#C7BBB3",
          "width": 2
         },
         "mode": "lines",
         "name": "Chile",
         "showlegend": false,
         "type": "scatter",
         "x": [
          0,
          1,
          2
         ],
         "y": [
          3,
          3.857142857142857,
          4.142857142857143
         ]
        },
        {
         "line": {
          "color": "#C7BBB3",
          "width": 2
         },
         "mode": "markers",
         "name": "Chile",
         "showlegend": false,
         "type": "scatter",
         "x": [
          2
         ],
         "y": [
          4.142857142857143
         ]
        },
        {
         "line": {
          "color": "#C7BBB3",
          "width": 2
         },
         "mode": "lines",
         "name": "Colombia",
         "showlegend": false,
         "type": "scatter",
         "x": [
          0,
          1,
          2
         ],
         "y": [
          3.7142857142857144,
          3.5714285714285716,
          4.571428571428571
         ]
        },
        {
         "line": {
          "color": "#C7BBB3",
          "width": 2
         },
         "mode": "markers",
         "name": "Colombia",
         "showlegend": false,
         "type": "scatter",
         "x": [
          2
         ],
         "y": [
          4.571428571428571
         ]
        },
        {
         "line": {
          "color": "#C7BBB3",
          "width": 2
         },
         "mode": "lines",
         "name": "Denmark",
         "showlegend": false,
         "type": "scatter",
         "x": [
          0,
          1,
          2,
          3,
          4,
          5,
          6,
          7,
          8,
          9,
          10,
          11,
          12,
          13,
          14
         ],
         "y": [
          3.2857142857142856,
          4,
          4.285714285714286,
          5,
          6.142857142857143,
          7.428571428571429,
          8.428571428571429,
          7.571428571428571,
          8.285714285714286,
          10,
          11.714285714285714,
          12.428571428571429,
          13.714285714285714,
          15.285714285714286,
          15.714285714285714
         ]
        },
        {
         "line": {
          "color": "#C7BBB3",
          "width": 2
         },
         "mode": "markers",
         "name": "Denmark",
         "showlegend": false,
         "type": "scatter",
         "x": [
          14
         ],
         "y": [
          15.714285714285714
         ]
        },
        {
         "line": {
          "color": "#C7BBB3",
          "width": 2
         },
         "mode": "lines",
         "name": "Dominican Republic",
         "showlegend": false,
         "type": "scatter",
         "x": [
          0,
          1,
          2,
          3,
          4,
          5,
          6,
          7,
          8,
          9
         ],
         "y": [
          3.5714285714285716,
          5.142857142857143,
          5.571428571428571,
          6.428571428571429,
          6.714285714285714,
          7.142857142857143,
          6.857142857142857,
          7,
          6.142857142857143,
          6.285714285714286
         ]
        },
        {
         "line": {
          "color": "#C7BBB3",
          "width": 2
         },
         "mode": "markers",
         "name": "Dominican Republic",
         "showlegend": false,
         "type": "scatter",
         "x": [
          9
         ],
         "y": [
          6.285714285714286
         ]
        },
        {
         "line": {
          "color": "#C7BBB3",
          "width": 2
         },
         "mode": "lines",
         "name": "Ecuador",
         "showlegend": false,
         "type": "scatter",
         "x": [
          0,
          1,
          2,
          3,
          4,
          5,
          6,
          7,
          8,
          9,
          10,
          11,
          12,
          13
         ],
         "y": [
          3.5714285714285716,
          3.7142857142857144,
          4.428571428571429,
          4.857142857142857,
          5.857142857142857,
          6.285714285714286,
          6.285714285714286,
          7.428571428571429,
          13,
          12.285714285714286,
          14.857142857142858,
          17.714285714285715,
          17.428571428571427,
          18.428571428571427
         ]
        },
        {
         "line": {
          "color": "#C7BBB3",
          "width": 2
         },
         "mode": "markers",
         "name": "Ecuador",
         "showlegend": false,
         "type": "scatter",
         "x": [
          13
         ],
         "y": [
          18.428571428571427
         ]
        },
        {
         "line": {
          "color": "#C7BBB3",
          "width": 2
         },
         "mode": "lines",
         "name": "Egypt",
         "showlegend": false,
         "type": "scatter",
         "x": [
          0,
          1,
          2,
          3,
          4,
          5,
          6,
          7,
          8,
          9
         ],
         "y": [
          3.142857142857143,
          3.7142857142857144,
          3.7142857142857144,
          3.142857142857143,
          3.5714285714285716,
          4.428571428571429,
          4,
          5.142857142857143,
          5,
          5.428571428571429
         ]
        },
        {
         "line": {
          "color": "#C7BBB3",
          "width": 2
         },
         "mode": "markers",
         "name": "Egypt",
         "showlegend": false,
         "type": "scatter",
         "x": [
          9
         ],
         "y": [
          5.428571428571429
         ]
        },
        {
         "line": {
          "color": "#C7BBB3",
          "width": 2
         },
         "mode": "lines",
         "name": "Greece",
         "showlegend": false,
         "type": "scatter",
         "x": [
          0,
          1,
          2,
          3,
          4,
          5,
          6,
          7,
          8,
          9,
          10,
          11
         ],
         "y": [
          3,
          2.857142857142857,
          2.7142857142857144,
          3.2857142857142856,
          3.7142857142857144,
          4.142857142857143,
          4,
          3.857142857142857,
          4.428571428571429,
          5.142857142857143,
          5,
          5.142857142857143
         ]
        },
        {
         "line": {
          "color": "#C7BBB3",
          "width": 2
         },
         "mode": "markers",
         "name": "Greece",
         "showlegend": false,
         "type": "scatter",
         "x": [
          11
         ],
         "y": [
          5.142857142857143
         ]
        },
        {
         "line": {
          "color": "#C7BBB3",
          "width": 2
         },
         "mode": "lines",
         "name": "Hungary",
         "showlegend": false,
         "type": "scatter",
         "x": [
          0,
          1,
          2,
          3
         ],
         "y": [
          3,
          3,
          3.2857142857142856,
          4.571428571428571
         ]
        },
        {
         "line": {
          "color": "#C7BBB3",
          "width": 2
         },
         "mode": "markers",
         "name": "Hungary",
         "showlegend": false,
         "type": "scatter",
         "x": [
          3
         ],
         "y": [
          4.571428571428571
         ]
        },
        {
         "line": {
          "color": "#C7BBB3",
          "width": 2
         },
         "mode": "lines",
         "name": "India",
         "showlegend": false,
         "type": "scatter",
         "x": [
          0,
          1,
          2,
          3,
          4,
          5,
          6,
          7,
          8,
          9
         ],
         "y": [
          3,
          3.142857142857143,
          3.2857142857142856,
          3.7142857142857144,
          5.285714285714286,
          5.571428571428571,
          7,
          7.428571428571429,
          11.428571428571429,
          11.714285714285714
         ]
        },
        {
         "line": {
          "color": "#C7BBB3",
          "width": 2
         },
         "mode": "markers",
         "name": "India",
         "showlegend": false,
         "type": "scatter",
         "x": [
          9
         ],
         "y": [
          11.714285714285714
         ]
        },
        {
         "line": {
          "color": "#C7BBB3",
          "width": 2
         },
         "mode": "lines",
         "name": "Indonesia",
         "showlegend": false,
         "type": "scatter",
         "x": [
          0,
          1,
          2,
          3,
          4,
          5,
          6,
          7,
          8,
          9,
          10,
          11,
          12,
          13,
          14,
          15,
          16,
          17
         ],
         "y": [
          3,
          4.857142857142857,
          6.142857142857143,
          6.285714285714286,
          7.142857142857143,
          7.571428571428571,
          8.428571428571429,
          8.857142857142858,
          9.142857142857142,
          9.428571428571429,
          10.428571428571429,
          11.571428571428571,
          14.142857142857142,
          13.142857142857142,
          13.428571428571429,
          12.714285714285714,
          12,
          12.428571428571429
         ]
        },
        {
         "line": {
          "color": "#C7BBB3",
          "width": 2
         },
         "mode": "markers",
         "name": "Indonesia",
         "showlegend": false,
         "type": "scatter",
         "x": [
          17
         ],
         "y": [
          12.428571428571429
         ]
        },
        {
         "line": {
          "color": "#C7BBB3",
          "width": 2
         },
         "mode": "lines",
         "name": "Iran",
         "showlegend": false,
         "type": "scatter",
         "x": [
          0,
          1,
          2,
          3,
          4,
          5,
          6,
          7,
          8,
          9,
          10,
          11,
          12,
          13,
          14,
          15,
          16,
          17,
          18,
          19,
          20,
          21,
          22,
          23,
          24,
          25,
          26,
          27,
          28,
          29,
          30,
          31,
          32,
          33,
          34,
          35,
          36,
          37,
          38,
          39
         ],
         "y": [
          3.4285714285714284,
          4.285714285714286,
          5.428571428571429,
          6.571428571428571,
          7.714285714285714,
          8.857142857142858,
          10.428571428571429,
          11.571428571428571,
          12.857142857142858,
          14.571428571428571,
          20,
          24.428571428571427,
          30.571428571428573,
          37.42857142857143,
          46,
          55.714285714285715,
          66.57142857142857,
          75.71428571428571,
          88,
          99.57142857142857,
          111.57142857142857,
          122.14285714285714,
          131.28571428571428,
          135,
          137.28571428571428,
          137,
          135.14285714285714,
          134.57142857142858,
          135.71428571428572,
          135,
          137.28571428571428,
          136.42857142857142,
          135,
          137.71428571428572,
          137,
          132.28571428571428,
          111.71428571428571,
          133.57142857142858,
          137.57142857142858,
          140.28571428571428
         ]
        },
        {
         "line": {
          "color": "#C7BBB3",
          "width": 2
         },
         "mode": "markers",
         "name": "Iran",
         "showlegend": false,
         "type": "scatter",
         "x": [
          39
         ],
         "y": [
          140.28571428571428
         ]
        },
        {
         "line": {
          "color": "#C7BBB3",
          "width": 2
         },
         "mode": "lines",
         "name": "Iraq",
         "showlegend": false,
         "type": "scatter",
         "x": [
          0,
          1,
          2,
          3,
          4,
          5,
          6,
          7,
          8,
          9,
          10,
          11
         ],
         "y": [
          3.4285714285714284,
          3.7142857142857144,
          3.5714285714285716,
          3.142857142857143,
          3.2857142857142856,
          3.2857142857142856,
          3,
          2.5714285714285716,
          2,
          2,
          2.7142857142857144,
          2.5714285714285716
         ]
        },
        {
         "line": {
          "color": "#C7BBB3",
          "width": 2
         },
         "mode": "markers",
         "name": "Iraq",
         "showlegend": false,
         "type": "scatter",
         "x": [
          11
         ],
         "y": [
          2.5714285714285716
         ]
        },
        {
         "line": {
          "color": "#C7BBB3",
          "width": 2
         },
         "mode": "lines",
         "name": "Ireland",
         "showlegend": false,
         "type": "scatter",
         "x": [
          0,
          1,
          2,
          3,
          4,
          5,
          6,
          7,
          8,
          9
         ],
         "y": [
          4.714285714285714,
          6,
          6.857142857142857,
          9.142857142857142,
          10.857142857142858,
          11.285714285714286,
          14,
          14.428571428571429,
          16,
          17.142857142857142
         ]
        },
        {
         "line": {
          "color": "#C7BBB3",
          "width": 2
         },
         "mode": "markers",
         "name": "Ireland",
         "showlegend": false,
         "type": "scatter",
         "x": [
          9
         ],
         "y": [
          17.142857142857142
         ]
        },
        {
         "line": {
          "color": "#C7BBB3",
          "width": 2
         },
         "mode": "lines",
         "name": "Israel",
         "showlegend": false,
         "type": "scatter",
         "x": [
          0,
          1,
          2,
          3,
          4
         ],
         "y": [
          3.7142857142857144,
          4.142857142857143,
          4.857142857142857,
          4.857142857142857,
          5.714285714285714
         ]
        },
        {
         "line": {
          "color": "#C7BBB3",
          "width": 2
         },
         "mode": "markers",
         "name": "Israel",
         "showlegend": false,
         "type": "scatter",
         "x": [
          4
         ],
         "y": [
          5.714285714285714
         ]
        },
        {
         "line": {
          "color": "#C7BBB3",
          "width": 2
         },
         "mode": "lines",
         "name": "Japan",
         "showlegend": false,
         "type": "scatter",
         "x": [
          0
         ],
         "y": [
          3.4285714285714284
         ]
        },
        {
         "line": {
          "color": "#C7BBB3",
          "width": 2
         },
         "mode": "markers",
         "name": "Japan",
         "showlegend": false,
         "type": "scatter",
         "x": [
          0
         ],
         "y": [
          3.4285714285714284
         ]
        },
        {
         "line": {
          "color": "#C7BBB3",
          "width": 2
         },
         "mode": "lines",
         "name": "Luxembourg",
         "showlegend": false,
         "type": "scatter",
         "x": [
          0,
          1,
          2,
          3,
          4,
          5
         ],
         "y": [
          3,
          3,
          2.2857142857142856,
          1.8571428571428572,
          2.142857142857143,
          2.7142857142857144
         ]
        },
        {
         "line": {
          "color": "#C7BBB3",
          "width": 2
         },
         "mode": "markers",
         "name": "Luxembourg",
         "showlegend": false,
         "type": "scatter",
         "x": [
          5
         ],
         "y": [
          2.7142857142857144
         ]
        },
        {
         "line": {
          "color": "#C7BBB3",
          "width": 2
         },
         "mode": "lines",
         "name": "Malaysia",
         "showlegend": false,
         "type": "scatter",
         "x": [
          0,
          1,
          2,
          3,
          4,
          5,
          6,
          7,
          8,
          9,
          10,
          11
         ],
         "y": [
          3,
          3.4285714285714284,
          3.2857142857142856,
          3.4285714285714284,
          3.2857142857142856,
          3.142857142857143,
          3.7142857142857144,
          3.857142857142857,
          3.857142857142857,
          4.285714285714286,
          3.857142857142857,
          3.5714285714285716
         ]
        },
        {
         "line": {
          "color": "#C7BBB3",
          "width": 2
         },
         "mode": "markers",
         "name": "Malaysia",
         "showlegend": false,
         "type": "scatter",
         "x": [
          11
         ],
         "y": [
          3.5714285714285716
         ]
        },
        {
         "line": {
          "color": "#C7BBB3",
          "width": 2
         },
         "mode": "lines",
         "name": "Mexico",
         "showlegend": false,
         "type": "scatter",
         "x": [
          0,
          1,
          2,
          3,
          4,
          5,
          6,
          7
         ],
         "y": [
          3.4285714285714284,
          3.4285714285714284,
          4.571428571428571,
          4.142857142857143,
          6.857142857142857,
          9,
          10.571428571428571,
          13.857142857142858
         ]
        },
        {
         "line": {
          "color": "#C7BBB3",
          "width": 2
         },
         "mode": "markers",
         "name": "Mexico",
         "showlegend": false,
         "type": "scatter",
         "x": [
          7
         ],
         "y": [
          13.857142857142858
         ]
        },
        {
         "line": {
          "color": "#C7BBB3",
          "width": 2
         },
         "mode": "lines",
         "name": "Morocco",
         "showlegend": false,
         "type": "scatter",
         "x": [
          0,
          1,
          2,
          3,
          4,
          5,
          6,
          7,
          8
         ],
         "y": [
          3.142857142857143,
          4.142857142857143,
          4.428571428571429,
          4.714285714285714,
          4.857142857142857,
          3,
          5.142857142857143,
          6.285714285714286,
          6.714285714285714
         ]
        },
        {
         "line": {
          "color": "#C7BBB3",
          "width": 2
         },
         "mode": "markers",
         "name": "Morocco",
         "showlegend": false,
         "type": "scatter",
         "x": [
          8
         ],
         "y": [
          6.714285714285714
         ]
        },
        {
         "line": {
          "color": "#C7BBB3",
          "width": 2
         },
         "mode": "lines",
         "name": "Netherlands",
         "showlegend": false,
         "type": "scatter",
         "x": [
          0,
          1,
          2,
          3,
          4,
          5,
          6,
          7,
          8,
          9,
          10,
          11,
          12,
          13,
          14,
          15,
          16,
          17,
          18,
          19,
          20,
          21
         ],
         "y": [
          3,
          5.571428571428571,
          7.571428571428571,
          10.142857142857142,
          14.428571428571429,
          17.714285714285715,
          22.714285714285715,
          27,
          33.285714285714285,
          42.57142857142857,
          51.142857142857146,
          62.857142857142854,
          71.85714285714286,
          84.57142857142857,
          93,
          109,
          116.71428571428571,
          129.28571428571428,
          134.42857142857142,
          144.57142857142858,
          142.14285714285714,
          143.28571428571428
         ]
        },
        {
         "line": {
          "color": "#C7BBB3",
          "width": 2
         },
         "mode": "markers",
         "name": "Netherlands",
         "showlegend": false,
         "type": "scatter",
         "x": [
          21
         ],
         "y": [
          143.28571428571428
         ]
        },
        {
         "line": {
          "color": "#C7BBB3",
          "width": 2
         },
         "mode": "lines",
         "name": "Norway",
         "showlegend": false,
         "type": "scatter",
         "x": [
          0,
          1,
          2,
          3,
          4
         ],
         "y": [
          4,
          4,
          4.285714285714286,
          5.142857142857143,
          4.714285714285714
         ]
        },
        {
         "line": {
          "color": "#C7BBB3",
          "width": 2
         },
         "mode": "markers",
         "name": "Norway",
         "showlegend": false,
         "type": "scatter",
         "x": [
          4
         ],
         "y": [
          4.714285714285714
         ]
        },
        {
         "line": {
          "color": "#C7BBB3",
          "width": 2
         },
         "mode": "lines",
         "name": "Pakistan",
         "showlegend": false,
         "type": "scatter",
         "x": [
          0,
          1,
          2,
          3,
          4,
          5
         ],
         "y": [
          3.2857142857142856,
          3.142857142857143,
          3.142857142857143,
          3.4285714285714284,
          5.285714285714286,
          5.142857142857143
         ]
        },
        {
         "line": {
          "color": "#C7BBB3",
          "width": 2
         },
         "mode": "markers",
         "name": "Pakistan",
         "showlegend": false,
         "type": "scatter",
         "x": [
          5
         ],
         "y": [
          5.142857142857143
         ]
        },
        {
         "line": {
          "color": "#C7BBB3",
          "width": 2
         },
         "mode": "lines",
         "name": "Panama",
         "showlegend": false,
         "type": "scatter",
         "x": [
          0,
          1,
          2,
          3,
          4,
          5,
          6,
          7,
          8
         ],
         "y": [
          3,
          2.857142857142857,
          3.4285714285714284,
          3.7142857142857144,
          4,
          3.857142857142857,
          4.142857142857143,
          4.285714285714286,
          4.142857142857143
         ]
        },
        {
         "line": {
          "color": "#C7BBB3",
          "width": 2
         },
         "mode": "markers",
         "name": "Panama",
         "showlegend": false,
         "type": "scatter",
         "x": [
          8
         ],
         "y": [
          4.142857142857143
         ]
        },
        {
         "line": {
          "color": "#C7BBB3",
          "width": 2
         },
         "mode": "lines",
         "name": "Peru",
         "showlegend": false,
         "type": "scatter",
         "x": [
          0,
          1,
          2,
          3,
          4,
          5,
          6
         ],
         "y": [
          3.2857142857142856,
          5.571428571428571,
          6.571428571428571,
          7.142857142857143,
          8.142857142857142,
          9.285714285714286,
          9.714285714285714
         ]
        },
        {
         "line": {
          "color": "#C7BBB3",
          "width": 2
         },
         "mode": "markers",
         "name": "Peru",
         "showlegend": false,
         "type": "scatter",
         "x": [
          6
         ],
         "y": [
          9.714285714285714
         ]
        },
        {
         "line": {
          "color": "#C7BBB3",
          "width": 2
         },
         "mode": "lines",
         "name": "Philippines",
         "showlegend": false,
         "type": "scatter",
         "x": [
          0,
          1,
          2,
          3,
          4,
          5,
          6,
          7,
          8,
          9,
          10,
          11,
          12,
          13,
          14
         ],
         "y": [
          3,
          3,
          3,
          3.857142857142857,
          5.142857142857143,
          6.142857142857143,
          6.571428571428571,
          7.857142857142857,
          7.571428571428571,
          8.285714285714286,
          8.857142857142858,
          11.714285714285714,
          10.857142857142858,
          11.571428571428571,
          10.714285714285714
         ]
        },
        {
         "line": {
          "color": "#C7BBB3",
          "width": 2
         },
         "mode": "markers",
         "name": "Philippines",
         "showlegend": false,
         "type": "scatter",
         "x": [
          14
         ],
         "y": [
          10.714285714285714
         ]
        },
        {
         "line": {
          "color": "#C7BBB3",
          "width": 2
         },
         "mode": "lines",
         "name": "Poland",
         "showlegend": false,
         "type": "scatter",
         "x": [
          0,
          1,
          2,
          3,
          4,
          5,
          6,
          7
         ],
         "y": [
          3.2857142857142856,
          3.2857142857142856,
          4.142857142857143,
          5.857142857142857,
          7.857142857142857,
          8.714285714285714,
          10.285714285714286,
          10.857142857142858
         ]
        },
        {
         "line": {
          "color": "#C7BBB3",
          "width": 2
         },
         "mode": "markers",
         "name": "Poland",
         "showlegend": false,
         "type": "scatter",
         "x": [
          7
         ],
         "y": [
          10.857142857142858
         ]
        },
        {
         "line": {
          "color": "#C7BBB3",
          "width": 2
         },
         "mode": "lines",
         "name": "Portugal",
         "showlegend": false,
         "type": "scatter",
         "x": [
          0,
          1,
          2,
          3,
          4,
          5,
          6,
          7,
          8,
          9,
          10,
          11,
          12,
          13,
          14
         ],
         "y": [
          3.2857142857142856,
          4.571428571428571,
          5.857142857142857,
          8.142857142857142,
          10,
          12.571428571428571,
          15,
          16.714285714285715,
          18.142857142857142,
          20.571428571428573,
          21.285714285714285,
          24.285714285714285,
          23.714285714285715,
          25.142857142857142,
          24.428571428571427
         ]
        },
        {
         "line": {
          "color": "#C7BBB3",
          "width": 2
         },
         "mode": "markers",
         "name": "Portugal",
         "showlegend": false,
         "type": "scatter",
         "x": [
          14
         ],
         "y": [
          24.428571428571427
         ]
        },
        {
         "line": {
          "color": "#C7BBB3",
          "width": 2
         },
         "mode": "lines",
         "name": "Romania",
         "showlegend": false,
         "type": "scatter",
         "x": [
          0,
          1,
          2,
          3,
          4,
          5,
          6,
          7,
          8,
          9,
          10
         ],
         "y": [
          3.4285714285714284,
          4.142857142857143,
          5.428571428571429,
          5.285714285714286,
          8.285714285714286,
          10.285714285714286,
          11,
          15.571428571428571,
          16,
          15.428571428571429,
          16.142857142857142
         ]
        },
        {
         "line": {
          "color": "#C7BBB3",
          "width": 2
         },
         "mode": "markers",
         "name": "Romania",
         "showlegend": false,
         "type": "scatter",
         "x": [
          10
         ],
         "y": [
          16.142857142857142
         ]
        },
        {
         "line": {
          "color": "#C7BBB3",
          "width": 2
         },
         "mode": "lines",
         "name": "Russia",
         "showlegend": false,
         "type": "scatter",
         "x": [
          0,
          1,
          2,
          3,
          4,
          5
         ],
         "y": [
          3.4285714285714284,
          4,
          4.285714285714286,
          5.428571428571429,
          5.285714285714286,
          5.285714285714286
         ]
        },
        {
         "line": {
          "color": "#C7BBB3",
          "width": 2
         },
         "mode": "markers",
         "name": "Russia",
         "showlegend": false,
         "type": "scatter",
         "x": [
          5
         ],
         "y": [
          5.285714285714286
         ]
        },
        {
         "line": {
          "color": "#C7BBB3",
          "width": 2
         },
         "mode": "lines",
         "name": "Saudi Arabia",
         "showlegend": false,
         "type": "scatter",
         "x": [
          0,
          1,
          2
         ],
         "y": [
          3.5714285714285716,
          3.7142857142857144,
          4.285714285714286
         ]
        },
        {
         "line": {
          "color": "#C7BBB3",
          "width": 2
         },
         "mode": "markers",
         "name": "Saudi Arabia",
         "showlegend": false,
         "type": "scatter",
         "x": [
          2
         ],
         "y": [
          4.285714285714286
         ]
        },
        {
         "line": {
          "color": "#C7BBB3",
          "width": 2
         },
         "mode": "lines",
         "name": "Serbia",
         "showlegend": false,
         "type": "scatter",
         "x": [
          0,
          1,
          2,
          3,
          4,
          5,
          6
         ],
         "y": [
          3.142857142857143,
          3,
          4,
          4.714285714285714,
          4.857142857142857,
          5.428571428571429,
          6.428571428571429
         ]
        },
        {
         "line": {
          "color": "#C7BBB3",
          "width": 2
         },
         "mode": "markers",
         "name": "Serbia",
         "showlegend": false,
         "type": "scatter",
         "x": [
          6
         ],
         "y": [
          6.428571428571429
         ]
        },
        {
         "line": {
          "color": "#C7BBB3",
          "width": 2
         },
         "mode": "lines",
         "name": "Sweden",
         "showlegend": false,
         "type": "scatter",
         "x": [
          0,
          1,
          2,
          3,
          4,
          5,
          6,
          7,
          8,
          9,
          10,
          11,
          12,
          13
         ],
         "y": [
          4,
          4.571428571428571,
          8,
          10.857142857142858,
          11.714285714285714,
          12.714285714285714,
          17.285714285714285,
          20.571428571428573,
          28.142857142857142,
          30.857142857142858,
          34.42857142857143,
          38.714285714285715,
          41.57142857142857,
          47.285714285714285
         ]
        },
        {
         "line": {
          "color": "#C7BBB3",
          "width": 2
         },
         "mode": "markers",
         "name": "Sweden",
         "showlegend": false,
         "type": "scatter",
         "x": [
          13
         ],
         "y": [
          47.285714285714285
         ]
        },
        {
         "line": {
          "color": "#C7BBB3",
          "width": 2
         },
         "mode": "lines",
         "name": "Switzerland",
         "showlegend": false,
         "type": "scatter",
         "x": [
          0,
          1,
          2,
          3,
          4,
          5,
          6,
          7,
          8,
          9,
          10,
          11,
          12,
          13,
          14,
          15,
          16,
          17,
          18
         ],
         "y": [
          4.142857142857143,
          5.142857142857143,
          6.428571428571429,
          6.714285714285714,
          7.428571428571429,
          9.571428571428571,
          11.714285714285714,
          18.285714285714285,
          22,
          25.571428571428573,
          28.142857142857142,
          32.714285714285715,
          41,
          39.285714285714285,
          38.714285714285715,
          41,
          43.57142857142857,
          43.142857142857146,
          41.285714285714285
         ]
        },
        {
         "line": {
          "color": "#C7BBB3",
          "width": 2
         },
         "mode": "markers",
         "name": "Switzerland",
         "showlegend": false,
         "type": "scatter",
         "x": [
          18
         ],
         "y": [
          41.285714285714285
         ]
        },
        {
         "line": {
          "color": "#C7BBB3",
          "width": 2
         },
         "mode": "lines",
         "name": "Turkey",
         "showlegend": false,
         "type": "scatter",
         "x": [
          0,
          1,
          2,
          3,
          4,
          5,
          6,
          7,
          8,
          9,
          10,
          11,
          12,
          13,
          14,
          15,
          16
         ],
         "y": [
          3,
          4.285714285714286,
          5.285714285714286,
          6.285714285714286,
          8.285714285714286,
          10.142857142857142,
          11.857142857142858,
          12.428571428571429,
          14.428571428571429,
          18.714285714285715,
          24.285714285714285,
          31.142857142857142,
          40.142857142857146,
          47.57142857142857,
          56.142857142857146,
          63.285714285714285,
          68.71428571428571
         ]
        },
        {
         "line": {
          "color": "#C7BBB3",
          "width": 2
         },
         "mode": "markers",
         "name": "Turkey",
         "showlegend": false,
         "type": "scatter",
         "x": [
          16
         ],
         "y": [
          68.71428571428571
         ]
        },
        {
         "line": {
          "color": "#C7BBB3",
          "width": 2
         },
         "mode": "lines",
         "name": "Ukraine",
         "showlegend": false,
         "type": "scatter",
         "x": [
          0,
          1
         ],
         "y": [
          3.2857142857142856,
          3.857142857142857
         ]
        },
        {
         "line": {
          "color": "#C7BBB3",
          "width": 2
         },
         "mode": "markers",
         "name": "Ukraine",
         "showlegend": false,
         "type": "scatter",
         "x": [
          1
         ],
         "y": [
          3.857142857142857
         ]
        },
        {
         "line": {
          "color": "#DA870C",
          "width": 2
         },
         "mode": "lines",
         "name": "China",
         "showlegend": false,
         "type": "scatter",
         "x": [
          0,
          1,
          2,
          3,
          4,
          5,
          6,
          7,
          8,
          9,
          10,
          11,
          12,
          13,
          14,
          15,
          16,
          17,
          18,
          19,
          20,
          21,
          22,
          23,
          24,
          25,
          26,
          27,
          28,
          29,
          30,
          31,
          32,
          33,
          34,
          35,
          36,
          37,
          38,
          39,
          40,
          41,
          42,
          43,
          44,
          45,
          46,
          47,
          48,
          49,
          50,
          51,
          52,
          53,
          54,
          55,
          56,
          57,
          58,
          59,
          60,
          61,
          62,
          63,
          64,
          65,
          66,
          67,
          68,
          69,
          70,
          71,
          72,
          73,
          74
         ],
         "y": [
          3.4285714285714284,
          5.571428571428571,
          7.571428571428571,
          11.142857142857142,
          14.285714285714286,
          16.428571428571427,
          21.857142857142858,
          26.714285714285715,
          31.142857142857142,
          35.42857142857143,
          40,
          45.714285714285715,
          51.42857142857143,
          56.285714285714285,
          60.57142857142857,
          66.28571428571429,
          72.57142857142857,
          78.28571428571429,
          84.42857142857143,
          88.85714285714286,
          114.85714285714286,
          106.28571428571429,
          114.42857142857143,
          122,
          123.14285714285714,
          121.71428571428571,
          127.71428571428571,
          107.42857142857143,
          122.42857142857143,
          117.57142857142857,
          111.28571428571429,
          117.71428571428571,
          113.71428571428571,
          101.28571428571429,
          89.42857142857143,
          78.85714285714286,
          70,
          61,
          45.57142857142857,
          40.142857142857146,
          38,
          38.285714285714285,
          36.285714285714285,
          33.57142857142857,
          32.42857142857143,
          29.714285714285715,
          27.571428571428573,
          25.428571428571427,
          22.571428571428573,
          19.285714285714285,
          17.428571428571427,
          14.857142857142858,
          13.428571428571429,
          12.285714285714286,
          11.428571428571429,
          11,
          10.571428571428571,
          9.285714285714286,
          8.857142857142858,
          8.285714285714286,
          8,
          6.285714285714286,
          6,
          6.142857142857143,
          5.714285714285714,
          5.571428571428571,
          4.571428571428571,
          4,
          3.5714285714285716,
          3.5714285714285716,
          4.285714285714286,
          4.428571428571429,
          4.142857142857143,
          4.142857142857143,
          3.7142857142857144
         ]
        },
        {
         "line": {
          "color": "#DA870C",
          "width": 2
         },
         "mode": "markers+text",
         "name": "China",
         "showlegend": false,
         "text": [
          "China"
         ],
         "textfont": {
          "color": "#DA870C",
          "family": "Metric",
          "size": 14
         },
         "textposition": "top right",
         "type": "scatter",
         "x": [
          74
         ],
         "y": [
          3.7142857142857144
         ]
        },
        {
         "line": {
          "color": "#208FCE",
          "width": 2
         },
         "mode": "lines",
         "name": "France",
         "showlegend": false,
         "type": "scatter",
         "x": [
          0,
          1,
          2,
          3,
          4,
          5,
          6,
          7,
          8,
          9,
          10,
          11,
          12,
          13,
          14,
          15,
          16,
          17,
          18,
          19,
          20,
          21,
          22,
          23,
          24,
          25,
          26,
          27,
          28
         ],
         "y": [
          3.857142857142857,
          4.142857142857143,
          6.285714285714286,
          7.714285714285714,
          10,
          11.571428571428571,
          15.428571428571429,
          16.857142857142858,
          20.285714285714285,
          28,
          44.42857142857143,
          53,
          67.28571428571429,
          78.14285714285714,
          101.71428571428571,
          132.14285714285714,
          155.28571428571428,
          189.14285714285714,
          220.71428571428572,
          250.28571428571428,
          276,
          309.14285714285717,
          346.14285714285717,
          385.85714285714283,
          401,
          644.5714285714286,
          749.4285714285714,
          781.7142857142857,
          841
         ]
        },
        {
         "line": {
          "color": "#208FCE",
          "width": 2
         },
         "mode": "markers+text",
         "name": "France",
         "showlegend": false,
         "text": [
          "France"
         ],
         "textfont": {
          "color": "#208FCE",
          "family": "Metric",
          "size": 14
         },
         "textposition": "top right",
         "type": "scatter",
         "x": [
          28
         ],
         "y": [
          841
         ]
        },
        {
         "line": {
          "color": "#79972A",
          "width": 2
         },
         "mode": "lines",
         "name": "Germany",
         "showlegend": false,
         "type": "scatter",
         "x": [
          0,
          1,
          2,
          3,
          4,
          5,
          6,
          7,
          8,
          9,
          10,
          11,
          12,
          13,
          14,
          15,
          16,
          17,
          18
         ],
         "y": [
          5.428571428571429,
          5.714285714285714,
          8.428571428571429,
          11.714285714285714,
          16.142857142857142,
          19.428571428571427,
          26.428571428571427,
          30,
          40,
          46,
          51.57142857142857,
          65.28571428571429,
          83.28571428571429,
          96.28571428571429,
          109.14285714285714,
          119,
          136.14285714285714,
          139.85714285714286,
          146.28571428571428
         ]
        },
        {
         "line": {
          "color": "#79972A",
          "width": 2
         },
         "mode": "markers+text",
         "name": "Germany",
         "showlegend": false,
         "text": [
          "Germany"
         ],
         "textfont": {
          "color": "#79972A",
          "family": "Metric",
          "size": 14
         },
         "textposition": "top right",
         "type": "scatter",
         "x": [
          18
         ],
         "y": [
          146.28571428571428
         ]
        },
        {
         "line": {
          "color": "#66605C",
          "width": 2
         },
         "mode": "lines",
         "name": "Italy",
         "showlegend": false,
         "type": "scatter",
         "x": [
          0,
          1,
          2,
          3,
          4,
          5,
          6,
          7,
          8,
          9,
          10,
          11,
          12,
          13,
          14,
          15,
          16,
          17,
          18,
          19,
          20,
          21,
          22,
          23,
          24,
          25,
          26,
          27,
          28,
          29,
          30,
          31,
          32,
          33,
          34,
          35,
          36,
          37,
          38
         ],
         "y": [
          3,
          3.857142857142857,
          4.714285714285714,
          6.571428571428571,
          9.857142857142858,
          13.571428571428571,
          18.714285714285715,
          25.142857142857142,
          29.142857142857142,
          47.285714285714285,
          58.857142857142854,
          78.71428571428571,
          102.85714285714286,
          124,
          153,
          172.57142857142858,
          206.42857142857142,
          242,
          267.7142857142857,
          307.2857142857143,
          341.57142857142856,
          394.85714285714283,
          483.7142857142857,
          523.5714285714286,
          559.8571428571429,
          616.4285714285714,
          646.7142857142857,
          679.7142857142857,
          729.1428571428571,
          742.2857142857143,
          757.8571428571429,
          787.7142857142857,
          801.4285714285714,
          807.4285714285714,
          821.7142857142857,
          792.1428571428571,
          762.7142857142857,
          729.7142857142857,
          704.8571428571429
         ]
        },
        {
         "line": {
          "color": "#66605C",
          "width": 2
         },
         "mode": "markers+text",
         "name": "Italy",
         "showlegend": false,
         "text": [
          "Italy"
         ],
         "textfont": {
          "color": "#66605C",
          "family": "Metric",
          "size": 14
         },
         "textposition": "top right",
         "type": "scatter",
         "x": [
          38
         ],
         "y": [
          704.8571428571429
         ]
        },
        {
         "line": {
          "color": "#72DCE6",
          "width": 2
         },
         "mode": "lines",
         "name": "South Korea",
         "showlegend": false,
         "type": "scatter",
         "x": [
          0,
          1,
          2,
          3,
          4,
          5,
          6,
          7,
          8,
          9,
          10,
          11,
          12,
          13,
          14,
          15,
          16,
          17,
          18,
          19,
          20,
          21,
          22,
          23,
          24,
          25,
          26,
          27,
          28,
          29,
          30,
          31,
          32,
          33,
          34
         ],
         "y": [
          3,
          3.2857142857142856,
          4.142857142857143,
          4,
          4.714285714285714,
          4.142857142857143,
          3.7142857142857144,
          4,
          4.428571428571429,
          3.5714285714285716,
          4,
          3.5714285714285716,
          3.4285714285714284,
          3.857142857142857,
          3.7142857142857144,
          3.5714285714285716,
          4.714285714285714,
          4.428571428571429,
          4.142857142857143,
          5.428571428571429,
          5.571428571428571,
          5.714285714285714,
          5.714285714285714,
          5.571428571428571,
          5.857142857142857,
          6.857142857142857,
          6.428571428571429,
          6.142857142857143,
          5.285714285714286,
          5.428571428571429,
          5,
          4.714285714285714,
          4.428571428571429,
          4,
          4.142857142857143
         ]
        },
        {
         "line": {
          "color": "#72DCE6",
          "width": 2
         },
         "mode": "markers+text",
         "name": "South Korea",
         "showlegend": false,
         "text": [
          "S Korea"
         ],
         "textfont": {
          "color": "#72DCE6",
          "family": "Metric",
          "size": 14
         },
         "textposition": "top right",
         "type": "scatter",
         "x": [
          34
         ],
         "y": [
          4.142857142857143
         ]
        },
        {
         "line": {
          "color": "#208FCE",
          "width": 2
         },
         "mode": "lines",
         "name": "Spain",
         "showlegend": false,
         "type": "scatter",
         "x": [
          0,
          1,
          2,
          3,
          4,
          5,
          6,
          7,
          8,
          9,
          10,
          11,
          12,
          13,
          14,
          15,
          16,
          17,
          18,
          19,
          20,
          21,
          22,
          23,
          24,
          25,
          26,
          27,
          28
         ],
         "y": [
          4,
          5,
          6.571428571428571,
          11.571428571428571,
          16.571428571428573,
          18.714285714285715,
          40.42857142857143,
          40.142857142857146,
          65.14285714285714,
          78.71428571428571,
          97.57142857142857,
          125.85714285714286,
          170,
          204.57142857142858,
          267.57142857142856,
          315,
          405.14285714285717,
          474.57142857142856,
          550.8571428571429,
          623.4285714285714,
          686.8571428571429,
          736.8571428571429,
          784.7142857142857,
          802.7142857142857,
          844.8571428571429,
          868.1428571428571,
          864.8571428571429,
          841.4285714285714,
          816.4285714285714
         ]
        },
        {
         "line": {
          "color": "#208FCE",
          "width": 2
         },
         "mode": "markers+text",
         "name": "Spain",
         "showlegend": false,
         "text": [
          "Spain"
         ],
         "textfont": {
          "color": "#208FCE",
          "family": "Metric",
          "size": 14
         },
         "textposition": "top left",
         "type": "scatter",
         "x": [
          28
         ],
         "y": [
          816.4285714285714
         ]
        },
        {
         "line": {
          "color": "#B3325D",
          "width": 2
         },
         "mode": "lines",
         "name": "United Kingdom",
         "showlegend": false,
         "type": "scatter",
         "x": [
          0,
          1,
          2,
          3,
          4,
          5,
          6,
          7,
          8,
          9,
          10,
          11,
          12,
          13,
          14,
          15,
          16,
          17,
          18,
          19,
          20,
          21,
          22
         ],
         "y": [
          4.571428571428571,
          7.142857142857143,
          7.714285714285714,
          13.857142857142858,
          19.142857142857142,
          23.857142857142858,
          30.285714285714285,
          35.142857142857146,
          40,
          51.714285714285715,
          51.42857142857143,
          62,
          83.14285714285714,
          112.28571428571429,
          135.28571428571428,
          153.28571428571428,
          195.28571428571428,
          295.57142857142856,
          334.7142857142857,
          406.57142857142856,
          470.57142857142856,
          529.4285714285714,
          566.4285714285714
         ]
        },
        {
         "line": {
          "color": "#B3325D",
          "width": 2
         },
         "mode": "markers+text",
         "name": "United Kingdom",
         "showlegend": false,
         "text": [
          "UK"
         ],
         "textfont": {
          "color": "#B3325D",
          "family": "Metric",
          "size": 14
         },
         "textposition": "top right",
         "type": "scatter",
         "x": [
          22
         ],
         "y": [
          566.4285714285714
         ]
        },
        {
         "line": {
          "color": "#EB5E8D",
          "width": 2
         },
         "mode": "lines",
         "name": "United States",
         "showlegend": false,
         "type": "scatter",
         "x": [
          0,
          1,
          2,
          3,
          4,
          5,
          6,
          7,
          8,
          9,
          10,
          11,
          12,
          13,
          14,
          15,
          16,
          17,
          18,
          19,
          20,
          21,
          22,
          23,
          24,
          25
         ],
         "y": [
          4,
          4.714285714285714,
          5.714285714285714,
          6.857142857142857,
          8.428571428571429,
          11.428571428571429,
          17.142857142857142,
          15.714285714285714,
          30.428571428571427,
          40.42857142857143,
          57.42857142857143,
          72.14285714285714,
          99,
          128.57142857142858,
          163.71428571428572,
          206.71428571428572,
          264.42857142857144,
          291.14285714285717,
          368.57142857142856,
          468.2857142857143,
          584,
          679.5714285714286,
          778.5714285714286,
          901.4285714285714,
          1019.7142857142857,
          1117
         ]
        },
        {
         "line": {
          "color": "#EB5E8D",
          "width": 2
         },
         "mode": "markers+text",
         "name": "United States",
         "showlegend": false,
         "text": [
          "US"
         ],
         "textfont": {
          "color": "#EB5E8D",
          "family": "Metric",
          "size": 14
         },
         "textposition": "top right",
         "type": "scatter",
         "x": [
          25
         ],
         "y": [
          1117
         ]
        }
       ],
       "layout": {
        "autosize": true,
        "font": {
         "color": "#68625E",
         "family": "Metric",
         "size": 15
        },
        "height": 618.0469715698392,
        "legend": {
         "orientation": "h",
         "x": 0,
         "y": -0.25
        },
        "paper_bgcolor": "#FFF1E5",
        "plot_bgcolor": "#FFF1E5",
        "template": {
         "layout": {
          "annotations": [
           {
            "font": {
             "color": "#CEC6B9",
             "size": 24
            },
            "name": "draft watermark",
            "opacity": 1,
            "showarrow": false,
            "text": "NOT THE FINANCIAL TIMES",
            "textangle": 0,
            "x": 0.95,
            "xref": "paper",
            "y": 0.9,
            "yref": "paper"
           }
          ]
         }
        },
        "title": {
         "text": "<b style='color:#030303'>Italy and Spain's daily death tolls are plateauing, but in the UK and US<br>every day brings more new deaths than the last</b><br>Daily coronavirus deaths (7-day rolling avg.), by number of days since 3 daily deaths first recorded",
         "x": 0.045,
         "y": 0.95
        },
        "width": 1000,
        "xaxis": {
         "color": "#857D78",
         "gridcolor": "#E7DACF",
         "gridwidth": 1,
         "linecolor": "#857D78",
         "range": [
          0,
          78
         ],
         "showgrid": true,
         "showline": true,
         "tick0": 1,
         "tickangle": 0,
         "ticklen": 0,
         "ticks": "outside",
         "tickson": "boundaries",
         "tickvals": [
          10,
          20,
          30,
          40,
          50,
          60,
          70
         ],
         "type": "linear",
         "zeroline": false
        },
        "yaxis": {
         "autorange": true,
         "color": "#857D78",
         "gridcolor": "#E7DACF",
         "gridwidth": 1,
         "linecolor": "#857D78",
         "range": [
          0.11296196704472666,
          3.2306288720017933
         ],
         "showgrid": true,
         "showline": false,
         "tick0": 1,
         "ticklen": 0,
         "ticks": "outside",
         "tickson": "boundaries",
         "tickvals": [
          1,
          2,
          5,
          10,
          20,
          50,
          100,
          200,
          500,
          1000,
          2000
         ],
         "type": "log",
         "zeroline": false
        }
       }
      },
      "image/png": "[encoded data removed]",
      "text/html": [
       "<div>\n",
       "        \n",
       "        \n",
       "            <div id=\"d27c159e-bae0-4ff8-bfe7-38ed393d13b8\" class=\"plotly-graph-div\" style=\"height:618.0469715698392px; width:1000px;\"></div>\n",
       "            <script type=\"text/javascript\">\n",
       "                require([\"plotly\"], function(Plotly) {\n",
       "                    window.PLOTLYENV=window.PLOTLYENV || {};\n",
       "                    \n",
       "                if (document.getElementById(\"d27c159e-bae0-4ff8-bfe7-38ed393d13b8\")) {\n",
       "                    Plotly.newPlot(\n",
       "                        'd27c159e-bae0-4ff8-bfe7-38ed393d13b8',\n",
       "                        [{\"line\": {\"color\": \"#C7BBB3\", \"width\": 2}, \"mode\": \"lines\", \"name\": \"Algeria\", \"showlegend\": false, \"type\": \"scatter\", \"x\": [0, 1, 2, 3, 4, 5], \"y\": [5.857142857142857, 5.285714285714286, 8.857142857142858, 14.857142857142858, 17.571428571428573, 20.285714285714285]}, {\"line\": {\"color\": \"#C7BBB3\", \"width\": 2}, \"mode\": \"markers\", \"name\": \"Algeria\", \"showlegend\": false, \"type\": \"scatter\", \"x\": [5], \"y\": [20.285714285714285]}, {\"line\": {\"color\": \"#C7BBB3\", \"width\": 2}, \"mode\": \"lines\", \"name\": \"Argentina\", \"showlegend\": false, \"type\": \"scatter\", \"x\": [0, 1, 2, 3, 4, 5], \"y\": [3.2857142857142856, 3.142857142857143, 2.857142857142857, 3.4285714285714284, 3.7142857142857144, 4.142857142857143]}, {\"line\": {\"color\": \"#C7BBB3\", \"width\": 2}, \"mode\": \"markers\", \"name\": \"Argentina\", \"showlegend\": false, \"type\": \"scatter\", \"x\": [5], \"y\": [4.142857142857143]}, {\"line\": {\"color\": \"#C7BBB3\", \"width\": 2}, \"mode\": \"lines\", \"name\": \"Australia\", \"showlegend\": false, \"type\": \"scatter\", \"x\": [0], \"y\": [3.2857142857142856]}, {\"line\": {\"color\": \"#C7BBB3\", \"width\": 2}, \"mode\": \"markers\", \"name\": \"Australia\", \"showlegend\": false, \"type\": \"scatter\", \"x\": [0], \"y\": [3.2857142857142856]}, {\"line\": {\"color\": \"#C7BBB3\", \"width\": 2}, \"mode\": \"lines\", \"name\": \"Austria\", \"showlegend\": false, \"type\": \"scatter\", \"x\": [0, 1, 2, 3, 4, 5, 6, 7, 8, 9, 10, 11, 12, 13, 14], \"y\": [3.142857142857143, 3.857142857142857, 4.285714285714286, 6.571428571428571, 8.857142857142858, 8.571428571428571, 10.0, 11.857142857142858, 14.0, 16.0, 15.142857142857142, 14.285714285714286, 16.857142857142858, 16.857142857142858, 16.0]}, {\"line\": {\"color\": \"#C7BBB3\", \"width\": 2}, \"mode\": \"markers\", \"name\": \"Austria\", \"showlegend\": false, \"type\": \"scatter\", \"x\": [14], \"y\": [16.0]}, {\"line\": {\"color\": \"#C7BBB3\", \"width\": 2}, \"mode\": \"lines\", \"name\": \"Belgium\", \"showlegend\": false, \"type\": \"scatter\", \"x\": [0, 1, 2, 3, 4, 5, 6, 7, 8, 9, 10, 11, 12, 13, 14, 15, 16, 17], \"y\": [4.857142857142857, 9.0, 10.142857142857142, 11.857142857142858, 16.714285714285715, 23.428571428571427, 28.428571428571427, 36.0, 40.857142857142854, 50.857142857142854, 60.714285714285715, 83.28571428571429, 92.85714285714286, 113.0, 122.0, 132.85714285714286, 145.14285714285714, 159.85714285714286]}, {\"line\": {\"color\": \"#C7BBB3\", \"width\": 2}, \"mode\": \"markers\", \"name\": \"Belgium\", \"showlegend\": false, \"type\": \"scatter\", \"x\": [17], \"y\": [159.85714285714286]}, {\"line\": {\"color\": \"#C7BBB3\", \"width\": 2}, \"mode\": \"lines\", \"name\": \"Brazil\", \"showlegend\": false, \"type\": \"scatter\", \"x\": [0, 1, 2, 3, 4, 5, 6, 7, 8, 9, 10, 11, 12, 13, 14, 15], \"y\": [3.5714285714285716, 4.857142857142857, 6.428571428571429, 7.571428571428571, 10.142857142857142, 11.571428571428571, 13.714285714285714, 15.857142857142858, 17.857142857142858, 22.142857142857142, 26.285714285714285, 31.714285714285715, 38.142857142857146, 45.42857142857143, 50.0, 56.285714285714285]}, {\"line\": {\"color\": \"#C7BBB3\", \"width\": 2}, \"mode\": \"markers\", \"name\": \"Brazil\", \"showlegend\": false, \"type\": \"scatter\", \"x\": [15], \"y\": [56.285714285714285]}, {\"line\": {\"color\": \"#C7BBB3\", \"width\": 2}, \"mode\": \"lines\", \"name\": \"Canada\", \"showlegend\": false, \"type\": \"scatter\", \"x\": [0, 1, 2, 3, 4, 5, 6, 7, 8, 9, 10, 11, 12], \"y\": [3.7142857142857144, 4.142857142857143, 5.857142857142857, 6.714285714285714, 6.142857142857143, 9.285714285714286, 9.857142857142858, 10.571428571428571, 14.142857142857142, 19.142857142857142, 24.428571428571427, 31.285714285714285, 33.42857142857143]}, {\"line\": {\"color\": \"#C7BBB3\", \"width\": 2}, \"mode\": \"markers\", \"name\": \"Canada\", \"showlegend\": false, \"type\": \"scatter\", \"x\": [12], \"y\": [33.42857142857143]}, {\"line\": {\"color\": \"#C7BBB3\", \"width\": 2}, \"mode\": \"lines\", \"name\": \"Chile\", \"showlegend\": false, \"type\": \"scatter\", \"x\": [0, 1, 2], \"y\": [3.0, 3.857142857142857, 4.142857142857143]}, {\"line\": {\"color\": \"#C7BBB3\", \"width\": 2}, \"mode\": \"markers\", \"name\": \"Chile\", \"showlegend\": false, \"type\": \"scatter\", \"x\": [2], \"y\": [4.142857142857143]}, {\"line\": {\"color\": \"#C7BBB3\", \"width\": 2}, \"mode\": \"lines\", \"name\": \"Colombia\", \"showlegend\": false, \"type\": \"scatter\", \"x\": [0, 1, 2], \"y\": [3.7142857142857144, 3.5714285714285716, 4.571428571428571]}, {\"line\": {\"color\": \"#C7BBB3\", \"width\": 2}, \"mode\": \"markers\", \"name\": \"Colombia\", \"showlegend\": false, \"type\": \"scatter\", \"x\": [2], \"y\": [4.571428571428571]}, {\"line\": {\"color\": \"#C7BBB3\", \"width\": 2}, \"mode\": \"lines\", \"name\": \"Denmark\", \"showlegend\": false, \"type\": \"scatter\", \"x\": [0, 1, 2, 3, 4, 5, 6, 7, 8, 9, 10, 11, 12, 13, 14], \"y\": [3.2857142857142856, 4.0, 4.285714285714286, 5.0, 6.142857142857143, 7.428571428571429, 8.428571428571429, 7.571428571428571, 8.285714285714286, 10.0, 11.714285714285714, 12.428571428571429, 13.714285714285714, 15.285714285714286, 15.714285714285714]}, {\"line\": {\"color\": \"#C7BBB3\", \"width\": 2}, \"mode\": \"markers\", \"name\": \"Denmark\", \"showlegend\": false, \"type\": \"scatter\", \"x\": [14], \"y\": [15.714285714285714]}, {\"line\": {\"color\": \"#C7BBB3\", \"width\": 2}, \"mode\": \"lines\", \"name\": \"Dominican Republic\", \"showlegend\": false, \"type\": \"scatter\", \"x\": [0, 1, 2, 3, 4, 5, 6, 7, 8, 9], \"y\": [3.5714285714285716, 5.142857142857143, 5.571428571428571, 6.428571428571429, 6.714285714285714, 7.142857142857143, 6.857142857142857, 7.0, 6.142857142857143, 6.285714285714286]}, {\"line\": {\"color\": \"#C7BBB3\", \"width\": 2}, \"mode\": \"markers\", \"name\": \"Dominican Republic\", \"showlegend\": false, \"type\": \"scatter\", \"x\": [9], \"y\": [6.285714285714286]}, {\"line\": {\"color\": \"#C7BBB3\", \"width\": 2}, \"mode\": \"lines\", \"name\": \"Ecuador\", \"showlegend\": false, \"type\": \"scatter\", \"x\": [0, 1, 2, 3, 4, 5, 6, 7, 8, 9, 10, 11, 12, 13], \"y\": [3.5714285714285716, 3.7142857142857144, 4.428571428571429, 4.857142857142857, 5.857142857142857, 6.285714285714286, 6.285714285714286, 7.428571428571429, 13.0, 12.285714285714286, 14.857142857142858, 17.714285714285715, 17.428571428571427, 18.428571428571427]}, {\"line\": {\"color\": \"#C7BBB3\", \"width\": 2}, \"mode\": \"markers\", \"name\": \"Ecuador\", \"showlegend\": false, \"type\": \"scatter\", \"x\": [13], \"y\": [18.428571428571427]}, {\"line\": {\"color\": \"#C7BBB3\", \"width\": 2}, \"mode\": \"lines\", \"name\": \"Egypt\", \"showlegend\": false, \"type\": \"scatter\", \"x\": [0, 1, 2, 3, 4, 5, 6, 7, 8, 9], \"y\": [3.142857142857143, 3.7142857142857144, 3.7142857142857144, 3.142857142857143, 3.5714285714285716, 4.428571428571429, 4.0, 5.142857142857143, 5.0, 5.428571428571429]}, {\"line\": {\"color\": \"#C7BBB3\", \"width\": 2}, \"mode\": \"markers\", \"name\": \"Egypt\", \"showlegend\": false, \"type\": \"scatter\", \"x\": [9], \"y\": [5.428571428571429]}, {\"line\": {\"color\": \"#C7BBB3\", \"width\": 2}, \"mode\": \"lines\", \"name\": \"Greece\", \"showlegend\": false, \"type\": \"scatter\", \"x\": [0, 1, 2, 3, 4, 5, 6, 7, 8, 9, 10, 11], \"y\": [3.0, 2.857142857142857, 2.7142857142857144, 3.2857142857142856, 3.7142857142857144, 4.142857142857143, 4.0, 3.857142857142857, 4.428571428571429, 5.142857142857143, 5.0, 5.142857142857143]}, {\"line\": {\"color\": \"#C7BBB3\", \"width\": 2}, \"mode\": \"markers\", \"name\": \"Greece\", \"showlegend\": false, \"type\": \"scatter\", \"x\": [11], \"y\": [5.142857142857143]}, {\"line\": {\"color\": \"#C7BBB3\", \"width\": 2}, \"mode\": \"lines\", \"name\": \"Hungary\", \"showlegend\": false, \"type\": \"scatter\", \"x\": [0, 1, 2, 3], \"y\": [3.0, 3.0, 3.2857142857142856, 4.571428571428571]}, {\"line\": {\"color\": \"#C7BBB3\", \"width\": 2}, \"mode\": \"markers\", \"name\": \"Hungary\", \"showlegend\": false, \"type\": \"scatter\", \"x\": [3], \"y\": [4.571428571428571]}, {\"line\": {\"color\": \"#C7BBB3\", \"width\": 2}, \"mode\": \"lines\", \"name\": \"India\", \"showlegend\": false, \"type\": \"scatter\", \"x\": [0, 1, 2, 3, 4, 5, 6, 7, 8, 9], \"y\": [3.0, 3.142857142857143, 3.2857142857142856, 3.7142857142857144, 5.285714285714286, 5.571428571428571, 7.0, 7.428571428571429, 11.428571428571429, 11.714285714285714]}, {\"line\": {\"color\": \"#C7BBB3\", \"width\": 2}, \"mode\": \"markers\", \"name\": \"India\", \"showlegend\": false, \"type\": \"scatter\", \"x\": [9], \"y\": [11.714285714285714]}, {\"line\": {\"color\": \"#C7BBB3\", \"width\": 2}, \"mode\": \"lines\", \"name\": \"Indonesia\", \"showlegend\": false, \"type\": \"scatter\", \"x\": [0, 1, 2, 3, 4, 5, 6, 7, 8, 9, 10, 11, 12, 13, 14, 15, 16, 17], \"y\": [3.0, 4.857142857142857, 6.142857142857143, 6.285714285714286, 7.142857142857143, 7.571428571428571, 8.428571428571429, 8.857142857142858, 9.142857142857142, 9.428571428571429, 10.428571428571429, 11.571428571428571, 14.142857142857142, 13.142857142857142, 13.428571428571429, 12.714285714285714, 12.0, 12.428571428571429]}, {\"line\": {\"color\": \"#C7BBB3\", \"width\": 2}, \"mode\": \"markers\", \"name\": \"Indonesia\", \"showlegend\": false, \"type\": \"scatter\", \"x\": [17], \"y\": [12.428571428571429]}, {\"line\": {\"color\": \"#C7BBB3\", \"width\": 2}, \"mode\": \"lines\", \"name\": \"Iran\", \"showlegend\": false, \"type\": \"scatter\", \"x\": [0, 1, 2, 3, 4, 5, 6, 7, 8, 9, 10, 11, 12, 13, 14, 15, 16, 17, 18, 19, 20, 21, 22, 23, 24, 25, 26, 27, 28, 29, 30, 31, 32, 33, 34, 35, 36, 37, 38, 39], \"y\": [3.4285714285714284, 4.285714285714286, 5.428571428571429, 6.571428571428571, 7.714285714285714, 8.857142857142858, 10.428571428571429, 11.571428571428571, 12.857142857142858, 14.571428571428571, 20.0, 24.428571428571427, 30.571428571428573, 37.42857142857143, 46.0, 55.714285714285715, 66.57142857142857, 75.71428571428571, 88.0, 99.57142857142857, 111.57142857142857, 122.14285714285714, 131.28571428571428, 135.0, 137.28571428571428, 137.0, 135.14285714285714, 134.57142857142858, 135.71428571428572, 135.0, 137.28571428571428, 136.42857142857142, 135.0, 137.71428571428572, 137.0, 132.28571428571428, 111.71428571428571, 133.57142857142858, 137.57142857142858, 140.28571428571428]}, {\"line\": {\"color\": \"#C7BBB3\", \"width\": 2}, \"mode\": \"markers\", \"name\": \"Iran\", \"showlegend\": false, \"type\": \"scatter\", \"x\": [39], \"y\": [140.28571428571428]}, {\"line\": {\"color\": \"#C7BBB3\", \"width\": 2}, \"mode\": \"lines\", \"name\": \"Iraq\", \"showlegend\": false, \"type\": \"scatter\", \"x\": [0, 1, 2, 3, 4, 5, 6, 7, 8, 9, 10, 11], \"y\": [3.4285714285714284, 3.7142857142857144, 3.5714285714285716, 3.142857142857143, 3.2857142857142856, 3.2857142857142856, 3.0, 2.5714285714285716, 2.0, 2.0, 2.7142857142857144, 2.5714285714285716]}, {\"line\": {\"color\": \"#C7BBB3\", \"width\": 2}, \"mode\": \"markers\", \"name\": \"Iraq\", \"showlegend\": false, \"type\": \"scatter\", \"x\": [11], \"y\": [2.5714285714285716]}, {\"line\": {\"color\": \"#C7BBB3\", \"width\": 2}, \"mode\": \"lines\", \"name\": \"Ireland\", \"showlegend\": false, \"type\": \"scatter\", \"x\": [0, 1, 2, 3, 4, 5, 6, 7, 8, 9], \"y\": [4.714285714285714, 6.0, 6.857142857142857, 9.142857142857142, 10.857142857142858, 11.285714285714286, 14.0, 14.428571428571429, 16.0, 17.142857142857142]}, {\"line\": {\"color\": \"#C7BBB3\", \"width\": 2}, \"mode\": \"markers\", \"name\": \"Ireland\", \"showlegend\": false, \"type\": \"scatter\", \"x\": [9], \"y\": [17.142857142857142]}, {\"line\": {\"color\": \"#C7BBB3\", \"width\": 2}, \"mode\": \"lines\", \"name\": \"Israel\", \"showlegend\": false, \"type\": \"scatter\", \"x\": [0, 1, 2, 3, 4], \"y\": [3.7142857142857144, 4.142857142857143, 4.857142857142857, 4.857142857142857, 5.714285714285714]}, {\"line\": {\"color\": \"#C7BBB3\", \"width\": 2}, \"mode\": \"markers\", \"name\": \"Israel\", \"showlegend\": false, \"type\": \"scatter\", \"x\": [4], \"y\": [5.714285714285714]}, {\"line\": {\"color\": \"#C7BBB3\", \"width\": 2}, \"mode\": \"lines\", \"name\": \"Japan\", \"showlegend\": false, \"type\": \"scatter\", \"x\": [0], \"y\": [3.4285714285714284]}, {\"line\": {\"color\": \"#C7BBB3\", \"width\": 2}, \"mode\": \"markers\", \"name\": \"Japan\", \"showlegend\": false, \"type\": \"scatter\", \"x\": [0], \"y\": [3.4285714285714284]}, {\"line\": {\"color\": \"#C7BBB3\", \"width\": 2}, \"mode\": \"lines\", \"name\": \"Luxembourg\", \"showlegend\": false, \"type\": \"scatter\", \"x\": [0, 1, 2, 3, 4, 5], \"y\": [3.0, 3.0, 2.2857142857142856, 1.8571428571428572, 2.142857142857143, 2.7142857142857144]}, {\"line\": {\"color\": \"#C7BBB3\", \"width\": 2}, \"mode\": \"markers\", \"name\": \"Luxembourg\", \"showlegend\": false, \"type\": \"scatter\", \"x\": [5], \"y\": [2.7142857142857144]}, {\"line\": {\"color\": \"#C7BBB3\", \"width\": 2}, \"mode\": \"lines\", \"name\": \"Malaysia\", \"showlegend\": false, \"type\": \"scatter\", \"x\": [0, 1, 2, 3, 4, 5, 6, 7, 8, 9, 10, 11], \"y\": [3.0, 3.4285714285714284, 3.2857142857142856, 3.4285714285714284, 3.2857142857142856, 3.142857142857143, 3.7142857142857144, 3.857142857142857, 3.857142857142857, 4.285714285714286, 3.857142857142857, 3.5714285714285716]}, {\"line\": {\"color\": \"#C7BBB3\", \"width\": 2}, \"mode\": \"markers\", \"name\": \"Malaysia\", \"showlegend\": false, \"type\": \"scatter\", \"x\": [11], \"y\": [3.5714285714285716]}, {\"line\": {\"color\": \"#C7BBB3\", \"width\": 2}, \"mode\": \"lines\", \"name\": \"Mexico\", \"showlegend\": false, \"type\": \"scatter\", \"x\": [0, 1, 2, 3, 4, 5, 6, 7], \"y\": [3.4285714285714284, 3.4285714285714284, 4.571428571428571, 4.142857142857143, 6.857142857142857, 9.0, 10.571428571428571, 13.857142857142858]}, {\"line\": {\"color\": \"#C7BBB3\", \"width\": 2}, \"mode\": \"markers\", \"name\": \"Mexico\", \"showlegend\": false, \"type\": \"scatter\", \"x\": [7], \"y\": [13.857142857142858]}, {\"line\": {\"color\": \"#C7BBB3\", \"width\": 2}, \"mode\": \"lines\", \"name\": \"Morocco\", \"showlegend\": false, \"type\": \"scatter\", \"x\": [0, 1, 2, 3, 4, 5, 6, 7, 8], \"y\": [3.142857142857143, 4.142857142857143, 4.428571428571429, 4.714285714285714, 4.857142857142857, 3.0, 5.142857142857143, 6.285714285714286, 6.714285714285714]}, {\"line\": {\"color\": \"#C7BBB3\", \"width\": 2}, \"mode\": \"markers\", \"name\": \"Morocco\", \"showlegend\": false, \"type\": \"scatter\", \"x\": [8], \"y\": [6.714285714285714]}, {\"line\": {\"color\": \"#C7BBB3\", \"width\": 2}, \"mode\": \"lines\", \"name\": \"Netherlands\", \"showlegend\": false, \"type\": \"scatter\", \"x\": [0, 1, 2, 3, 4, 5, 6, 7, 8, 9, 10, 11, 12, 13, 14, 15, 16, 17, 18, 19, 20, 21], \"y\": [3.0, 5.571428571428571, 7.571428571428571, 10.142857142857142, 14.428571428571429, 17.714285714285715, 22.714285714285715, 27.0, 33.285714285714285, 42.57142857142857, 51.142857142857146, 62.857142857142854, 71.85714285714286, 84.57142857142857, 93.0, 109.0, 116.71428571428571, 129.28571428571428, 134.42857142857142, 144.57142857142858, 142.14285714285714, 143.28571428571428]}, {\"line\": {\"color\": \"#C7BBB3\", \"width\": 2}, \"mode\": \"markers\", \"name\": \"Netherlands\", \"showlegend\": false, \"type\": \"scatter\", \"x\": [21], \"y\": [143.28571428571428]}, {\"line\": {\"color\": \"#C7BBB3\", \"width\": 2}, \"mode\": \"lines\", \"name\": \"Norway\", \"showlegend\": false, \"type\": \"scatter\", \"x\": [0, 1, 2, 3, 4], \"y\": [4.0, 4.0, 4.285714285714286, 5.142857142857143, 4.714285714285714]}, {\"line\": {\"color\": \"#C7BBB3\", \"width\": 2}, \"mode\": \"markers\", \"name\": \"Norway\", \"showlegend\": false, \"type\": \"scatter\", \"x\": [4], \"y\": [4.714285714285714]}, {\"line\": {\"color\": \"#C7BBB3\", \"width\": 2}, \"mode\": \"lines\", \"name\": \"Pakistan\", \"showlegend\": false, \"type\": \"scatter\", \"x\": [0, 1, 2, 3, 4, 5], \"y\": [3.2857142857142856, 3.142857142857143, 3.142857142857143, 3.4285714285714284, 5.285714285714286, 5.142857142857143]}, {\"line\": {\"color\": \"#C7BBB3\", \"width\": 2}, \"mode\": \"markers\", \"name\": \"Pakistan\", \"showlegend\": false, \"type\": \"scatter\", \"x\": [5], \"y\": [5.142857142857143]}, {\"line\": {\"color\": \"#C7BBB3\", \"width\": 2}, \"mode\": \"lines\", \"name\": \"Panama\", \"showlegend\": false, \"type\": \"scatter\", \"x\": [0, 1, 2, 3, 4, 5, 6, 7, 8], \"y\": [3.0, 2.857142857142857, 3.4285714285714284, 3.7142857142857144, 4.0, 3.857142857142857, 4.142857142857143, 4.285714285714286, 4.142857142857143]}, {\"line\": {\"color\": \"#C7BBB3\", \"width\": 2}, \"mode\": \"markers\", \"name\": \"Panama\", \"showlegend\": false, \"type\": \"scatter\", \"x\": [8], \"y\": [4.142857142857143]}, {\"line\": {\"color\": \"#C7BBB3\", \"width\": 2}, \"mode\": \"lines\", \"name\": \"Peru\", \"showlegend\": false, \"type\": \"scatter\", \"x\": [0, 1, 2, 3, 4, 5, 6], \"y\": [3.2857142857142856, 5.571428571428571, 6.571428571428571, 7.142857142857143, 8.142857142857142, 9.285714285714286, 9.714285714285714]}, {\"line\": {\"color\": \"#C7BBB3\", \"width\": 2}, \"mode\": \"markers\", \"name\": \"Peru\", \"showlegend\": false, \"type\": \"scatter\", \"x\": [6], \"y\": [9.714285714285714]}, {\"line\": {\"color\": \"#C7BBB3\", \"width\": 2}, \"mode\": \"lines\", \"name\": \"Philippines\", \"showlegend\": false, \"type\": \"scatter\", \"x\": [0, 1, 2, 3, 4, 5, 6, 7, 8, 9, 10, 11, 12, 13, 14], \"y\": [3.0, 3.0, 3.0, 3.857142857142857, 5.142857142857143, 6.142857142857143, 6.571428571428571, 7.857142857142857, 7.571428571428571, 8.285714285714286, 8.857142857142858, 11.714285714285714, 10.857142857142858, 11.571428571428571, 10.714285714285714]}, {\"line\": {\"color\": \"#C7BBB3\", \"width\": 2}, \"mode\": \"markers\", \"name\": \"Philippines\", \"showlegend\": false, \"type\": \"scatter\", \"x\": [14], \"y\": [10.714285714285714]}, {\"line\": {\"color\": \"#C7BBB3\", \"width\": 2}, \"mode\": \"lines\", \"name\": \"Poland\", \"showlegend\": false, \"type\": \"scatter\", \"x\": [0, 1, 2, 3, 4, 5, 6, 7], \"y\": [3.2857142857142856, 3.2857142857142856, 4.142857142857143, 5.857142857142857, 7.857142857142857, 8.714285714285714, 10.285714285714286, 10.857142857142858]}, {\"line\": {\"color\": \"#C7BBB3\", \"width\": 2}, \"mode\": \"markers\", \"name\": \"Poland\", \"showlegend\": false, \"type\": \"scatter\", \"x\": [7], \"y\": [10.857142857142858]}, {\"line\": {\"color\": \"#C7BBB3\", \"width\": 2}, \"mode\": \"lines\", \"name\": \"Portugal\", \"showlegend\": false, \"type\": \"scatter\", \"x\": [0, 1, 2, 3, 4, 5, 6, 7, 8, 9, 10, 11, 12, 13, 14], \"y\": [3.2857142857142856, 4.571428571428571, 5.857142857142857, 8.142857142857142, 10.0, 12.571428571428571, 15.0, 16.714285714285715, 18.142857142857142, 20.571428571428573, 21.285714285714285, 24.285714285714285, 23.714285714285715, 25.142857142857142, 24.428571428571427]}, {\"line\": {\"color\": \"#C7BBB3\", \"width\": 2}, \"mode\": \"markers\", \"name\": \"Portugal\", \"showlegend\": false, \"type\": \"scatter\", \"x\": [14], \"y\": [24.428571428571427]}, {\"line\": {\"color\": \"#C7BBB3\", \"width\": 2}, \"mode\": \"lines\", \"name\": \"Romania\", \"showlegend\": false, \"type\": \"scatter\", \"x\": [0, 1, 2, 3, 4, 5, 6, 7, 8, 9, 10], \"y\": [3.4285714285714284, 4.142857142857143, 5.428571428571429, 5.285714285714286, 8.285714285714286, 10.285714285714286, 11.0, 15.571428571428571, 16.0, 15.428571428571429, 16.142857142857142]}, {\"line\": {\"color\": \"#C7BBB3\", \"width\": 2}, \"mode\": \"markers\", \"name\": \"Romania\", \"showlegend\": false, \"type\": \"scatter\", \"x\": [10], \"y\": [16.142857142857142]}, {\"line\": {\"color\": \"#C7BBB3\", \"width\": 2}, \"mode\": \"lines\", \"name\": \"Russia\", \"showlegend\": false, \"type\": \"scatter\", \"x\": [0, 1, 2, 3, 4, 5], \"y\": [3.4285714285714284, 4.0, 4.285714285714286, 5.428571428571429, 5.285714285714286, 5.285714285714286]}, {\"line\": {\"color\": \"#C7BBB3\", \"width\": 2}, \"mode\": \"markers\", \"name\": \"Russia\", \"showlegend\": false, \"type\": \"scatter\", \"x\": [5], \"y\": [5.285714285714286]}, {\"line\": {\"color\": \"#C7BBB3\", \"width\": 2}, \"mode\": \"lines\", \"name\": \"Saudi Arabia\", \"showlegend\": false, \"type\": \"scatter\", \"x\": [0, 1, 2], \"y\": [3.5714285714285716, 3.7142857142857144, 4.285714285714286]}, {\"line\": {\"color\": \"#C7BBB3\", \"width\": 2}, \"mode\": \"markers\", \"name\": \"Saudi Arabia\", \"showlegend\": false, \"type\": \"scatter\", \"x\": [2], \"y\": [4.285714285714286]}, {\"line\": {\"color\": \"#C7BBB3\", \"width\": 2}, \"mode\": \"lines\", \"name\": \"Serbia\", \"showlegend\": false, \"type\": \"scatter\", \"x\": [0, 1, 2, 3, 4, 5, 6], \"y\": [3.142857142857143, 3.0, 4.0, 4.714285714285714, 4.857142857142857, 5.428571428571429, 6.428571428571429]}, {\"line\": {\"color\": \"#C7BBB3\", \"width\": 2}, \"mode\": \"markers\", \"name\": \"Serbia\", \"showlegend\": false, \"type\": \"scatter\", \"x\": [6], \"y\": [6.428571428571429]}, {\"line\": {\"color\": \"#C7BBB3\", \"width\": 2}, \"mode\": \"lines\", \"name\": \"Sweden\", \"showlegend\": false, \"type\": \"scatter\", \"x\": [0, 1, 2, 3, 4, 5, 6, 7, 8, 9, 10, 11, 12, 13], \"y\": [4.0, 4.571428571428571, 8.0, 10.857142857142858, 11.714285714285714, 12.714285714285714, 17.285714285714285, 20.571428571428573, 28.142857142857142, 30.857142857142858, 34.42857142857143, 38.714285714285715, 41.57142857142857, 47.285714285714285]}, {\"line\": {\"color\": \"#C7BBB3\", \"width\": 2}, \"mode\": \"markers\", \"name\": \"Sweden\", \"showlegend\": false, \"type\": \"scatter\", \"x\": [13], \"y\": [47.285714285714285]}, {\"line\": {\"color\": \"#C7BBB3\", \"width\": 2}, \"mode\": \"lines\", \"name\": \"Switzerland\", \"showlegend\": false, \"type\": \"scatter\", \"x\": [0, 1, 2, 3, 4, 5, 6, 7, 8, 9, 10, 11, 12, 13, 14, 15, 16, 17, 18], \"y\": [4.142857142857143, 5.142857142857143, 6.428571428571429, 6.714285714285714, 7.428571428571429, 9.571428571428571, 11.714285714285714, 18.285714285714285, 22.0, 25.571428571428573, 28.142857142857142, 32.714285714285715, 41.0, 39.285714285714285, 38.714285714285715, 41.0, 43.57142857142857, 43.142857142857146, 41.285714285714285]}, {\"line\": {\"color\": \"#C7BBB3\", \"width\": 2}, \"mode\": \"markers\", \"name\": \"Switzerland\", \"showlegend\": false, \"type\": \"scatter\", \"x\": [18], \"y\": [41.285714285714285]}, {\"line\": {\"color\": \"#C7BBB3\", \"width\": 2}, \"mode\": \"lines\", \"name\": \"Turkey\", \"showlegend\": false, \"type\": \"scatter\", \"x\": [0, 1, 2, 3, 4, 5, 6, 7, 8, 9, 10, 11, 12, 13, 14, 15, 16], \"y\": [3.0, 4.285714285714286, 5.285714285714286, 6.285714285714286, 8.285714285714286, 10.142857142857142, 11.857142857142858, 12.428571428571429, 14.428571428571429, 18.714285714285715, 24.285714285714285, 31.142857142857142, 40.142857142857146, 47.57142857142857, 56.142857142857146, 63.285714285714285, 68.71428571428571]}, {\"line\": {\"color\": \"#C7BBB3\", \"width\": 2}, \"mode\": \"markers\", \"name\": \"Turkey\", \"showlegend\": false, \"type\": \"scatter\", \"x\": [16], \"y\": [68.71428571428571]}, {\"line\": {\"color\": \"#C7BBB3\", \"width\": 2}, \"mode\": \"lines\", \"name\": \"Ukraine\", \"showlegend\": false, \"type\": \"scatter\", \"x\": [0, 1], \"y\": [3.2857142857142856, 3.857142857142857]}, {\"line\": {\"color\": \"#C7BBB3\", \"width\": 2}, \"mode\": \"markers\", \"name\": \"Ukraine\", \"showlegend\": false, \"type\": \"scatter\", \"x\": [1], \"y\": [3.857142857142857]}, {\"line\": {\"color\": \"#DA870C\", \"width\": 2}, \"mode\": \"lines\", \"name\": \"China\", \"showlegend\": false, \"type\": \"scatter\", \"x\": [0, 1, 2, 3, 4, 5, 6, 7, 8, 9, 10, 11, 12, 13, 14, 15, 16, 17, 18, 19, 20, 21, 22, 23, 24, 25, 26, 27, 28, 29, 30, 31, 32, 33, 34, 35, 36, 37, 38, 39, 40, 41, 42, 43, 44, 45, 46, 47, 48, 49, 50, 51, 52, 53, 54, 55, 56, 57, 58, 59, 60, 61, 62, 63, 64, 65, 66, 67, 68, 69, 70, 71, 72, 73, 74], \"y\": [3.4285714285714284, 5.571428571428571, 7.571428571428571, 11.142857142857142, 14.285714285714286, 16.428571428571427, 21.857142857142858, 26.714285714285715, 31.142857142857142, 35.42857142857143, 40.0, 45.714285714285715, 51.42857142857143, 56.285714285714285, 60.57142857142857, 66.28571428571429, 72.57142857142857, 78.28571428571429, 84.42857142857143, 88.85714285714286, 114.85714285714286, 106.28571428571429, 114.42857142857143, 122.0, 123.14285714285714, 121.71428571428571, 127.71428571428571, 107.42857142857143, 122.42857142857143, 117.57142857142857, 111.28571428571429, 117.71428571428571, 113.71428571428571, 101.28571428571429, 89.42857142857143, 78.85714285714286, 70.0, 61.0, 45.57142857142857, 40.142857142857146, 38.0, 38.285714285714285, 36.285714285714285, 33.57142857142857, 32.42857142857143, 29.714285714285715, 27.571428571428573, 25.428571428571427, 22.571428571428573, 19.285714285714285, 17.428571428571427, 14.857142857142858, 13.428571428571429, 12.285714285714286, 11.428571428571429, 11.0, 10.571428571428571, 9.285714285714286, 8.857142857142858, 8.285714285714286, 8.0, 6.285714285714286, 6.0, 6.142857142857143, 5.714285714285714, 5.571428571428571, 4.571428571428571, 4.0, 3.5714285714285716, 3.5714285714285716, 4.285714285714286, 4.428571428571429, 4.142857142857143, 4.142857142857143, 3.7142857142857144]}, {\"line\": {\"color\": \"#DA870C\", \"width\": 2}, \"mode\": \"markers+text\", \"name\": \"China\", \"showlegend\": false, \"text\": [\"China\"], \"textfont\": {\"color\": \"#DA870C\", \"family\": \"Metric\", \"size\": 14}, \"textposition\": \"top right\", \"type\": \"scatter\", \"x\": [74], \"y\": [3.7142857142857144]}, {\"line\": {\"color\": \"#208FCE\", \"width\": 2}, \"mode\": \"lines\", \"name\": \"France\", \"showlegend\": false, \"type\": \"scatter\", \"x\": [0, 1, 2, 3, 4, 5, 6, 7, 8, 9, 10, 11, 12, 13, 14, 15, 16, 17, 18, 19, 20, 21, 22, 23, 24, 25, 26, 27, 28], \"y\": [3.857142857142857, 4.142857142857143, 6.285714285714286, 7.714285714285714, 10.0, 11.571428571428571, 15.428571428571429, 16.857142857142858, 20.285714285714285, 28.0, 44.42857142857143, 53.0, 67.28571428571429, 78.14285714285714, 101.71428571428571, 132.14285714285714, 155.28571428571428, 189.14285714285714, 220.71428571428572, 250.28571428571428, 276.0, 309.14285714285717, 346.14285714285717, 385.85714285714283, 401.0, 644.5714285714286, 749.4285714285714, 781.7142857142857, 841.0]}, {\"line\": {\"color\": \"#208FCE\", \"width\": 2}, \"mode\": \"markers+text\", \"name\": \"France\", \"showlegend\": false, \"text\": [\"France\"], \"textfont\": {\"color\": \"#208FCE\", \"family\": \"Metric\", \"size\": 14}, \"textposition\": \"top right\", \"type\": \"scatter\", \"x\": [28], \"y\": [841.0]}, {\"line\": {\"color\": \"#79972A\", \"width\": 2}, \"mode\": \"lines\", \"name\": \"Germany\", \"showlegend\": false, \"type\": \"scatter\", \"x\": [0, 1, 2, 3, 4, 5, 6, 7, 8, 9, 10, 11, 12, 13, 14, 15, 16, 17, 18], \"y\": [5.428571428571429, 5.714285714285714, 8.428571428571429, 11.714285714285714, 16.142857142857142, 19.428571428571427, 26.428571428571427, 30.0, 40.0, 46.0, 51.57142857142857, 65.28571428571429, 83.28571428571429, 96.28571428571429, 109.14285714285714, 119.0, 136.14285714285714, 139.85714285714286, 146.28571428571428]}, {\"line\": {\"color\": \"#79972A\", \"width\": 2}, \"mode\": \"markers+text\", \"name\": \"Germany\", \"showlegend\": false, \"text\": [\"Germany\"], \"textfont\": {\"color\": \"#79972A\", \"family\": \"Metric\", \"size\": 14}, \"textposition\": \"top right\", \"type\": \"scatter\", \"x\": [18], \"y\": [146.28571428571428]}, {\"line\": {\"color\": \"#66605C\", \"width\": 2}, \"mode\": \"lines\", \"name\": \"Italy\", \"showlegend\": false, \"type\": \"scatter\", \"x\": [0, 1, 2, 3, 4, 5, 6, 7, 8, 9, 10, 11, 12, 13, 14, 15, 16, 17, 18, 19, 20, 21, 22, 23, 24, 25, 26, 27, 28, 29, 30, 31, 32, 33, 34, 35, 36, 37, 38], \"y\": [3.0, 3.857142857142857, 4.714285714285714, 6.571428571428571, 9.857142857142858, 13.571428571428571, 18.714285714285715, 25.142857142857142, 29.142857142857142, 47.285714285714285, 58.857142857142854, 78.71428571428571, 102.85714285714286, 124.0, 153.0, 172.57142857142858, 206.42857142857142, 242.0, 267.7142857142857, 307.2857142857143, 341.57142857142856, 394.85714285714283, 483.7142857142857, 523.5714285714286, 559.8571428571429, 616.4285714285714, 646.7142857142857, 679.7142857142857, 729.1428571428571, 742.2857142857143, 757.8571428571429, 787.7142857142857, 801.4285714285714, 807.4285714285714, 821.7142857142857, 792.1428571428571, 762.7142857142857, 729.7142857142857, 704.8571428571429]}, {\"line\": {\"color\": \"#66605C\", \"width\": 2}, \"mode\": \"markers+text\", \"name\": \"Italy\", \"showlegend\": false, \"text\": [\"Italy\"], \"textfont\": {\"color\": \"#66605C\", \"family\": \"Metric\", \"size\": 14}, \"textposition\": \"top right\", \"type\": \"scatter\", \"x\": [38], \"y\": [704.8571428571429]}, {\"line\": {\"color\": \"#72DCE6\", \"width\": 2}, \"mode\": \"lines\", \"name\": \"South Korea\", \"showlegend\": false, \"type\": \"scatter\", \"x\": [0, 1, 2, 3, 4, 5, 6, 7, 8, 9, 10, 11, 12, 13, 14, 15, 16, 17, 18, 19, 20, 21, 22, 23, 24, 25, 26, 27, 28, 29, 30, 31, 32, 33, 34], \"y\": [3.0, 3.2857142857142856, 4.142857142857143, 4.0, 4.714285714285714, 4.142857142857143, 3.7142857142857144, 4.0, 4.428571428571429, 3.5714285714285716, 4.0, 3.5714285714285716, 3.4285714285714284, 3.857142857142857, 3.7142857142857144, 3.5714285714285716, 4.714285714285714, 4.428571428571429, 4.142857142857143, 5.428571428571429, 5.571428571428571, 5.714285714285714, 5.714285714285714, 5.571428571428571, 5.857142857142857, 6.857142857142857, 6.428571428571429, 6.142857142857143, 5.285714285714286, 5.428571428571429, 5.0, 4.714285714285714, 4.428571428571429, 4.0, 4.142857142857143]}, {\"line\": {\"color\": \"#72DCE6\", \"width\": 2}, \"mode\": \"markers+text\", \"name\": \"South Korea\", \"showlegend\": false, \"text\": [\"S Korea\"], \"textfont\": {\"color\": \"#72DCE6\", \"family\": \"Metric\", \"size\": 14}, \"textposition\": \"top right\", \"type\": \"scatter\", \"x\": [34], \"y\": [4.142857142857143]}, {\"line\": {\"color\": \"#208FCE\", \"width\": 2}, \"mode\": \"lines\", \"name\": \"Spain\", \"showlegend\": false, \"type\": \"scatter\", \"x\": [0, 1, 2, 3, 4, 5, 6, 7, 8, 9, 10, 11, 12, 13, 14, 15, 16, 17, 18, 19, 20, 21, 22, 23, 24, 25, 26, 27, 28], \"y\": [4.0, 5.0, 6.571428571428571, 11.571428571428571, 16.571428571428573, 18.714285714285715, 40.42857142857143, 40.142857142857146, 65.14285714285714, 78.71428571428571, 97.57142857142857, 125.85714285714286, 170.0, 204.57142857142858, 267.57142857142856, 315.0, 405.14285714285717, 474.57142857142856, 550.8571428571429, 623.4285714285714, 686.8571428571429, 736.8571428571429, 784.7142857142857, 802.7142857142857, 844.8571428571429, 868.1428571428571, 864.8571428571429, 841.4285714285714, 816.4285714285714]}, {\"line\": {\"color\": \"#208FCE\", \"width\": 2}, \"mode\": \"markers+text\", \"name\": \"Spain\", \"showlegend\": false, \"text\": [\"Spain\"], \"textfont\": {\"color\": \"#208FCE\", \"family\": \"Metric\", \"size\": 14}, \"textposition\": \"top left\", \"type\": \"scatter\", \"x\": [28], \"y\": [816.4285714285714]}, {\"line\": {\"color\": \"#B3325D\", \"width\": 2}, \"mode\": \"lines\", \"name\": \"United Kingdom\", \"showlegend\": false, \"type\": \"scatter\", \"x\": [0, 1, 2, 3, 4, 5, 6, 7, 8, 9, 10, 11, 12, 13, 14, 15, 16, 17, 18, 19, 20, 21, 22], \"y\": [4.571428571428571, 7.142857142857143, 7.714285714285714, 13.857142857142858, 19.142857142857142, 23.857142857142858, 30.285714285714285, 35.142857142857146, 40.0, 51.714285714285715, 51.42857142857143, 62.0, 83.14285714285714, 112.28571428571429, 135.28571428571428, 153.28571428571428, 195.28571428571428, 295.57142857142856, 334.7142857142857, 406.57142857142856, 470.57142857142856, 529.4285714285714, 566.4285714285714]}, {\"line\": {\"color\": \"#B3325D\", \"width\": 2}, \"mode\": \"markers+text\", \"name\": \"United Kingdom\", \"showlegend\": false, \"text\": [\"UK\"], \"textfont\": {\"color\": \"#B3325D\", \"family\": \"Metric\", \"size\": 14}, \"textposition\": \"top right\", \"type\": \"scatter\", \"x\": [22], \"y\": [566.4285714285714]}, {\"line\": {\"color\": \"#EB5E8D\", \"width\": 2}, \"mode\": \"lines\", \"name\": \"United States\", \"showlegend\": false, \"type\": \"scatter\", \"x\": [0, 1, 2, 3, 4, 5, 6, 7, 8, 9, 10, 11, 12, 13, 14, 15, 16, 17, 18, 19, 20, 21, 22, 23, 24, 25], \"y\": [4.0, 4.714285714285714, 5.714285714285714, 6.857142857142857, 8.428571428571429, 11.428571428571429, 17.142857142857142, 15.714285714285714, 30.428571428571427, 40.42857142857143, 57.42857142857143, 72.14285714285714, 99.0, 128.57142857142858, 163.71428571428572, 206.71428571428572, 264.42857142857144, 291.14285714285717, 368.57142857142856, 468.2857142857143, 584.0, 679.5714285714286, 778.5714285714286, 901.4285714285714, 1019.7142857142857, 1117.0]}, {\"line\": {\"color\": \"#EB5E8D\", \"width\": 2}, \"mode\": \"markers+text\", \"name\": \"United States\", \"showlegend\": false, \"text\": [\"US\"], \"textfont\": {\"color\": \"#EB5E8D\", \"family\": \"Metric\", \"size\": 14}, \"textposition\": \"top right\", \"type\": \"scatter\", \"x\": [25], \"y\": [1117.0]}],\n",
       "                        {\"autosize\": true, \"font\": {\"color\": \"#68625E\", \"family\": \"Metric\", \"size\": 15}, \"height\": 618.0469715698392, \"legend\": {\"orientation\": \"h\", \"x\": 0, \"y\": -0.25}, \"paper_bgcolor\": \"#FFF1E5\", \"plot_bgcolor\": \"#FFF1E5\", \"template\": {\"layout\": {\"annotations\": [{\"font\": {\"color\": \"#CEC6B9\", \"size\": 24}, \"name\": \"draft watermark\", \"opacity\": 1, \"showarrow\": false, \"text\": \"NOT THE FINANCIAL TIMES\", \"textangle\": 0, \"x\": 0.95, \"xref\": \"paper\", \"y\": 0.9, \"yref\": \"paper\"}]}}, \"title\": {\"text\": \"<b style='color:#030303'>Italy and Spain's daily death tolls are plateauing, but in the UK and US<br>every day brings more new deaths than the last</b><br>Daily coronavirus deaths (7-day rolling avg.), by number of days since 3 daily deaths first recorded\", \"x\": 0.045, \"y\": 0.95}, \"width\": 1000, \"xaxis\": {\"color\": \"#857D78\", \"gridcolor\": \"#E7DACF\", \"gridwidth\": 1, \"linecolor\": \"#857D78\", \"range\": [0, 78], \"showgrid\": true, \"showline\": true, \"tick0\": 1, \"tickangle\": 0, \"ticklen\": 0, \"ticks\": \"outside\", \"tickson\": \"boundaries\", \"tickvals\": [10, 20, 30, 40, 50, 60, 70], \"zeroline\": false}, \"yaxis\": {\"color\": \"#857D78\", \"gridcolor\": \"#E7DACF\", \"gridwidth\": 1, \"linecolor\": \"#857D78\", \"showgrid\": true, \"showline\": false, \"tick0\": 1, \"ticklen\": 0, \"ticks\": \"outside\", \"tickson\": \"boundaries\", \"tickvals\": [1, 2, 5, 10, 20, 50, 100, 200, 500, 1000, 2000], \"type\": \"log\", \"zeroline\": false}},\n",
       "                        {\"responsive\": true}\n",
       "                    ).then(function(){\n",
       "                            \n",
       "var gd = document.getElementById('d27c159e-bae0-4ff8-bfe7-38ed393d13b8');\n",
       "var x = new MutationObserver(function (mutations, observer) {{\n",
       "        var display = window.getComputedStyle(gd).display;\n",
       "        if (!display || display === 'none') {{\n",
       "            console.log([gd, 'removed!']);\n",
       "            Plotly.purge(gd);\n",
       "            observer.disconnect();\n",
       "        }}\n",
       "}});\n",
       "\n",
       "// Listen for the removal of the full notebook cells\n",
       "var notebookContainer = gd.closest('#notebook-container');\n",
       "if (notebookContainer) {{\n",
       "    x.observe(notebookContainer, {childList: true});\n",
       "}}\n",
       "\n",
       "// Listen for the clearing of the current output cell\n",
       "var outputEl = gd.closest('.output');\n",
       "if (outputEl) {{\n",
       "    x.observe(outputEl, {childList: true});\n",
       "}}\n",
       "\n",
       "                        })\n",
       "                };\n",
       "                });\n",
       "            </script>\n",
       "        </div>"
      ]
     },
     "metadata": {},
     "output_type": "display_data"
    }
   ],
   "source": [
    "\n",
    "fig.update_layout(xaxis_tickangle=0, legend=dict(x=0, y=-.25), legend_orientation=\"h\") # removing ticks\n",
    "fig.update_layout(plot_bgcolor='#FFF1E5',paper_bgcolor='#FFF1E5') # setting background colours\n",
    "\n",
    "# setting the axis colour\n",
    "fig.update_xaxes(showgrid=False,\n",
    "        ticks=\"outside\",\n",
    "        tickson=\"boundaries\",\n",
    "        ticklen=0,\n",
    "        color = axis_colour\n",
    "    )\n",
    "fig.update_yaxes(showgrid=True,\n",
    "        ticks=\"outside\",\n",
    "        tickson=\"boundaries\",\n",
    "        ticklen=0,\n",
    "        color = axis_colour\n",
    "    )\n",
    "\n",
    "# adding our watermark\n",
    "fig.update_layout(template=draft_template)\n",
    "\n",
    "fig.update_layout(\n",
    "font=dict(\n",
    "    family=\"Metric\",\n",
    "    size=15,\n",
    "    color=\"#68625E\")\n",
    ")\n",
    "\n",
    "\n",
    "# x-axis text\n",
    "title_sub_text = 'Daily coronavirus deaths (7-day rolling avg.), by number of days since 3 daily deaths first recorded' \n",
    "\n",
    "# Setting the title\n",
    "fig.update_layout(\n",
    "title= {'text':\"<b style='color:\" + title_colour + \"'>Italy and Spain's daily death tolls are plateauing, but in the UK and US<br>every day brings more new deaths than the last</b><br>\" + title_sub_text  , \n",
    "        'x':0.045,\n",
    "       'y':0.95},\n",
    "\n",
    "# xaxis_title='Number of days since 3 daily deaths first recorded <i class=\"arrow right\"></i>',\n",
    "\n",
    "\n",
    "xaxis_tickangle=0\n",
    ")\n",
    "\n",
    "# Defining where the y-axis labels appear\n",
    "y_tick_list = [1, 2, 5, 10, 20, 50, 100, 200, 500, 1000, 2000]\n",
    "\n",
    "fig.update_yaxes(tick0=1, tickvals=y_tick_list)\n",
    "\n",
    "# Defining where the x-axis labels appear\n",
    "x_tick_list = [10, 20, 30, 40, 50, 60, 70]\n",
    "\n",
    "\n",
    "fig.update_xaxes(tick0=1,  tickvals=x_tick_list, showline=True, linecolor=axis_colour)\n",
    "fig.update_yaxes(showline=False, linecolor=axis_colour)\n",
    "\n",
    "fig.update_xaxes(zeroline=False) #, zerolinecolor=axis_colour)\n",
    "fig.update_yaxes(zeroline=False) #, zerolinecolor=axis_colour)\n",
    "\n",
    "fig.update_xaxes(showgrid=True, gridwidth=1, gridcolor='#E7DACF') # Setting grid colours\n",
    "fig.update_yaxes(showgrid=True, gridwidth=1, gridcolor='#E7DACF')\n",
    "\n",
    "fig.update_xaxes(range=[0, 78]) # Defining x-axis range\n",
    "\n",
    "fig.update_layout(\n",
    "autosize=True,\n",
    "width=graph_width,\n",
    "height=graph_height\n",
    ")\n",
    "\n",
    "\n",
    "fig.show()"
   ]
  },
  {
   "cell_type": "markdown",
   "metadata": {},
   "source": [
    "Adding annotations and the arrow on the x-axis. x and y coordinates where found through trial and error "
   ]
  },
  {
   "cell_type": "code",
   "execution_count": 37,
   "metadata": {},
   "outputs": [
    {
     "data": {
      "application/vnd.plotly.v1+json": {
       "config": {
        "plotlyServerURL": "https://plot.ly"
       },
       "data": [
        {
         "line": {
          "color": "#C7BBB3",
          "width": 2
         },
         "mode": "lines",
         "name": "Algeria",
         "showlegend": false,
         "type": "scatter",
         "x": [
          0,
          1,
          2,
          3,
          4,
          5
         ],
         "y": [
          5.857142857142857,
          5.285714285714286,
          8.857142857142858,
          14.857142857142858,
          17.571428571428573,
          20.285714285714285
         ]
        },
        {
         "line": {
          "color": "#C7BBB3",
          "width": 2
         },
         "mode": "markers",
         "name": "Algeria",
         "showlegend": false,
         "type": "scatter",
         "x": [
          5
         ],
         "y": [
          20.285714285714285
         ]
        },
        {
         "line": {
          "color": "#C7BBB3",
          "width": 2
         },
         "mode": "lines",
         "name": "Argentina",
         "showlegend": false,
         "type": "scatter",
         "x": [
          0,
          1,
          2,
          3,
          4,
          5
         ],
         "y": [
          3.2857142857142856,
          3.142857142857143,
          2.857142857142857,
          3.4285714285714284,
          3.7142857142857144,
          4.142857142857143
         ]
        },
        {
         "line": {
          "color": "#C7BBB3",
          "width": 2
         },
         "mode": "markers",
         "name": "Argentina",
         "showlegend": false,
         "type": "scatter",
         "x": [
          5
         ],
         "y": [
          4.142857142857143
         ]
        },
        {
         "line": {
          "color": "#C7BBB3",
          "width": 2
         },
         "mode": "lines",
         "name": "Australia",
         "showlegend": false,
         "type": "scatter",
         "x": [
          0
         ],
         "y": [
          3.2857142857142856
         ]
        },
        {
         "line": {
          "color": "#C7BBB3",
          "width": 2
         },
         "mode": "markers",
         "name": "Australia",
         "showlegend": false,
         "type": "scatter",
         "x": [
          0
         ],
         "y": [
          3.2857142857142856
         ]
        },
        {
         "line": {
          "color": "#C7BBB3",
          "width": 2
         },
         "mode": "lines",
         "name": "Austria",
         "showlegend": false,
         "type": "scatter",
         "x": [
          0,
          1,
          2,
          3,
          4,
          5,
          6,
          7,
          8,
          9,
          10,
          11,
          12,
          13,
          14
         ],
         "y": [
          3.142857142857143,
          3.857142857142857,
          4.285714285714286,
          6.571428571428571,
          8.857142857142858,
          8.571428571428571,
          10,
          11.857142857142858,
          14,
          16,
          15.142857142857142,
          14.285714285714286,
          16.857142857142858,
          16.857142857142858,
          16
         ]
        },
        {
         "line": {
          "color": "#C7BBB3",
          "width": 2
         },
         "mode": "markers",
         "name": "Austria",
         "showlegend": false,
         "type": "scatter",
         "x": [
          14
         ],
         "y": [
          16
         ]
        },
        {
         "line": {
          "color": "#C7BBB3",
          "width": 2
         },
         "mode": "lines",
         "name": "Belgium",
         "showlegend": false,
         "type": "scatter",
         "x": [
          0,
          1,
          2,
          3,
          4,
          5,
          6,
          7,
          8,
          9,
          10,
          11,
          12,
          13,
          14,
          15,
          16,
          17
         ],
         "y": [
          4.857142857142857,
          9,
          10.142857142857142,
          11.857142857142858,
          16.714285714285715,
          23.428571428571427,
          28.428571428571427,
          36,
          40.857142857142854,
          50.857142857142854,
          60.714285714285715,
          83.28571428571429,
          92.85714285714286,
          113,
          122,
          132.85714285714286,
          145.14285714285714,
          159.85714285714286
         ]
        },
        {
         "line": {
          "color": "#C7BBB3",
          "width": 2
         },
         "mode": "markers",
         "name": "Belgium",
         "showlegend": false,
         "type": "scatter",
         "x": [
          17
         ],
         "y": [
          159.85714285714286
         ]
        },
        {
         "line": {
          "color": "#C7BBB3",
          "width": 2
         },
         "mode": "lines",
         "name": "Brazil",
         "showlegend": false,
         "type": "scatter",
         "x": [
          0,
          1,
          2,
          3,
          4,
          5,
          6,
          7,
          8,
          9,
          10,
          11,
          12,
          13,
          14,
          15
         ],
         "y": [
          3.5714285714285716,
          4.857142857142857,
          6.428571428571429,
          7.571428571428571,
          10.142857142857142,
          11.571428571428571,
          13.714285714285714,
          15.857142857142858,
          17.857142857142858,
          22.142857142857142,
          26.285714285714285,
          31.714285714285715,
          38.142857142857146,
          45.42857142857143,
          50,
          56.285714285714285
         ]
        },
        {
         "line": {
          "color": "#C7BBB3",
          "width": 2
         },
         "mode": "markers",
         "name": "Brazil",
         "showlegend": false,
         "type": "scatter",
         "x": [
          15
         ],
         "y": [
          56.285714285714285
         ]
        },
        {
         "line": {
          "color": "#C7BBB3",
          "width": 2
         },
         "mode": "lines",
         "name": "Canada",
         "showlegend": false,
         "type": "scatter",
         "x": [
          0,
          1,
          2,
          3,
          4,
          5,
          6,
          7,
          8,
          9,
          10,
          11,
          12
         ],
         "y": [
          3.7142857142857144,
          4.142857142857143,
          5.857142857142857,
          6.714285714285714,
          6.142857142857143,
          9.285714285714286,
          9.857142857142858,
          10.571428571428571,
          14.142857142857142,
          19.142857142857142,
          24.428571428571427,
          31.285714285714285,
          33.42857142857143
         ]
        },
        {
         "line": {
          "color": "#C7BBB3",
          "width": 2
         },
         "mode": "markers",
         "name": "Canada",
         "showlegend": false,
         "type": "scatter",
         "x": [
          12
         ],
         "y": [
          33.42857142857143
         ]
        },
        {
         "line": {
          "color": "#C7BBB3",
          "width": 2
         },
         "mode": "lines",
         "name": "Chile",
         "showlegend": false,
         "type": "scatter",
         "x": [
          0,
          1,
          2
         ],
         "y": [
          3,
          3.857142857142857,
          4.142857142857143
         ]
        },
        {
         "line": {
          "color": "#C7BBB3",
          "width": 2
         },
         "mode": "markers",
         "name": "Chile",
         "showlegend": false,
         "type": "scatter",
         "x": [
          2
         ],
         "y": [
          4.142857142857143
         ]
        },
        {
         "line": {
          "color": "#C7BBB3",
          "width": 2
         },
         "mode": "lines",
         "name": "Colombia",
         "showlegend": false,
         "type": "scatter",
         "x": [
          0,
          1,
          2
         ],
         "y": [
          3.7142857142857144,
          3.5714285714285716,
          4.571428571428571
         ]
        },
        {
         "line": {
          "color": "#C7BBB3",
          "width": 2
         },
         "mode": "markers",
         "name": "Colombia",
         "showlegend": false,
         "type": "scatter",
         "x": [
          2
         ],
         "y": [
          4.571428571428571
         ]
        },
        {
         "line": {
          "color": "#C7BBB3",
          "width": 2
         },
         "mode": "lines",
         "name": "Denmark",
         "showlegend": false,
         "type": "scatter",
         "x": [
          0,
          1,
          2,
          3,
          4,
          5,
          6,
          7,
          8,
          9,
          10,
          11,
          12,
          13,
          14
         ],
         "y": [
          3.2857142857142856,
          4,
          4.285714285714286,
          5,
          6.142857142857143,
          7.428571428571429,
          8.428571428571429,
          7.571428571428571,
          8.285714285714286,
          10,
          11.714285714285714,
          12.428571428571429,
          13.714285714285714,
          15.285714285714286,
          15.714285714285714
         ]
        },
        {
         "line": {
          "color": "#C7BBB3",
          "width": 2
         },
         "mode": "markers",
         "name": "Denmark",
         "showlegend": false,
         "type": "scatter",
         "x": [
          14
         ],
         "y": [
          15.714285714285714
         ]
        },
        {
         "line": {
          "color": "#C7BBB3",
          "width": 2
         },
         "mode": "lines",
         "name": "Dominican Republic",
         "showlegend": false,
         "type": "scatter",
         "x": [
          0,
          1,
          2,
          3,
          4,
          5,
          6,
          7,
          8,
          9
         ],
         "y": [
          3.5714285714285716,
          5.142857142857143,
          5.571428571428571,
          6.428571428571429,
          6.714285714285714,
          7.142857142857143,
          6.857142857142857,
          7,
          6.142857142857143,
          6.285714285714286
         ]
        },
        {
         "line": {
          "color": "#C7BBB3",
          "width": 2
         },
         "mode": "markers",
         "name": "Dominican Republic",
         "showlegend": false,
         "type": "scatter",
         "x": [
          9
         ],
         "y": [
          6.285714285714286
         ]
        },
        {
         "line": {
          "color": "#C7BBB3",
          "width": 2
         },
         "mode": "lines",
         "name": "Ecuador",
         "showlegend": false,
         "type": "scatter",
         "x": [
          0,
          1,
          2,
          3,
          4,
          5,
          6,
          7,
          8,
          9,
          10,
          11,
          12,
          13
         ],
         "y": [
          3.5714285714285716,
          3.7142857142857144,
          4.428571428571429,
          4.857142857142857,
          5.857142857142857,
          6.285714285714286,
          6.285714285714286,
          7.428571428571429,
          13,
          12.285714285714286,
          14.857142857142858,
          17.714285714285715,
          17.428571428571427,
          18.428571428571427
         ]
        },
        {
         "line": {
          "color": "#C7BBB3",
          "width": 2
         },
         "mode": "markers",
         "name": "Ecuador",
         "showlegend": false,
         "type": "scatter",
         "x": [
          13
         ],
         "y": [
          18.428571428571427
         ]
        },
        {
         "line": {
          "color": "#C7BBB3",
          "width": 2
         },
         "mode": "lines",
         "name": "Egypt",
         "showlegend": false,
         "type": "scatter",
         "x": [
          0,
          1,
          2,
          3,
          4,
          5,
          6,
          7,
          8,
          9
         ],
         "y": [
          3.142857142857143,
          3.7142857142857144,
          3.7142857142857144,
          3.142857142857143,
          3.5714285714285716,
          4.428571428571429,
          4,
          5.142857142857143,
          5,
          5.428571428571429
         ]
        },
        {
         "line": {
          "color": "#C7BBB3",
          "width": 2
         },
         "mode": "markers",
         "name": "Egypt",
         "showlegend": false,
         "type": "scatter",
         "x": [
          9
         ],
         "y": [
          5.428571428571429
         ]
        },
        {
         "line": {
          "color": "#C7BBB3",
          "width": 2
         },
         "mode": "lines",
         "name": "Greece",
         "showlegend": false,
         "type": "scatter",
         "x": [
          0,
          1,
          2,
          3,
          4,
          5,
          6,
          7,
          8,
          9,
          10,
          11
         ],
         "y": [
          3,
          2.857142857142857,
          2.7142857142857144,
          3.2857142857142856,
          3.7142857142857144,
          4.142857142857143,
          4,
          3.857142857142857,
          4.428571428571429,
          5.142857142857143,
          5,
          5.142857142857143
         ]
        },
        {
         "line": {
          "color": "#C7BBB3",
          "width": 2
         },
         "mode": "markers",
         "name": "Greece",
         "showlegend": false,
         "type": "scatter",
         "x": [
          11
         ],
         "y": [
          5.142857142857143
         ]
        },
        {
         "line": {
          "color": "#C7BBB3",
          "width": 2
         },
         "mode": "lines",
         "name": "Hungary",
         "showlegend": false,
         "type": "scatter",
         "x": [
          0,
          1,
          2,
          3
         ],
         "y": [
          3,
          3,
          3.2857142857142856,
          4.571428571428571
         ]
        },
        {
         "line": {
          "color": "#C7BBB3",
          "width": 2
         },
         "mode": "markers",
         "name": "Hungary",
         "showlegend": false,
         "type": "scatter",
         "x": [
          3
         ],
         "y": [
          4.571428571428571
         ]
        },
        {
         "line": {
          "color": "#C7BBB3",
          "width": 2
         },
         "mode": "lines",
         "name": "India",
         "showlegend": false,
         "type": "scatter",
         "x": [
          0,
          1,
          2,
          3,
          4,
          5,
          6,
          7,
          8,
          9
         ],
         "y": [
          3,
          3.142857142857143,
          3.2857142857142856,
          3.7142857142857144,
          5.285714285714286,
          5.571428571428571,
          7,
          7.428571428571429,
          11.428571428571429,
          11.714285714285714
         ]
        },
        {
         "line": {
          "color": "#C7BBB3",
          "width": 2
         },
         "mode": "markers",
         "name": "India",
         "showlegend": false,
         "type": "scatter",
         "x": [
          9
         ],
         "y": [
          11.714285714285714
         ]
        },
        {
         "line": {
          "color": "#C7BBB3",
          "width": 2
         },
         "mode": "lines",
         "name": "Indonesia",
         "showlegend": false,
         "type": "scatter",
         "x": [
          0,
          1,
          2,
          3,
          4,
          5,
          6,
          7,
          8,
          9,
          10,
          11,
          12,
          13,
          14,
          15,
          16,
          17
         ],
         "y": [
          3,
          4.857142857142857,
          6.142857142857143,
          6.285714285714286,
          7.142857142857143,
          7.571428571428571,
          8.428571428571429,
          8.857142857142858,
          9.142857142857142,
          9.428571428571429,
          10.428571428571429,
          11.571428571428571,
          14.142857142857142,
          13.142857142857142,
          13.428571428571429,
          12.714285714285714,
          12,
          12.428571428571429
         ]
        },
        {
         "line": {
          "color": "#C7BBB3",
          "width": 2
         },
         "mode": "markers",
         "name": "Indonesia",
         "showlegend": false,
         "type": "scatter",
         "x": [
          17
         ],
         "y": [
          12.428571428571429
         ]
        },
        {
         "line": {
          "color": "#C7BBB3",
          "width": 2
         },
         "mode": "lines",
         "name": "Iran",
         "showlegend": false,
         "type": "scatter",
         "x": [
          0,
          1,
          2,
          3,
          4,
          5,
          6,
          7,
          8,
          9,
          10,
          11,
          12,
          13,
          14,
          15,
          16,
          17,
          18,
          19,
          20,
          21,
          22,
          23,
          24,
          25,
          26,
          27,
          28,
          29,
          30,
          31,
          32,
          33,
          34,
          35,
          36,
          37,
          38,
          39
         ],
         "y": [
          3.4285714285714284,
          4.285714285714286,
          5.428571428571429,
          6.571428571428571,
          7.714285714285714,
          8.857142857142858,
          10.428571428571429,
          11.571428571428571,
          12.857142857142858,
          14.571428571428571,
          20,
          24.428571428571427,
          30.571428571428573,
          37.42857142857143,
          46,
          55.714285714285715,
          66.57142857142857,
          75.71428571428571,
          88,
          99.57142857142857,
          111.57142857142857,
          122.14285714285714,
          131.28571428571428,
          135,
          137.28571428571428,
          137,
          135.14285714285714,
          134.57142857142858,
          135.71428571428572,
          135,
          137.28571428571428,
          136.42857142857142,
          135,
          137.71428571428572,
          137,
          132.28571428571428,
          111.71428571428571,
          133.57142857142858,
          137.57142857142858,
          140.28571428571428
         ]
        },
        {
         "line": {
          "color": "#C7BBB3",
          "width": 2
         },
         "mode": "markers",
         "name": "Iran",
         "showlegend": false,
         "type": "scatter",
         "x": [
          39
         ],
         "y": [
          140.28571428571428
         ]
        },
        {
         "line": {
          "color": "#C7BBB3",
          "width": 2
         },
         "mode": "lines",
         "name": "Iraq",
         "showlegend": false,
         "type": "scatter",
         "x": [
          0,
          1,
          2,
          3,
          4,
          5,
          6,
          7,
          8,
          9,
          10,
          11
         ],
         "y": [
          3.4285714285714284,
          3.7142857142857144,
          3.5714285714285716,
          3.142857142857143,
          3.2857142857142856,
          3.2857142857142856,
          3,
          2.5714285714285716,
          2,
          2,
          2.7142857142857144,
          2.5714285714285716
         ]
        },
        {
         "line": {
          "color": "#C7BBB3",
          "width": 2
         },
         "mode": "markers",
         "name": "Iraq",
         "showlegend": false,
         "type": "scatter",
         "x": [
          11
         ],
         "y": [
          2.5714285714285716
         ]
        },
        {
         "line": {
          "color": "#C7BBB3",
          "width": 2
         },
         "mode": "lines",
         "name": "Ireland",
         "showlegend": false,
         "type": "scatter",
         "x": [
          0,
          1,
          2,
          3,
          4,
          5,
          6,
          7,
          8,
          9
         ],
         "y": [
          4.714285714285714,
          6,
          6.857142857142857,
          9.142857142857142,
          10.857142857142858,
          11.285714285714286,
          14,
          14.428571428571429,
          16,
          17.142857142857142
         ]
        },
        {
         "line": {
          "color": "#C7BBB3",
          "width": 2
         },
         "mode": "markers",
         "name": "Ireland",
         "showlegend": false,
         "type": "scatter",
         "x": [
          9
         ],
         "y": [
          17.142857142857142
         ]
        },
        {
         "line": {
          "color": "#C7BBB3",
          "width": 2
         },
         "mode": "lines",
         "name": "Israel",
         "showlegend": false,
         "type": "scatter",
         "x": [
          0,
          1,
          2,
          3,
          4
         ],
         "y": [
          3.7142857142857144,
          4.142857142857143,
          4.857142857142857,
          4.857142857142857,
          5.714285714285714
         ]
        },
        {
         "line": {
          "color": "#C7BBB3",
          "width": 2
         },
         "mode": "markers",
         "name": "Israel",
         "showlegend": false,
         "type": "scatter",
         "x": [
          4
         ],
         "y": [
          5.714285714285714
         ]
        },
        {
         "line": {
          "color": "#C7BBB3",
          "width": 2
         },
         "mode": "lines",
         "name": "Japan",
         "showlegend": false,
         "type": "scatter",
         "x": [
          0
         ],
         "y": [
          3.4285714285714284
         ]
        },
        {
         "line": {
          "color": "#C7BBB3",
          "width": 2
         },
         "mode": "markers",
         "name": "Japan",
         "showlegend": false,
         "type": "scatter",
         "x": [
          0
         ],
         "y": [
          3.4285714285714284
         ]
        },
        {
         "line": {
          "color": "#C7BBB3",
          "width": 2
         },
         "mode": "lines",
         "name": "Luxembourg",
         "showlegend": false,
         "type": "scatter",
         "x": [
          0,
          1,
          2,
          3,
          4,
          5
         ],
         "y": [
          3,
          3,
          2.2857142857142856,
          1.8571428571428572,
          2.142857142857143,
          2.7142857142857144
         ]
        },
        {
         "line": {
          "color": "#C7BBB3",
          "width": 2
         },
         "mode": "markers",
         "name": "Luxembourg",
         "showlegend": false,
         "type": "scatter",
         "x": [
          5
         ],
         "y": [
          2.7142857142857144
         ]
        },
        {
         "line": {
          "color": "#C7BBB3",
          "width": 2
         },
         "mode": "lines",
         "name": "Malaysia",
         "showlegend": false,
         "type": "scatter",
         "x": [
          0,
          1,
          2,
          3,
          4,
          5,
          6,
          7,
          8,
          9,
          10,
          11
         ],
         "y": [
          3,
          3.4285714285714284,
          3.2857142857142856,
          3.4285714285714284,
          3.2857142857142856,
          3.142857142857143,
          3.7142857142857144,
          3.857142857142857,
          3.857142857142857,
          4.285714285714286,
          3.857142857142857,
          3.5714285714285716
         ]
        },
        {
         "line": {
          "color": "#C7BBB3",
          "width": 2
         },
         "mode": "markers",
         "name": "Malaysia",
         "showlegend": false,
         "type": "scatter",
         "x": [
          11
         ],
         "y": [
          3.5714285714285716
         ]
        },
        {
         "line": {
          "color": "#C7BBB3",
          "width": 2
         },
         "mode": "lines",
         "name": "Mexico",
         "showlegend": false,
         "type": "scatter",
         "x": [
          0,
          1,
          2,
          3,
          4,
          5,
          6,
          7
         ],
         "y": [
          3.4285714285714284,
          3.4285714285714284,
          4.571428571428571,
          4.142857142857143,
          6.857142857142857,
          9,
          10.571428571428571,
          13.857142857142858
         ]
        },
        {
         "line": {
          "color": "#C7BBB3",
          "width": 2
         },
         "mode": "markers",
         "name": "Mexico",
         "showlegend": false,
         "type": "scatter",
         "x": [
          7
         ],
         "y": [
          13.857142857142858
         ]
        },
        {
         "line": {
          "color": "#C7BBB3",
          "width": 2
         },
         "mode": "lines",
         "name": "Morocco",
         "showlegend": false,
         "type": "scatter",
         "x": [
          0,
          1,
          2,
          3,
          4,
          5,
          6,
          7,
          8
         ],
         "y": [
          3.142857142857143,
          4.142857142857143,
          4.428571428571429,
          4.714285714285714,
          4.857142857142857,
          3,
          5.142857142857143,
          6.285714285714286,
          6.714285714285714
         ]
        },
        {
         "line": {
          "color": "#C7BBB3",
          "width": 2
         },
         "mode": "markers",
         "name": "Morocco",
         "showlegend": false,
         "type": "scatter",
         "x": [
          8
         ],
         "y": [
          6.714285714285714
         ]
        },
        {
         "line": {
          "color": "#C7BBB3",
          "width": 2
         },
         "mode": "lines",
         "name": "Netherlands",
         "showlegend": false,
         "type": "scatter",
         "x": [
          0,
          1,
          2,
          3,
          4,
          5,
          6,
          7,
          8,
          9,
          10,
          11,
          12,
          13,
          14,
          15,
          16,
          17,
          18,
          19,
          20,
          21
         ],
         "y": [
          3,
          5.571428571428571,
          7.571428571428571,
          10.142857142857142,
          14.428571428571429,
          17.714285714285715,
          22.714285714285715,
          27,
          33.285714285714285,
          42.57142857142857,
          51.142857142857146,
          62.857142857142854,
          71.85714285714286,
          84.57142857142857,
          93,
          109,
          116.71428571428571,
          129.28571428571428,
          134.42857142857142,
          144.57142857142858,
          142.14285714285714,
          143.28571428571428
         ]
        },
        {
         "line": {
          "color": "#C7BBB3",
          "width": 2
         },
         "mode": "markers",
         "name": "Netherlands",
         "showlegend": false,
         "type": "scatter",
         "x": [
          21
         ],
         "y": [
          143.28571428571428
         ]
        },
        {
         "line": {
          "color": "#C7BBB3",
          "width": 2
         },
         "mode": "lines",
         "name": "Norway",
         "showlegend": false,
         "type": "scatter",
         "x": [
          0,
          1,
          2,
          3,
          4
         ],
         "y": [
          4,
          4,
          4.285714285714286,
          5.142857142857143,
          4.714285714285714
         ]
        },
        {
         "line": {
          "color": "#C7BBB3",
          "width": 2
         },
         "mode": "markers",
         "name": "Norway",
         "showlegend": false,
         "type": "scatter",
         "x": [
          4
         ],
         "y": [
          4.714285714285714
         ]
        },
        {
         "line": {
          "color": "#C7BBB3",
          "width": 2
         },
         "mode": "lines",
         "name": "Pakistan",
         "showlegend": false,
         "type": "scatter",
         "x": [
          0,
          1,
          2,
          3,
          4,
          5
         ],
         "y": [
          3.2857142857142856,
          3.142857142857143,
          3.142857142857143,
          3.4285714285714284,
          5.285714285714286,
          5.142857142857143
         ]
        },
        {
         "line": {
          "color": "#C7BBB3",
          "width": 2
         },
         "mode": "markers",
         "name": "Pakistan",
         "showlegend": false,
         "type": "scatter",
         "x": [
          5
         ],
         "y": [
          5.142857142857143
         ]
        },
        {
         "line": {
          "color": "#C7BBB3",
          "width": 2
         },
         "mode": "lines",
         "name": "Panama",
         "showlegend": false,
         "type": "scatter",
         "x": [
          0,
          1,
          2,
          3,
          4,
          5,
          6,
          7,
          8
         ],
         "y": [
          3,
          2.857142857142857,
          3.4285714285714284,
          3.7142857142857144,
          4,
          3.857142857142857,
          4.142857142857143,
          4.285714285714286,
          4.142857142857143
         ]
        },
        {
         "line": {
          "color": "#C7BBB3",
          "width": 2
         },
         "mode": "markers",
         "name": "Panama",
         "showlegend": false,
         "type": "scatter",
         "x": [
          8
         ],
         "y": [
          4.142857142857143
         ]
        },
        {
         "line": {
          "color": "#C7BBB3",
          "width": 2
         },
         "mode": "lines",
         "name": "Peru",
         "showlegend": false,
         "type": "scatter",
         "x": [
          0,
          1,
          2,
          3,
          4,
          5,
          6
         ],
         "y": [
          3.2857142857142856,
          5.571428571428571,
          6.571428571428571,
          7.142857142857143,
          8.142857142857142,
          9.285714285714286,
          9.714285714285714
         ]
        },
        {
         "line": {
          "color": "#C7BBB3",
          "width": 2
         },
         "mode": "markers",
         "name": "Peru",
         "showlegend": false,
         "type": "scatter",
         "x": [
          6
         ],
         "y": [
          9.714285714285714
         ]
        },
        {
         "line": {
          "color": "#C7BBB3",
          "width": 2
         },
         "mode": "lines",
         "name": "Philippines",
         "showlegend": false,
         "type": "scatter",
         "x": [
          0,
          1,
          2,
          3,
          4,
          5,
          6,
          7,
          8,
          9,
          10,
          11,
          12,
          13,
          14
         ],
         "y": [
          3,
          3,
          3,
          3.857142857142857,
          5.142857142857143,
          6.142857142857143,
          6.571428571428571,
          7.857142857142857,
          7.571428571428571,
          8.285714285714286,
          8.857142857142858,
          11.714285714285714,
          10.857142857142858,
          11.571428571428571,
          10.714285714285714
         ]
        },
        {
         "line": {
          "color": "#C7BBB3",
          "width": 2
         },
         "mode": "markers",
         "name": "Philippines",
         "showlegend": false,
         "type": "scatter",
         "x": [
          14
         ],
         "y": [
          10.714285714285714
         ]
        },
        {
         "line": {
          "color": "#C7BBB3",
          "width": 2
         },
         "mode": "lines",
         "name": "Poland",
         "showlegend": false,
         "type": "scatter",
         "x": [
          0,
          1,
          2,
          3,
          4,
          5,
          6,
          7
         ],
         "y": [
          3.2857142857142856,
          3.2857142857142856,
          4.142857142857143,
          5.857142857142857,
          7.857142857142857,
          8.714285714285714,
          10.285714285714286,
          10.857142857142858
         ]
        },
        {
         "line": {
          "color": "#C7BBB3",
          "width": 2
         },
         "mode": "markers",
         "name": "Poland",
         "showlegend": false,
         "type": "scatter",
         "x": [
          7
         ],
         "y": [
          10.857142857142858
         ]
        },
        {
         "line": {
          "color": "#C7BBB3",
          "width": 2
         },
         "mode": "lines",
         "name": "Portugal",
         "showlegend": false,
         "type": "scatter",
         "x": [
          0,
          1,
          2,
          3,
          4,
          5,
          6,
          7,
          8,
          9,
          10,
          11,
          12,
          13,
          14
         ],
         "y": [
          3.2857142857142856,
          4.571428571428571,
          5.857142857142857,
          8.142857142857142,
          10,
          12.571428571428571,
          15,
          16.714285714285715,
          18.142857142857142,
          20.571428571428573,
          21.285714285714285,
          24.285714285714285,
          23.714285714285715,
          25.142857142857142,
          24.428571428571427
         ]
        },
        {
         "line": {
          "color": "#C7BBB3",
          "width": 2
         },
         "mode": "markers",
         "name": "Portugal",
         "showlegend": false,
         "type": "scatter",
         "x": [
          14
         ],
         "y": [
          24.428571428571427
         ]
        },
        {
         "line": {
          "color": "#C7BBB3",
          "width": 2
         },
         "mode": "lines",
         "name": "Romania",
         "showlegend": false,
         "type": "scatter",
         "x": [
          0,
          1,
          2,
          3,
          4,
          5,
          6,
          7,
          8,
          9,
          10
         ],
         "y": [
          3.4285714285714284,
          4.142857142857143,
          5.428571428571429,
          5.285714285714286,
          8.285714285714286,
          10.285714285714286,
          11,
          15.571428571428571,
          16,
          15.428571428571429,
          16.142857142857142
         ]
        },
        {
         "line": {
          "color": "#C7BBB3",
          "width": 2
         },
         "mode": "markers",
         "name": "Romania",
         "showlegend": false,
         "type": "scatter",
         "x": [
          10
         ],
         "y": [
          16.142857142857142
         ]
        },
        {
         "line": {
          "color": "#C7BBB3",
          "width": 2
         },
         "mode": "lines",
         "name": "Russia",
         "showlegend": false,
         "type": "scatter",
         "x": [
          0,
          1,
          2,
          3,
          4,
          5
         ],
         "y": [
          3.4285714285714284,
          4,
          4.285714285714286,
          5.428571428571429,
          5.285714285714286,
          5.285714285714286
         ]
        },
        {
         "line": {
          "color": "#C7BBB3",
          "width": 2
         },
         "mode": "markers",
         "name": "Russia",
         "showlegend": false,
         "type": "scatter",
         "x": [
          5
         ],
         "y": [
          5.285714285714286
         ]
        },
        {
         "line": {
          "color": "#C7BBB3",
          "width": 2
         },
         "mode": "lines",
         "name": "Saudi Arabia",
         "showlegend": false,
         "type": "scatter",
         "x": [
          0,
          1,
          2
         ],
         "y": [
          3.5714285714285716,
          3.7142857142857144,
          4.285714285714286
         ]
        },
        {
         "line": {
          "color": "#C7BBB3",
          "width": 2
         },
         "mode": "markers",
         "name": "Saudi Arabia",
         "showlegend": false,
         "type": "scatter",
         "x": [
          2
         ],
         "y": [
          4.285714285714286
         ]
        },
        {
         "line": {
          "color": "#C7BBB3",
          "width": 2
         },
         "mode": "lines",
         "name": "Serbia",
         "showlegend": false,
         "type": "scatter",
         "x": [
          0,
          1,
          2,
          3,
          4,
          5,
          6
         ],
         "y": [
          3.142857142857143,
          3,
          4,
          4.714285714285714,
          4.857142857142857,
          5.428571428571429,
          6.428571428571429
         ]
        },
        {
         "line": {
          "color": "#C7BBB3",
          "width": 2
         },
         "mode": "markers",
         "name": "Serbia",
         "showlegend": false,
         "type": "scatter",
         "x": [
          6
         ],
         "y": [
          6.428571428571429
         ]
        },
        {
         "line": {
          "color": "#C7BBB3",
          "width": 2
         },
         "mode": "lines",
         "name": "Sweden",
         "showlegend": false,
         "type": "scatter",
         "x": [
          0,
          1,
          2,
          3,
          4,
          5,
          6,
          7,
          8,
          9,
          10,
          11,
          12,
          13
         ],
         "y": [
          4,
          4.571428571428571,
          8,
          10.857142857142858,
          11.714285714285714,
          12.714285714285714,
          17.285714285714285,
          20.571428571428573,
          28.142857142857142,
          30.857142857142858,
          34.42857142857143,
          38.714285714285715,
          41.57142857142857,
          47.285714285714285
         ]
        },
        {
         "line": {
          "color": "#C7BBB3",
          "width": 2
         },
         "mode": "markers",
         "name": "Sweden",
         "showlegend": false,
         "type": "scatter",
         "x": [
          13
         ],
         "y": [
          47.285714285714285
         ]
        },
        {
         "line": {
          "color": "#C7BBB3",
          "width": 2
         },
         "mode": "lines",
         "name": "Switzerland",
         "showlegend": false,
         "type": "scatter",
         "x": [
          0,
          1,
          2,
          3,
          4,
          5,
          6,
          7,
          8,
          9,
          10,
          11,
          12,
          13,
          14,
          15,
          16,
          17,
          18
         ],
         "y": [
          4.142857142857143,
          5.142857142857143,
          6.428571428571429,
          6.714285714285714,
          7.428571428571429,
          9.571428571428571,
          11.714285714285714,
          18.285714285714285,
          22,
          25.571428571428573,
          28.142857142857142,
          32.714285714285715,
          41,
          39.285714285714285,
          38.714285714285715,
          41,
          43.57142857142857,
          43.142857142857146,
          41.285714285714285
         ]
        },
        {
         "line": {
          "color": "#C7BBB3",
          "width": 2
         },
         "mode": "markers",
         "name": "Switzerland",
         "showlegend": false,
         "type": "scatter",
         "x": [
          18
         ],
         "y": [
          41.285714285714285
         ]
        },
        {
         "line": {
          "color": "#C7BBB3",
          "width": 2
         },
         "mode": "lines",
         "name": "Turkey",
         "showlegend": false,
         "type": "scatter",
         "x": [
          0,
          1,
          2,
          3,
          4,
          5,
          6,
          7,
          8,
          9,
          10,
          11,
          12,
          13,
          14,
          15,
          16
         ],
         "y": [
          3,
          4.285714285714286,
          5.285714285714286,
          6.285714285714286,
          8.285714285714286,
          10.142857142857142,
          11.857142857142858,
          12.428571428571429,
          14.428571428571429,
          18.714285714285715,
          24.285714285714285,
          31.142857142857142,
          40.142857142857146,
          47.57142857142857,
          56.142857142857146,
          63.285714285714285,
          68.71428571428571
         ]
        },
        {
         "line": {
          "color": "#C7BBB3",
          "width": 2
         },
         "mode": "markers",
         "name": "Turkey",
         "showlegend": false,
         "type": "scatter",
         "x": [
          16
         ],
         "y": [
          68.71428571428571
         ]
        },
        {
         "line": {
          "color": "#C7BBB3",
          "width": 2
         },
         "mode": "lines",
         "name": "Ukraine",
         "showlegend": false,
         "type": "scatter",
         "x": [
          0,
          1
         ],
         "y": [
          3.2857142857142856,
          3.857142857142857
         ]
        },
        {
         "line": {
          "color": "#C7BBB3",
          "width": 2
         },
         "mode": "markers",
         "name": "Ukraine",
         "showlegend": false,
         "type": "scatter",
         "x": [
          1
         ],
         "y": [
          3.857142857142857
         ]
        },
        {
         "line": {
          "color": "#DA870C",
          "width": 2
         },
         "mode": "lines",
         "name": "China",
         "showlegend": false,
         "type": "scatter",
         "x": [
          0,
          1,
          2,
          3,
          4,
          5,
          6,
          7,
          8,
          9,
          10,
          11,
          12,
          13,
          14,
          15,
          16,
          17,
          18,
          19,
          20,
          21,
          22,
          23,
          24,
          25,
          26,
          27,
          28,
          29,
          30,
          31,
          32,
          33,
          34,
          35,
          36,
          37,
          38,
          39,
          40,
          41,
          42,
          43,
          44,
          45,
          46,
          47,
          48,
          49,
          50,
          51,
          52,
          53,
          54,
          55,
          56,
          57,
          58,
          59,
          60,
          61,
          62,
          63,
          64,
          65,
          66,
          67,
          68,
          69,
          70,
          71,
          72,
          73,
          74
         ],
         "y": [
          3.4285714285714284,
          5.571428571428571,
          7.571428571428571,
          11.142857142857142,
          14.285714285714286,
          16.428571428571427,
          21.857142857142858,
          26.714285714285715,
          31.142857142857142,
          35.42857142857143,
          40,
          45.714285714285715,
          51.42857142857143,
          56.285714285714285,
          60.57142857142857,
          66.28571428571429,
          72.57142857142857,
          78.28571428571429,
          84.42857142857143,
          88.85714285714286,
          114.85714285714286,
          106.28571428571429,
          114.42857142857143,
          122,
          123.14285714285714,
          121.71428571428571,
          127.71428571428571,
          107.42857142857143,
          122.42857142857143,
          117.57142857142857,
          111.28571428571429,
          117.71428571428571,
          113.71428571428571,
          101.28571428571429,
          89.42857142857143,
          78.85714285714286,
          70,
          61,
          45.57142857142857,
          40.142857142857146,
          38,
          38.285714285714285,
          36.285714285714285,
          33.57142857142857,
          32.42857142857143,
          29.714285714285715,
          27.571428571428573,
          25.428571428571427,
          22.571428571428573,
          19.285714285714285,
          17.428571428571427,
          14.857142857142858,
          13.428571428571429,
          12.285714285714286,
          11.428571428571429,
          11,
          10.571428571428571,
          9.285714285714286,
          8.857142857142858,
          8.285714285714286,
          8,
          6.285714285714286,
          6,
          6.142857142857143,
          5.714285714285714,
          5.571428571428571,
          4.571428571428571,
          4,
          3.5714285714285716,
          3.5714285714285716,
          4.285714285714286,
          4.428571428571429,
          4.142857142857143,
          4.142857142857143,
          3.7142857142857144
         ]
        },
        {
         "line": {
          "color": "#DA870C",
          "width": 2
         },
         "mode": "markers+text",
         "name": "China",
         "showlegend": false,
         "text": [
          "China"
         ],
         "textfont": {
          "color": "#DA870C",
          "family": "Metric",
          "size": 14
         },
         "textposition": "top right",
         "type": "scatter",
         "x": [
          74
         ],
         "y": [
          3.7142857142857144
         ]
        },
        {
         "line": {
          "color": "#208FCE",
          "width": 2
         },
         "mode": "lines",
         "name": "France",
         "showlegend": false,
         "type": "scatter",
         "x": [
          0,
          1,
          2,
          3,
          4,
          5,
          6,
          7,
          8,
          9,
          10,
          11,
          12,
          13,
          14,
          15,
          16,
          17,
          18,
          19,
          20,
          21,
          22,
          23,
          24,
          25,
          26,
          27,
          28
         ],
         "y": [
          3.857142857142857,
          4.142857142857143,
          6.285714285714286,
          7.714285714285714,
          10,
          11.571428571428571,
          15.428571428571429,
          16.857142857142858,
          20.285714285714285,
          28,
          44.42857142857143,
          53,
          67.28571428571429,
          78.14285714285714,
          101.71428571428571,
          132.14285714285714,
          155.28571428571428,
          189.14285714285714,
          220.71428571428572,
          250.28571428571428,
          276,
          309.14285714285717,
          346.14285714285717,
          385.85714285714283,
          401,
          644.5714285714286,
          749.4285714285714,
          781.7142857142857,
          841
         ]
        },
        {
         "line": {
          "color": "#208FCE",
          "width": 2
         },
         "mode": "markers+text",
         "name": "France",
         "showlegend": false,
         "text": [
          "France"
         ],
         "textfont": {
          "color": "#208FCE",
          "family": "Metric",
          "size": 14
         },
         "textposition": "top right",
         "type": "scatter",
         "x": [
          28
         ],
         "y": [
          841
         ]
        },
        {
         "line": {
          "color": "#79972A",
          "width": 2
         },
         "mode": "lines",
         "name": "Germany",
         "showlegend": false,
         "type": "scatter",
         "x": [
          0,
          1,
          2,
          3,
          4,
          5,
          6,
          7,
          8,
          9,
          10,
          11,
          12,
          13,
          14,
          15,
          16,
          17,
          18
         ],
         "y": [
          5.428571428571429,
          5.714285714285714,
          8.428571428571429,
          11.714285714285714,
          16.142857142857142,
          19.428571428571427,
          26.428571428571427,
          30,
          40,
          46,
          51.57142857142857,
          65.28571428571429,
          83.28571428571429,
          96.28571428571429,
          109.14285714285714,
          119,
          136.14285714285714,
          139.85714285714286,
          146.28571428571428
         ]
        },
        {
         "line": {
          "color": "#79972A",
          "width": 2
         },
         "mode": "markers+text",
         "name": "Germany",
         "showlegend": false,
         "text": [
          "Germany"
         ],
         "textfont": {
          "color": "#79972A",
          "family": "Metric",
          "size": 14
         },
         "textposition": "top right",
         "type": "scatter",
         "x": [
          18
         ],
         "y": [
          146.28571428571428
         ]
        },
        {
         "line": {
          "color": "#66605C",
          "width": 2
         },
         "mode": "lines",
         "name": "Italy",
         "showlegend": false,
         "type": "scatter",
         "x": [
          0,
          1,
          2,
          3,
          4,
          5,
          6,
          7,
          8,
          9,
          10,
          11,
          12,
          13,
          14,
          15,
          16,
          17,
          18,
          19,
          20,
          21,
          22,
          23,
          24,
          25,
          26,
          27,
          28,
          29,
          30,
          31,
          32,
          33,
          34,
          35,
          36,
          37,
          38
         ],
         "y": [
          3,
          3.857142857142857,
          4.714285714285714,
          6.571428571428571,
          9.857142857142858,
          13.571428571428571,
          18.714285714285715,
          25.142857142857142,
          29.142857142857142,
          47.285714285714285,
          58.857142857142854,
          78.71428571428571,
          102.85714285714286,
          124,
          153,
          172.57142857142858,
          206.42857142857142,
          242,
          267.7142857142857,
          307.2857142857143,
          341.57142857142856,
          394.85714285714283,
          483.7142857142857,
          523.5714285714286,
          559.8571428571429,
          616.4285714285714,
          646.7142857142857,
          679.7142857142857,
          729.1428571428571,
          742.2857142857143,
          757.8571428571429,
          787.7142857142857,
          801.4285714285714,
          807.4285714285714,
          821.7142857142857,
          792.1428571428571,
          762.7142857142857,
          729.7142857142857,
          704.8571428571429
         ]
        },
        {
         "line": {
          "color": "#66605C",
          "width": 2
         },
         "mode": "markers+text",
         "name": "Italy",
         "showlegend": false,
         "text": [
          "Italy"
         ],
         "textfont": {
          "color": "#66605C",
          "family": "Metric",
          "size": 14
         },
         "textposition": "top right",
         "type": "scatter",
         "x": [
          38
         ],
         "y": [
          704.8571428571429
         ]
        },
        {
         "line": {
          "color": "#72DCE6",
          "width": 2
         },
         "mode": "lines",
         "name": "South Korea",
         "showlegend": false,
         "type": "scatter",
         "x": [
          0,
          1,
          2,
          3,
          4,
          5,
          6,
          7,
          8,
          9,
          10,
          11,
          12,
          13,
          14,
          15,
          16,
          17,
          18,
          19,
          20,
          21,
          22,
          23,
          24,
          25,
          26,
          27,
          28,
          29,
          30,
          31,
          32,
          33,
          34
         ],
         "y": [
          3,
          3.2857142857142856,
          4.142857142857143,
          4,
          4.714285714285714,
          4.142857142857143,
          3.7142857142857144,
          4,
          4.428571428571429,
          3.5714285714285716,
          4,
          3.5714285714285716,
          3.4285714285714284,
          3.857142857142857,
          3.7142857142857144,
          3.5714285714285716,
          4.714285714285714,
          4.428571428571429,
          4.142857142857143,
          5.428571428571429,
          5.571428571428571,
          5.714285714285714,
          5.714285714285714,
          5.571428571428571,
          5.857142857142857,
          6.857142857142857,
          6.428571428571429,
          6.142857142857143,
          5.285714285714286,
          5.428571428571429,
          5,
          4.714285714285714,
          4.428571428571429,
          4,
          4.142857142857143
         ]
        },
        {
         "line": {
          "color": "#72DCE6",
          "width": 2
         },
         "mode": "markers+text",
         "name": "South Korea",
         "showlegend": false,
         "text": [
          "S Korea"
         ],
         "textfont": {
          "color": "#72DCE6",
          "family": "Metric",
          "size": 14
         },
         "textposition": "top right",
         "type": "scatter",
         "x": [
          34
         ],
         "y": [
          4.142857142857143
         ]
        },
        {
         "line": {
          "color": "#208FCE",
          "width": 2
         },
         "mode": "lines",
         "name": "Spain",
         "showlegend": false,
         "type": "scatter",
         "x": [
          0,
          1,
          2,
          3,
          4,
          5,
          6,
          7,
          8,
          9,
          10,
          11,
          12,
          13,
          14,
          15,
          16,
          17,
          18,
          19,
          20,
          21,
          22,
          23,
          24,
          25,
          26,
          27,
          28
         ],
         "y": [
          4,
          5,
          6.571428571428571,
          11.571428571428571,
          16.571428571428573,
          18.714285714285715,
          40.42857142857143,
          40.142857142857146,
          65.14285714285714,
          78.71428571428571,
          97.57142857142857,
          125.85714285714286,
          170,
          204.57142857142858,
          267.57142857142856,
          315,
          405.14285714285717,
          474.57142857142856,
          550.8571428571429,
          623.4285714285714,
          686.8571428571429,
          736.8571428571429,
          784.7142857142857,
          802.7142857142857,
          844.8571428571429,
          868.1428571428571,
          864.8571428571429,
          841.4285714285714,
          816.4285714285714
         ]
        },
        {
         "line": {
          "color": "#208FCE",
          "width": 2
         },
         "mode": "markers+text",
         "name": "Spain",
         "showlegend": false,
         "text": [
          "Spain"
         ],
         "textfont": {
          "color": "#208FCE",
          "family": "Metric",
          "size": 14
         },
         "textposition": "top left",
         "type": "scatter",
         "x": [
          28
         ],
         "y": [
          816.4285714285714
         ]
        },
        {
         "line": {
          "color": "#B3325D",
          "width": 2
         },
         "mode": "lines",
         "name": "United Kingdom",
         "showlegend": false,
         "type": "scatter",
         "x": [
          0,
          1,
          2,
          3,
          4,
          5,
          6,
          7,
          8,
          9,
          10,
          11,
          12,
          13,
          14,
          15,
          16,
          17,
          18,
          19,
          20,
          21,
          22
         ],
         "y": [
          4.571428571428571,
          7.142857142857143,
          7.714285714285714,
          13.857142857142858,
          19.142857142857142,
          23.857142857142858,
          30.285714285714285,
          35.142857142857146,
          40,
          51.714285714285715,
          51.42857142857143,
          62,
          83.14285714285714,
          112.28571428571429,
          135.28571428571428,
          153.28571428571428,
          195.28571428571428,
          295.57142857142856,
          334.7142857142857,
          406.57142857142856,
          470.57142857142856,
          529.4285714285714,
          566.4285714285714
         ]
        },
        {
         "line": {
          "color": "#B3325D",
          "width": 2
         },
         "mode": "markers+text",
         "name": "United Kingdom",
         "showlegend": false,
         "text": [
          "UK"
         ],
         "textfont": {
          "color": "#B3325D",
          "family": "Metric",
          "size": 14
         },
         "textposition": "top right",
         "type": "scatter",
         "x": [
          22
         ],
         "y": [
          566.4285714285714
         ]
        },
        {
         "line": {
          "color": "#EB5E8D",
          "width": 2
         },
         "mode": "lines",
         "name": "United States",
         "showlegend": false,
         "type": "scatter",
         "x": [
          0,
          1,
          2,
          3,
          4,
          5,
          6,
          7,
          8,
          9,
          10,
          11,
          12,
          13,
          14,
          15,
          16,
          17,
          18,
          19,
          20,
          21,
          22,
          23,
          24,
          25
         ],
         "y": [
          4,
          4.714285714285714,
          5.714285714285714,
          6.857142857142857,
          8.428571428571429,
          11.428571428571429,
          17.142857142857142,
          15.714285714285714,
          30.428571428571427,
          40.42857142857143,
          57.42857142857143,
          72.14285714285714,
          99,
          128.57142857142858,
          163.71428571428572,
          206.71428571428572,
          264.42857142857144,
          291.14285714285717,
          368.57142857142856,
          468.2857142857143,
          584,
          679.5714285714286,
          778.5714285714286,
          901.4285714285714,
          1019.7142857142857,
          1117
         ]
        },
        {
         "line": {
          "color": "#EB5E8D",
          "width": 2
         },
         "mode": "markers+text",
         "name": "United States",
         "showlegend": false,
         "text": [
          "US"
         ],
         "textfont": {
          "color": "#EB5E8D",
          "family": "Metric",
          "size": 14
         },
         "textposition": "top right",
         "type": "scatter",
         "x": [
          25
         ],
         "y": [
          1117
         ]
        }
       ],
       "layout": {
        "annotations": [
         {
          "showarrow": false,
          "text": "Not a FT Graphic: Jake Carbone / @jakecarbone8",
          "x": -0.04,
          "xref": "paper",
          "y": -0.175,
          "yref": "paper"
         },
         {
          "showarrow": false,
          "text": "Source: CDC - Situation Update Worldwide - Last updated 7th April, 12:15 (London Time)",
          "x": -0.04,
          "xref": "paper",
          "y": -0.225,
          "yref": "paper"
         },
         {
          "showarrow": false,
          "text": "Number of days since 3 daily deaths first recorded",
          "x": 0.5,
          "xref": "paper",
          "y": -0.115,
          "yref": "paper"
         },
         {
          "arrowcolor": "#636363",
          "arrowhead": 2,
          "arrowsize": 1,
          "arrowwidth": 2,
          "ax": -50,
          "axref": "pixel",
          "ay": -0.092,
          "opacity": 0.7,
          "showarrow": true,
          "x": 0.74,
          "xref": "paper",
          "y": -0.0877,
          "yref": "paper"
         }
        ],
        "autosize": true,
        "font": {
         "color": "#68625E",
         "family": "Metric",
         "size": 15
        },
        "height": 618.0469715698392,
        "legend": {
         "orientation": "h",
         "x": 0,
         "y": -0.25
        },
        "margin": {
         "b": 100
        },
        "paper_bgcolor": "#FFF1E5",
        "plot_bgcolor": "#FFF1E5",
        "template": {
         "layout": {
          "annotations": [
           {
            "font": {
             "color": "#CEC6B9",
             "size": 24
            },
            "name": "draft watermark",
            "opacity": 1,
            "showarrow": false,
            "text": "NOT THE FINANCIAL TIMES",
            "textangle": 0,
            "x": 0.95,
            "xref": "paper",
            "y": 0.9,
            "yref": "paper"
           }
          ]
         }
        },
        "title": {
         "text": "<b style='color:#030303'>Italy and Spain's daily death tolls are plateauing, but in the UK and US<br>every day brings more new deaths than the last</b><br>Daily coronavirus deaths (7-day rolling avg.), by number of days since 3 daily deaths first recorded",
         "x": 0.045,
         "y": 0.95
        },
        "width": 1000,
        "xaxis": {
         "color": "#857D78",
         "gridcolor": "#E7DACF",
         "gridwidth": 1,
         "linecolor": "#857D78",
         "range": [
          0,
          78
         ],
         "showgrid": true,
         "showline": true,
         "tick0": 1,
         "tickangle": 0,
         "ticklen": 0,
         "ticks": "outside",
         "tickson": "boundaries",
         "tickvals": [
          10,
          20,
          30,
          40,
          50,
          60,
          70
         ],
         "type": "linear",
         "zeroline": false
        },
        "yaxis": {
         "automargin": true,
         "autorange": true,
         "color": "#857D78",
         "gridcolor": "#E7DACF",
         "gridwidth": 1,
         "linecolor": "#857D78",
         "range": [
          0.11289030009979895,
          3.23199054395542
         ],
         "showgrid": true,
         "showline": false,
         "tick0": 1,
         "ticklen": 0,
         "ticks": "outside",
         "tickson": "boundaries",
         "tickvals": [
          1,
          2,
          5,
          10,
          20,
          50,
          100,
          200,
          500,
          1000,
          2000
         ],
         "type": "log",
         "zeroline": false
        }
       }
      },
      "image/png": "[encoded data removed]",
      "text/html": [
       "<div>\n",
       "        \n",
       "        \n",
       "            <div id=\"083daf9f-9764-4078-944b-8e03f7123788\" class=\"plotly-graph-div\" style=\"height:618.0469715698392px; width:1000px;\"></div>\n",
       "            <script type=\"text/javascript\">\n",
       "                require([\"plotly\"], function(Plotly) {\n",
       "                    window.PLOTLYENV=window.PLOTLYENV || {};\n",
       "                    \n",
       "                if (document.getElementById(\"083daf9f-9764-4078-944b-8e03f7123788\")) {\n",
       "                    Plotly.newPlot(\n",
       "                        '083daf9f-9764-4078-944b-8e03f7123788',\n",
       "                        [{\"line\": {\"color\": \"#C7BBB3\", \"width\": 2}, \"mode\": \"lines\", \"name\": \"Algeria\", \"showlegend\": false, \"type\": \"scatter\", \"x\": [0, 1, 2, 3, 4, 5], \"y\": [5.857142857142857, 5.285714285714286, 8.857142857142858, 14.857142857142858, 17.571428571428573, 20.285714285714285]}, {\"line\": {\"color\": \"#C7BBB3\", \"width\": 2}, \"mode\": \"markers\", \"name\": \"Algeria\", \"showlegend\": false, \"type\": \"scatter\", \"x\": [5], \"y\": [20.285714285714285]}, {\"line\": {\"color\": \"#C7BBB3\", \"width\": 2}, \"mode\": \"lines\", \"name\": \"Argentina\", \"showlegend\": false, \"type\": \"scatter\", \"x\": [0, 1, 2, 3, 4, 5], \"y\": [3.2857142857142856, 3.142857142857143, 2.857142857142857, 3.4285714285714284, 3.7142857142857144, 4.142857142857143]}, {\"line\": {\"color\": \"#C7BBB3\", \"width\": 2}, \"mode\": \"markers\", \"name\": \"Argentina\", \"showlegend\": false, \"type\": \"scatter\", \"x\": [5], \"y\": [4.142857142857143]}, {\"line\": {\"color\": \"#C7BBB3\", \"width\": 2}, \"mode\": \"lines\", \"name\": \"Australia\", \"showlegend\": false, \"type\": \"scatter\", \"x\": [0], \"y\": [3.2857142857142856]}, {\"line\": {\"color\": \"#C7BBB3\", \"width\": 2}, \"mode\": \"markers\", \"name\": \"Australia\", \"showlegend\": false, \"type\": \"scatter\", \"x\": [0], \"y\": [3.2857142857142856]}, {\"line\": {\"color\": \"#C7BBB3\", \"width\": 2}, \"mode\": \"lines\", \"name\": \"Austria\", \"showlegend\": false, \"type\": \"scatter\", \"x\": [0, 1, 2, 3, 4, 5, 6, 7, 8, 9, 10, 11, 12, 13, 14], \"y\": [3.142857142857143, 3.857142857142857, 4.285714285714286, 6.571428571428571, 8.857142857142858, 8.571428571428571, 10.0, 11.857142857142858, 14.0, 16.0, 15.142857142857142, 14.285714285714286, 16.857142857142858, 16.857142857142858, 16.0]}, {\"line\": {\"color\": \"#C7BBB3\", \"width\": 2}, \"mode\": \"markers\", \"name\": \"Austria\", \"showlegend\": false, \"type\": \"scatter\", \"x\": [14], \"y\": [16.0]}, {\"line\": {\"color\": \"#C7BBB3\", \"width\": 2}, \"mode\": \"lines\", \"name\": \"Belgium\", \"showlegend\": false, \"type\": \"scatter\", \"x\": [0, 1, 2, 3, 4, 5, 6, 7, 8, 9, 10, 11, 12, 13, 14, 15, 16, 17], \"y\": [4.857142857142857, 9.0, 10.142857142857142, 11.857142857142858, 16.714285714285715, 23.428571428571427, 28.428571428571427, 36.0, 40.857142857142854, 50.857142857142854, 60.714285714285715, 83.28571428571429, 92.85714285714286, 113.0, 122.0, 132.85714285714286, 145.14285714285714, 159.85714285714286]}, {\"line\": {\"color\": \"#C7BBB3\", \"width\": 2}, \"mode\": \"markers\", \"name\": \"Belgium\", \"showlegend\": false, \"type\": \"scatter\", \"x\": [17], \"y\": [159.85714285714286]}, {\"line\": {\"color\": \"#C7BBB3\", \"width\": 2}, \"mode\": \"lines\", \"name\": \"Brazil\", \"showlegend\": false, \"type\": \"scatter\", \"x\": [0, 1, 2, 3, 4, 5, 6, 7, 8, 9, 10, 11, 12, 13, 14, 15], \"y\": [3.5714285714285716, 4.857142857142857, 6.428571428571429, 7.571428571428571, 10.142857142857142, 11.571428571428571, 13.714285714285714, 15.857142857142858, 17.857142857142858, 22.142857142857142, 26.285714285714285, 31.714285714285715, 38.142857142857146, 45.42857142857143, 50.0, 56.285714285714285]}, {\"line\": {\"color\": \"#C7BBB3\", \"width\": 2}, \"mode\": \"markers\", \"name\": \"Brazil\", \"showlegend\": false, \"type\": \"scatter\", \"x\": [15], \"y\": [56.285714285714285]}, {\"line\": {\"color\": \"#C7BBB3\", \"width\": 2}, \"mode\": \"lines\", \"name\": \"Canada\", \"showlegend\": false, \"type\": \"scatter\", \"x\": [0, 1, 2, 3, 4, 5, 6, 7, 8, 9, 10, 11, 12], \"y\": [3.7142857142857144, 4.142857142857143, 5.857142857142857, 6.714285714285714, 6.142857142857143, 9.285714285714286, 9.857142857142858, 10.571428571428571, 14.142857142857142, 19.142857142857142, 24.428571428571427, 31.285714285714285, 33.42857142857143]}, {\"line\": {\"color\": \"#C7BBB3\", \"width\": 2}, \"mode\": \"markers\", \"name\": \"Canada\", \"showlegend\": false, \"type\": \"scatter\", \"x\": [12], \"y\": [33.42857142857143]}, {\"line\": {\"color\": \"#C7BBB3\", \"width\": 2}, \"mode\": \"lines\", \"name\": \"Chile\", \"showlegend\": false, \"type\": \"scatter\", \"x\": [0, 1, 2], \"y\": [3.0, 3.857142857142857, 4.142857142857143]}, {\"line\": {\"color\": \"#C7BBB3\", \"width\": 2}, \"mode\": \"markers\", \"name\": \"Chile\", \"showlegend\": false, \"type\": \"scatter\", \"x\": [2], \"y\": [4.142857142857143]}, {\"line\": {\"color\": \"#C7BBB3\", \"width\": 2}, \"mode\": \"lines\", \"name\": \"Colombia\", \"showlegend\": false, \"type\": \"scatter\", \"x\": [0, 1, 2], \"y\": [3.7142857142857144, 3.5714285714285716, 4.571428571428571]}, {\"line\": {\"color\": \"#C7BBB3\", \"width\": 2}, \"mode\": \"markers\", \"name\": \"Colombia\", \"showlegend\": false, \"type\": \"scatter\", \"x\": [2], \"y\": [4.571428571428571]}, {\"line\": {\"color\": \"#C7BBB3\", \"width\": 2}, \"mode\": \"lines\", \"name\": \"Denmark\", \"showlegend\": false, \"type\": \"scatter\", \"x\": [0, 1, 2, 3, 4, 5, 6, 7, 8, 9, 10, 11, 12, 13, 14], \"y\": [3.2857142857142856, 4.0, 4.285714285714286, 5.0, 6.142857142857143, 7.428571428571429, 8.428571428571429, 7.571428571428571, 8.285714285714286, 10.0, 11.714285714285714, 12.428571428571429, 13.714285714285714, 15.285714285714286, 15.714285714285714]}, {\"line\": {\"color\": \"#C7BBB3\", \"width\": 2}, \"mode\": \"markers\", \"name\": \"Denmark\", \"showlegend\": false, \"type\": \"scatter\", \"x\": [14], \"y\": [15.714285714285714]}, {\"line\": {\"color\": \"#C7BBB3\", \"width\": 2}, \"mode\": \"lines\", \"name\": \"Dominican Republic\", \"showlegend\": false, \"type\": \"scatter\", \"x\": [0, 1, 2, 3, 4, 5, 6, 7, 8, 9], \"y\": [3.5714285714285716, 5.142857142857143, 5.571428571428571, 6.428571428571429, 6.714285714285714, 7.142857142857143, 6.857142857142857, 7.0, 6.142857142857143, 6.285714285714286]}, {\"line\": {\"color\": \"#C7BBB3\", \"width\": 2}, \"mode\": \"markers\", \"name\": \"Dominican Republic\", \"showlegend\": false, \"type\": \"scatter\", \"x\": [9], \"y\": [6.285714285714286]}, {\"line\": {\"color\": \"#C7BBB3\", \"width\": 2}, \"mode\": \"lines\", \"name\": \"Ecuador\", \"showlegend\": false, \"type\": \"scatter\", \"x\": [0, 1, 2, 3, 4, 5, 6, 7, 8, 9, 10, 11, 12, 13], \"y\": [3.5714285714285716, 3.7142857142857144, 4.428571428571429, 4.857142857142857, 5.857142857142857, 6.285714285714286, 6.285714285714286, 7.428571428571429, 13.0, 12.285714285714286, 14.857142857142858, 17.714285714285715, 17.428571428571427, 18.428571428571427]}, {\"line\": {\"color\": \"#C7BBB3\", \"width\": 2}, \"mode\": \"markers\", \"name\": \"Ecuador\", \"showlegend\": false, \"type\": \"scatter\", \"x\": [13], \"y\": [18.428571428571427]}, {\"line\": {\"color\": \"#C7BBB3\", \"width\": 2}, \"mode\": \"lines\", \"name\": \"Egypt\", \"showlegend\": false, \"type\": \"scatter\", \"x\": [0, 1, 2, 3, 4, 5, 6, 7, 8, 9], \"y\": [3.142857142857143, 3.7142857142857144, 3.7142857142857144, 3.142857142857143, 3.5714285714285716, 4.428571428571429, 4.0, 5.142857142857143, 5.0, 5.428571428571429]}, {\"line\": {\"color\": \"#C7BBB3\", \"width\": 2}, \"mode\": \"markers\", \"name\": \"Egypt\", \"showlegend\": false, \"type\": \"scatter\", \"x\": [9], \"y\": [5.428571428571429]}, {\"line\": {\"color\": \"#C7BBB3\", \"width\": 2}, \"mode\": \"lines\", \"name\": \"Greece\", \"showlegend\": false, \"type\": \"scatter\", \"x\": [0, 1, 2, 3, 4, 5, 6, 7, 8, 9, 10, 11], \"y\": [3.0, 2.857142857142857, 2.7142857142857144, 3.2857142857142856, 3.7142857142857144, 4.142857142857143, 4.0, 3.857142857142857, 4.428571428571429, 5.142857142857143, 5.0, 5.142857142857143]}, {\"line\": {\"color\": \"#C7BBB3\", \"width\": 2}, \"mode\": \"markers\", \"name\": \"Greece\", \"showlegend\": false, \"type\": \"scatter\", \"x\": [11], \"y\": [5.142857142857143]}, {\"line\": {\"color\": \"#C7BBB3\", \"width\": 2}, \"mode\": \"lines\", \"name\": \"Hungary\", \"showlegend\": false, \"type\": \"scatter\", \"x\": [0, 1, 2, 3], \"y\": [3.0, 3.0, 3.2857142857142856, 4.571428571428571]}, {\"line\": {\"color\": \"#C7BBB3\", \"width\": 2}, \"mode\": \"markers\", \"name\": \"Hungary\", \"showlegend\": false, \"type\": \"scatter\", \"x\": [3], \"y\": [4.571428571428571]}, {\"line\": {\"color\": \"#C7BBB3\", \"width\": 2}, \"mode\": \"lines\", \"name\": \"India\", \"showlegend\": false, \"type\": \"scatter\", \"x\": [0, 1, 2, 3, 4, 5, 6, 7, 8, 9], \"y\": [3.0, 3.142857142857143, 3.2857142857142856, 3.7142857142857144, 5.285714285714286, 5.571428571428571, 7.0, 7.428571428571429, 11.428571428571429, 11.714285714285714]}, {\"line\": {\"color\": \"#C7BBB3\", \"width\": 2}, \"mode\": \"markers\", \"name\": \"India\", \"showlegend\": false, \"type\": \"scatter\", \"x\": [9], \"y\": [11.714285714285714]}, {\"line\": {\"color\": \"#C7BBB3\", \"width\": 2}, \"mode\": \"lines\", \"name\": \"Indonesia\", \"showlegend\": false, \"type\": \"scatter\", \"x\": [0, 1, 2, 3, 4, 5, 6, 7, 8, 9, 10, 11, 12, 13, 14, 15, 16, 17], \"y\": [3.0, 4.857142857142857, 6.142857142857143, 6.285714285714286, 7.142857142857143, 7.571428571428571, 8.428571428571429, 8.857142857142858, 9.142857142857142, 9.428571428571429, 10.428571428571429, 11.571428571428571, 14.142857142857142, 13.142857142857142, 13.428571428571429, 12.714285714285714, 12.0, 12.428571428571429]}, {\"line\": {\"color\": \"#C7BBB3\", \"width\": 2}, \"mode\": \"markers\", \"name\": \"Indonesia\", \"showlegend\": false, \"type\": \"scatter\", \"x\": [17], \"y\": [12.428571428571429]}, {\"line\": {\"color\": \"#C7BBB3\", \"width\": 2}, \"mode\": \"lines\", \"name\": \"Iran\", \"showlegend\": false, \"type\": \"scatter\", \"x\": [0, 1, 2, 3, 4, 5, 6, 7, 8, 9, 10, 11, 12, 13, 14, 15, 16, 17, 18, 19, 20, 21, 22, 23, 24, 25, 26, 27, 28, 29, 30, 31, 32, 33, 34, 35, 36, 37, 38, 39], \"y\": [3.4285714285714284, 4.285714285714286, 5.428571428571429, 6.571428571428571, 7.714285714285714, 8.857142857142858, 10.428571428571429, 11.571428571428571, 12.857142857142858, 14.571428571428571, 20.0, 24.428571428571427, 30.571428571428573, 37.42857142857143, 46.0, 55.714285714285715, 66.57142857142857, 75.71428571428571, 88.0, 99.57142857142857, 111.57142857142857, 122.14285714285714, 131.28571428571428, 135.0, 137.28571428571428, 137.0, 135.14285714285714, 134.57142857142858, 135.71428571428572, 135.0, 137.28571428571428, 136.42857142857142, 135.0, 137.71428571428572, 137.0, 132.28571428571428, 111.71428571428571, 133.57142857142858, 137.57142857142858, 140.28571428571428]}, {\"line\": {\"color\": \"#C7BBB3\", \"width\": 2}, \"mode\": \"markers\", \"name\": \"Iran\", \"showlegend\": false, \"type\": \"scatter\", \"x\": [39], \"y\": [140.28571428571428]}, {\"line\": {\"color\": \"#C7BBB3\", \"width\": 2}, \"mode\": \"lines\", \"name\": \"Iraq\", \"showlegend\": false, \"type\": \"scatter\", \"x\": [0, 1, 2, 3, 4, 5, 6, 7, 8, 9, 10, 11], \"y\": [3.4285714285714284, 3.7142857142857144, 3.5714285714285716, 3.142857142857143, 3.2857142857142856, 3.2857142857142856, 3.0, 2.5714285714285716, 2.0, 2.0, 2.7142857142857144, 2.5714285714285716]}, {\"line\": {\"color\": \"#C7BBB3\", \"width\": 2}, \"mode\": \"markers\", \"name\": \"Iraq\", \"showlegend\": false, \"type\": \"scatter\", \"x\": [11], \"y\": [2.5714285714285716]}, {\"line\": {\"color\": \"#C7BBB3\", \"width\": 2}, \"mode\": \"lines\", \"name\": \"Ireland\", \"showlegend\": false, \"type\": \"scatter\", \"x\": [0, 1, 2, 3, 4, 5, 6, 7, 8, 9], \"y\": [4.714285714285714, 6.0, 6.857142857142857, 9.142857142857142, 10.857142857142858, 11.285714285714286, 14.0, 14.428571428571429, 16.0, 17.142857142857142]}, {\"line\": {\"color\": \"#C7BBB3\", \"width\": 2}, \"mode\": \"markers\", \"name\": \"Ireland\", \"showlegend\": false, \"type\": \"scatter\", \"x\": [9], \"y\": [17.142857142857142]}, {\"line\": {\"color\": \"#C7BBB3\", \"width\": 2}, \"mode\": \"lines\", \"name\": \"Israel\", \"showlegend\": false, \"type\": \"scatter\", \"x\": [0, 1, 2, 3, 4], \"y\": [3.7142857142857144, 4.142857142857143, 4.857142857142857, 4.857142857142857, 5.714285714285714]}, {\"line\": {\"color\": \"#C7BBB3\", \"width\": 2}, \"mode\": \"markers\", \"name\": \"Israel\", \"showlegend\": false, \"type\": \"scatter\", \"x\": [4], \"y\": [5.714285714285714]}, {\"line\": {\"color\": \"#C7BBB3\", \"width\": 2}, \"mode\": \"lines\", \"name\": \"Japan\", \"showlegend\": false, \"type\": \"scatter\", \"x\": [0], \"y\": [3.4285714285714284]}, {\"line\": {\"color\": \"#C7BBB3\", \"width\": 2}, \"mode\": \"markers\", \"name\": \"Japan\", \"showlegend\": false, \"type\": \"scatter\", \"x\": [0], \"y\": [3.4285714285714284]}, {\"line\": {\"color\": \"#C7BBB3\", \"width\": 2}, \"mode\": \"lines\", \"name\": \"Luxembourg\", \"showlegend\": false, \"type\": \"scatter\", \"x\": [0, 1, 2, 3, 4, 5], \"y\": [3.0, 3.0, 2.2857142857142856, 1.8571428571428572, 2.142857142857143, 2.7142857142857144]}, {\"line\": {\"color\": \"#C7BBB3\", \"width\": 2}, \"mode\": \"markers\", \"name\": \"Luxembourg\", \"showlegend\": false, \"type\": \"scatter\", \"x\": [5], \"y\": [2.7142857142857144]}, {\"line\": {\"color\": \"#C7BBB3\", \"width\": 2}, \"mode\": \"lines\", \"name\": \"Malaysia\", \"showlegend\": false, \"type\": \"scatter\", \"x\": [0, 1, 2, 3, 4, 5, 6, 7, 8, 9, 10, 11], \"y\": [3.0, 3.4285714285714284, 3.2857142857142856, 3.4285714285714284, 3.2857142857142856, 3.142857142857143, 3.7142857142857144, 3.857142857142857, 3.857142857142857, 4.285714285714286, 3.857142857142857, 3.5714285714285716]}, {\"line\": {\"color\": \"#C7BBB3\", \"width\": 2}, \"mode\": \"markers\", \"name\": \"Malaysia\", \"showlegend\": false, \"type\": \"scatter\", \"x\": [11], \"y\": [3.5714285714285716]}, {\"line\": {\"color\": \"#C7BBB3\", \"width\": 2}, \"mode\": \"lines\", \"name\": \"Mexico\", \"showlegend\": false, \"type\": \"scatter\", \"x\": [0, 1, 2, 3, 4, 5, 6, 7], \"y\": [3.4285714285714284, 3.4285714285714284, 4.571428571428571, 4.142857142857143, 6.857142857142857, 9.0, 10.571428571428571, 13.857142857142858]}, {\"line\": {\"color\": \"#C7BBB3\", \"width\": 2}, \"mode\": \"markers\", \"name\": \"Mexico\", \"showlegend\": false, \"type\": \"scatter\", \"x\": [7], \"y\": [13.857142857142858]}, {\"line\": {\"color\": \"#C7BBB3\", \"width\": 2}, \"mode\": \"lines\", \"name\": \"Morocco\", \"showlegend\": false, \"type\": \"scatter\", \"x\": [0, 1, 2, 3, 4, 5, 6, 7, 8], \"y\": [3.142857142857143, 4.142857142857143, 4.428571428571429, 4.714285714285714, 4.857142857142857, 3.0, 5.142857142857143, 6.285714285714286, 6.714285714285714]}, {\"line\": {\"color\": \"#C7BBB3\", \"width\": 2}, \"mode\": \"markers\", \"name\": \"Morocco\", \"showlegend\": false, \"type\": \"scatter\", \"x\": [8], \"y\": [6.714285714285714]}, {\"line\": {\"color\": \"#C7BBB3\", \"width\": 2}, \"mode\": \"lines\", \"name\": \"Netherlands\", \"showlegend\": false, \"type\": \"scatter\", \"x\": [0, 1, 2, 3, 4, 5, 6, 7, 8, 9, 10, 11, 12, 13, 14, 15, 16, 17, 18, 19, 20, 21], \"y\": [3.0, 5.571428571428571, 7.571428571428571, 10.142857142857142, 14.428571428571429, 17.714285714285715, 22.714285714285715, 27.0, 33.285714285714285, 42.57142857142857, 51.142857142857146, 62.857142857142854, 71.85714285714286, 84.57142857142857, 93.0, 109.0, 116.71428571428571, 129.28571428571428, 134.42857142857142, 144.57142857142858, 142.14285714285714, 143.28571428571428]}, {\"line\": {\"color\": \"#C7BBB3\", \"width\": 2}, \"mode\": \"markers\", \"name\": \"Netherlands\", \"showlegend\": false, \"type\": \"scatter\", \"x\": [21], \"y\": [143.28571428571428]}, {\"line\": {\"color\": \"#C7BBB3\", \"width\": 2}, \"mode\": \"lines\", \"name\": \"Norway\", \"showlegend\": false, \"type\": \"scatter\", \"x\": [0, 1, 2, 3, 4], \"y\": [4.0, 4.0, 4.285714285714286, 5.142857142857143, 4.714285714285714]}, {\"line\": {\"color\": \"#C7BBB3\", \"width\": 2}, \"mode\": \"markers\", \"name\": \"Norway\", \"showlegend\": false, \"type\": \"scatter\", \"x\": [4], \"y\": [4.714285714285714]}, {\"line\": {\"color\": \"#C7BBB3\", \"width\": 2}, \"mode\": \"lines\", \"name\": \"Pakistan\", \"showlegend\": false, \"type\": \"scatter\", \"x\": [0, 1, 2, 3, 4, 5], \"y\": [3.2857142857142856, 3.142857142857143, 3.142857142857143, 3.4285714285714284, 5.285714285714286, 5.142857142857143]}, {\"line\": {\"color\": \"#C7BBB3\", \"width\": 2}, \"mode\": \"markers\", \"name\": \"Pakistan\", \"showlegend\": false, \"type\": \"scatter\", \"x\": [5], \"y\": [5.142857142857143]}, {\"line\": {\"color\": \"#C7BBB3\", \"width\": 2}, \"mode\": \"lines\", \"name\": \"Panama\", \"showlegend\": false, \"type\": \"scatter\", \"x\": [0, 1, 2, 3, 4, 5, 6, 7, 8], \"y\": [3.0, 2.857142857142857, 3.4285714285714284, 3.7142857142857144, 4.0, 3.857142857142857, 4.142857142857143, 4.285714285714286, 4.142857142857143]}, {\"line\": {\"color\": \"#C7BBB3\", \"width\": 2}, \"mode\": \"markers\", \"name\": \"Panama\", \"showlegend\": false, \"type\": \"scatter\", \"x\": [8], \"y\": [4.142857142857143]}, {\"line\": {\"color\": \"#C7BBB3\", \"width\": 2}, \"mode\": \"lines\", \"name\": \"Peru\", \"showlegend\": false, \"type\": \"scatter\", \"x\": [0, 1, 2, 3, 4, 5, 6], \"y\": [3.2857142857142856, 5.571428571428571, 6.571428571428571, 7.142857142857143, 8.142857142857142, 9.285714285714286, 9.714285714285714]}, {\"line\": {\"color\": \"#C7BBB3\", \"width\": 2}, \"mode\": \"markers\", \"name\": \"Peru\", \"showlegend\": false, \"type\": \"scatter\", \"x\": [6], \"y\": [9.714285714285714]}, {\"line\": {\"color\": \"#C7BBB3\", \"width\": 2}, \"mode\": \"lines\", \"name\": \"Philippines\", \"showlegend\": false, \"type\": \"scatter\", \"x\": [0, 1, 2, 3, 4, 5, 6, 7, 8, 9, 10, 11, 12, 13, 14], \"y\": [3.0, 3.0, 3.0, 3.857142857142857, 5.142857142857143, 6.142857142857143, 6.571428571428571, 7.857142857142857, 7.571428571428571, 8.285714285714286, 8.857142857142858, 11.714285714285714, 10.857142857142858, 11.571428571428571, 10.714285714285714]}, {\"line\": {\"color\": \"#C7BBB3\", \"width\": 2}, \"mode\": \"markers\", \"name\": \"Philippines\", \"showlegend\": false, \"type\": \"scatter\", \"x\": [14], \"y\": [10.714285714285714]}, {\"line\": {\"color\": \"#C7BBB3\", \"width\": 2}, \"mode\": \"lines\", \"name\": \"Poland\", \"showlegend\": false, \"type\": \"scatter\", \"x\": [0, 1, 2, 3, 4, 5, 6, 7], \"y\": [3.2857142857142856, 3.2857142857142856, 4.142857142857143, 5.857142857142857, 7.857142857142857, 8.714285714285714, 10.285714285714286, 10.857142857142858]}, {\"line\": {\"color\": \"#C7BBB3\", \"width\": 2}, \"mode\": \"markers\", \"name\": \"Poland\", \"showlegend\": false, \"type\": \"scatter\", \"x\": [7], \"y\": [10.857142857142858]}, {\"line\": {\"color\": \"#C7BBB3\", \"width\": 2}, \"mode\": \"lines\", \"name\": \"Portugal\", \"showlegend\": false, \"type\": \"scatter\", \"x\": [0, 1, 2, 3, 4, 5, 6, 7, 8, 9, 10, 11, 12, 13, 14], \"y\": [3.2857142857142856, 4.571428571428571, 5.857142857142857, 8.142857142857142, 10.0, 12.571428571428571, 15.0, 16.714285714285715, 18.142857142857142, 20.571428571428573, 21.285714285714285, 24.285714285714285, 23.714285714285715, 25.142857142857142, 24.428571428571427]}, {\"line\": {\"color\": \"#C7BBB3\", \"width\": 2}, \"mode\": \"markers\", \"name\": \"Portugal\", \"showlegend\": false, \"type\": \"scatter\", \"x\": [14], \"y\": [24.428571428571427]}, {\"line\": {\"color\": \"#C7BBB3\", \"width\": 2}, \"mode\": \"lines\", \"name\": \"Romania\", \"showlegend\": false, \"type\": \"scatter\", \"x\": [0, 1, 2, 3, 4, 5, 6, 7, 8, 9, 10], \"y\": [3.4285714285714284, 4.142857142857143, 5.428571428571429, 5.285714285714286, 8.285714285714286, 10.285714285714286, 11.0, 15.571428571428571, 16.0, 15.428571428571429, 16.142857142857142]}, {\"line\": {\"color\": \"#C7BBB3\", \"width\": 2}, \"mode\": \"markers\", \"name\": \"Romania\", \"showlegend\": false, \"type\": \"scatter\", \"x\": [10], \"y\": [16.142857142857142]}, {\"line\": {\"color\": \"#C7BBB3\", \"width\": 2}, \"mode\": \"lines\", \"name\": \"Russia\", \"showlegend\": false, \"type\": \"scatter\", \"x\": [0, 1, 2, 3, 4, 5], \"y\": [3.4285714285714284, 4.0, 4.285714285714286, 5.428571428571429, 5.285714285714286, 5.285714285714286]}, {\"line\": {\"color\": \"#C7BBB3\", \"width\": 2}, \"mode\": \"markers\", \"name\": \"Russia\", \"showlegend\": false, \"type\": \"scatter\", \"x\": [5], \"y\": [5.285714285714286]}, {\"line\": {\"color\": \"#C7BBB3\", \"width\": 2}, \"mode\": \"lines\", \"name\": \"Saudi Arabia\", \"showlegend\": false, \"type\": \"scatter\", \"x\": [0, 1, 2], \"y\": [3.5714285714285716, 3.7142857142857144, 4.285714285714286]}, {\"line\": {\"color\": \"#C7BBB3\", \"width\": 2}, \"mode\": \"markers\", \"name\": \"Saudi Arabia\", \"showlegend\": false, \"type\": \"scatter\", \"x\": [2], \"y\": [4.285714285714286]}, {\"line\": {\"color\": \"#C7BBB3\", \"width\": 2}, \"mode\": \"lines\", \"name\": \"Serbia\", \"showlegend\": false, \"type\": \"scatter\", \"x\": [0, 1, 2, 3, 4, 5, 6], \"y\": [3.142857142857143, 3.0, 4.0, 4.714285714285714, 4.857142857142857, 5.428571428571429, 6.428571428571429]}, {\"line\": {\"color\": \"#C7BBB3\", \"width\": 2}, \"mode\": \"markers\", \"name\": \"Serbia\", \"showlegend\": false, \"type\": \"scatter\", \"x\": [6], \"y\": [6.428571428571429]}, {\"line\": {\"color\": \"#C7BBB3\", \"width\": 2}, \"mode\": \"lines\", \"name\": \"Sweden\", \"showlegend\": false, \"type\": \"scatter\", \"x\": [0, 1, 2, 3, 4, 5, 6, 7, 8, 9, 10, 11, 12, 13], \"y\": [4.0, 4.571428571428571, 8.0, 10.857142857142858, 11.714285714285714, 12.714285714285714, 17.285714285714285, 20.571428571428573, 28.142857142857142, 30.857142857142858, 34.42857142857143, 38.714285714285715, 41.57142857142857, 47.285714285714285]}, {\"line\": {\"color\": \"#C7BBB3\", \"width\": 2}, \"mode\": \"markers\", \"name\": \"Sweden\", \"showlegend\": false, \"type\": \"scatter\", \"x\": [13], \"y\": [47.285714285714285]}, {\"line\": {\"color\": \"#C7BBB3\", \"width\": 2}, \"mode\": \"lines\", \"name\": \"Switzerland\", \"showlegend\": false, \"type\": \"scatter\", \"x\": [0, 1, 2, 3, 4, 5, 6, 7, 8, 9, 10, 11, 12, 13, 14, 15, 16, 17, 18], \"y\": [4.142857142857143, 5.142857142857143, 6.428571428571429, 6.714285714285714, 7.428571428571429, 9.571428571428571, 11.714285714285714, 18.285714285714285, 22.0, 25.571428571428573, 28.142857142857142, 32.714285714285715, 41.0, 39.285714285714285, 38.714285714285715, 41.0, 43.57142857142857, 43.142857142857146, 41.285714285714285]}, {\"line\": {\"color\": \"#C7BBB3\", \"width\": 2}, \"mode\": \"markers\", \"name\": \"Switzerland\", \"showlegend\": false, \"type\": \"scatter\", \"x\": [18], \"y\": [41.285714285714285]}, {\"line\": {\"color\": \"#C7BBB3\", \"width\": 2}, \"mode\": \"lines\", \"name\": \"Turkey\", \"showlegend\": false, \"type\": \"scatter\", \"x\": [0, 1, 2, 3, 4, 5, 6, 7, 8, 9, 10, 11, 12, 13, 14, 15, 16], \"y\": [3.0, 4.285714285714286, 5.285714285714286, 6.285714285714286, 8.285714285714286, 10.142857142857142, 11.857142857142858, 12.428571428571429, 14.428571428571429, 18.714285714285715, 24.285714285714285, 31.142857142857142, 40.142857142857146, 47.57142857142857, 56.142857142857146, 63.285714285714285, 68.71428571428571]}, {\"line\": {\"color\": \"#C7BBB3\", \"width\": 2}, \"mode\": \"markers\", \"name\": \"Turkey\", \"showlegend\": false, \"type\": \"scatter\", \"x\": [16], \"y\": [68.71428571428571]}, {\"line\": {\"color\": \"#C7BBB3\", \"width\": 2}, \"mode\": \"lines\", \"name\": \"Ukraine\", \"showlegend\": false, \"type\": \"scatter\", \"x\": [0, 1], \"y\": [3.2857142857142856, 3.857142857142857]}, {\"line\": {\"color\": \"#C7BBB3\", \"width\": 2}, \"mode\": \"markers\", \"name\": \"Ukraine\", \"showlegend\": false, \"type\": \"scatter\", \"x\": [1], \"y\": [3.857142857142857]}, {\"line\": {\"color\": \"#DA870C\", \"width\": 2}, \"mode\": \"lines\", \"name\": \"China\", \"showlegend\": false, \"type\": \"scatter\", \"x\": [0, 1, 2, 3, 4, 5, 6, 7, 8, 9, 10, 11, 12, 13, 14, 15, 16, 17, 18, 19, 20, 21, 22, 23, 24, 25, 26, 27, 28, 29, 30, 31, 32, 33, 34, 35, 36, 37, 38, 39, 40, 41, 42, 43, 44, 45, 46, 47, 48, 49, 50, 51, 52, 53, 54, 55, 56, 57, 58, 59, 60, 61, 62, 63, 64, 65, 66, 67, 68, 69, 70, 71, 72, 73, 74], \"y\": [3.4285714285714284, 5.571428571428571, 7.571428571428571, 11.142857142857142, 14.285714285714286, 16.428571428571427, 21.857142857142858, 26.714285714285715, 31.142857142857142, 35.42857142857143, 40.0, 45.714285714285715, 51.42857142857143, 56.285714285714285, 60.57142857142857, 66.28571428571429, 72.57142857142857, 78.28571428571429, 84.42857142857143, 88.85714285714286, 114.85714285714286, 106.28571428571429, 114.42857142857143, 122.0, 123.14285714285714, 121.71428571428571, 127.71428571428571, 107.42857142857143, 122.42857142857143, 117.57142857142857, 111.28571428571429, 117.71428571428571, 113.71428571428571, 101.28571428571429, 89.42857142857143, 78.85714285714286, 70.0, 61.0, 45.57142857142857, 40.142857142857146, 38.0, 38.285714285714285, 36.285714285714285, 33.57142857142857, 32.42857142857143, 29.714285714285715, 27.571428571428573, 25.428571428571427, 22.571428571428573, 19.285714285714285, 17.428571428571427, 14.857142857142858, 13.428571428571429, 12.285714285714286, 11.428571428571429, 11.0, 10.571428571428571, 9.285714285714286, 8.857142857142858, 8.285714285714286, 8.0, 6.285714285714286, 6.0, 6.142857142857143, 5.714285714285714, 5.571428571428571, 4.571428571428571, 4.0, 3.5714285714285716, 3.5714285714285716, 4.285714285714286, 4.428571428571429, 4.142857142857143, 4.142857142857143, 3.7142857142857144]}, {\"line\": {\"color\": \"#DA870C\", \"width\": 2}, \"mode\": \"markers+text\", \"name\": \"China\", \"showlegend\": false, \"text\": [\"China\"], \"textfont\": {\"color\": \"#DA870C\", \"family\": \"Metric\", \"size\": 14}, \"textposition\": \"top right\", \"type\": \"scatter\", \"x\": [74], \"y\": [3.7142857142857144]}, {\"line\": {\"color\": \"#208FCE\", \"width\": 2}, \"mode\": \"lines\", \"name\": \"France\", \"showlegend\": false, \"type\": \"scatter\", \"x\": [0, 1, 2, 3, 4, 5, 6, 7, 8, 9, 10, 11, 12, 13, 14, 15, 16, 17, 18, 19, 20, 21, 22, 23, 24, 25, 26, 27, 28], \"y\": [3.857142857142857, 4.142857142857143, 6.285714285714286, 7.714285714285714, 10.0, 11.571428571428571, 15.428571428571429, 16.857142857142858, 20.285714285714285, 28.0, 44.42857142857143, 53.0, 67.28571428571429, 78.14285714285714, 101.71428571428571, 132.14285714285714, 155.28571428571428, 189.14285714285714, 220.71428571428572, 250.28571428571428, 276.0, 309.14285714285717, 346.14285714285717, 385.85714285714283, 401.0, 644.5714285714286, 749.4285714285714, 781.7142857142857, 841.0]}, {\"line\": {\"color\": \"#208FCE\", \"width\": 2}, \"mode\": \"markers+text\", \"name\": \"France\", \"showlegend\": false, \"text\": [\"France\"], \"textfont\": {\"color\": \"#208FCE\", \"family\": \"Metric\", \"size\": 14}, \"textposition\": \"top right\", \"type\": \"scatter\", \"x\": [28], \"y\": [841.0]}, {\"line\": {\"color\": \"#79972A\", \"width\": 2}, \"mode\": \"lines\", \"name\": \"Germany\", \"showlegend\": false, \"type\": \"scatter\", \"x\": [0, 1, 2, 3, 4, 5, 6, 7, 8, 9, 10, 11, 12, 13, 14, 15, 16, 17, 18], \"y\": [5.428571428571429, 5.714285714285714, 8.428571428571429, 11.714285714285714, 16.142857142857142, 19.428571428571427, 26.428571428571427, 30.0, 40.0, 46.0, 51.57142857142857, 65.28571428571429, 83.28571428571429, 96.28571428571429, 109.14285714285714, 119.0, 136.14285714285714, 139.85714285714286, 146.28571428571428]}, {\"line\": {\"color\": \"#79972A\", \"width\": 2}, \"mode\": \"markers+text\", \"name\": \"Germany\", \"showlegend\": false, \"text\": [\"Germany\"], \"textfont\": {\"color\": \"#79972A\", \"family\": \"Metric\", \"size\": 14}, \"textposition\": \"top right\", \"type\": \"scatter\", \"x\": [18], \"y\": [146.28571428571428]}, {\"line\": {\"color\": \"#66605C\", \"width\": 2}, \"mode\": \"lines\", \"name\": \"Italy\", \"showlegend\": false, \"type\": \"scatter\", \"x\": [0, 1, 2, 3, 4, 5, 6, 7, 8, 9, 10, 11, 12, 13, 14, 15, 16, 17, 18, 19, 20, 21, 22, 23, 24, 25, 26, 27, 28, 29, 30, 31, 32, 33, 34, 35, 36, 37, 38], \"y\": [3.0, 3.857142857142857, 4.714285714285714, 6.571428571428571, 9.857142857142858, 13.571428571428571, 18.714285714285715, 25.142857142857142, 29.142857142857142, 47.285714285714285, 58.857142857142854, 78.71428571428571, 102.85714285714286, 124.0, 153.0, 172.57142857142858, 206.42857142857142, 242.0, 267.7142857142857, 307.2857142857143, 341.57142857142856, 394.85714285714283, 483.7142857142857, 523.5714285714286, 559.8571428571429, 616.4285714285714, 646.7142857142857, 679.7142857142857, 729.1428571428571, 742.2857142857143, 757.8571428571429, 787.7142857142857, 801.4285714285714, 807.4285714285714, 821.7142857142857, 792.1428571428571, 762.7142857142857, 729.7142857142857, 704.8571428571429]}, {\"line\": {\"color\": \"#66605C\", \"width\": 2}, \"mode\": \"markers+text\", \"name\": \"Italy\", \"showlegend\": false, \"text\": [\"Italy\"], \"textfont\": {\"color\": \"#66605C\", \"family\": \"Metric\", \"size\": 14}, \"textposition\": \"top right\", \"type\": \"scatter\", \"x\": [38], \"y\": [704.8571428571429]}, {\"line\": {\"color\": \"#72DCE6\", \"width\": 2}, \"mode\": \"lines\", \"name\": \"South Korea\", \"showlegend\": false, \"type\": \"scatter\", \"x\": [0, 1, 2, 3, 4, 5, 6, 7, 8, 9, 10, 11, 12, 13, 14, 15, 16, 17, 18, 19, 20, 21, 22, 23, 24, 25, 26, 27, 28, 29, 30, 31, 32, 33, 34], \"y\": [3.0, 3.2857142857142856, 4.142857142857143, 4.0, 4.714285714285714, 4.142857142857143, 3.7142857142857144, 4.0, 4.428571428571429, 3.5714285714285716, 4.0, 3.5714285714285716, 3.4285714285714284, 3.857142857142857, 3.7142857142857144, 3.5714285714285716, 4.714285714285714, 4.428571428571429, 4.142857142857143, 5.428571428571429, 5.571428571428571, 5.714285714285714, 5.714285714285714, 5.571428571428571, 5.857142857142857, 6.857142857142857, 6.428571428571429, 6.142857142857143, 5.285714285714286, 5.428571428571429, 5.0, 4.714285714285714, 4.428571428571429, 4.0, 4.142857142857143]}, {\"line\": {\"color\": \"#72DCE6\", \"width\": 2}, \"mode\": \"markers+text\", \"name\": \"South Korea\", \"showlegend\": false, \"text\": [\"S Korea\"], \"textfont\": {\"color\": \"#72DCE6\", \"family\": \"Metric\", \"size\": 14}, \"textposition\": \"top right\", \"type\": \"scatter\", \"x\": [34], \"y\": [4.142857142857143]}, {\"line\": {\"color\": \"#208FCE\", \"width\": 2}, \"mode\": \"lines\", \"name\": \"Spain\", \"showlegend\": false, \"type\": \"scatter\", \"x\": [0, 1, 2, 3, 4, 5, 6, 7, 8, 9, 10, 11, 12, 13, 14, 15, 16, 17, 18, 19, 20, 21, 22, 23, 24, 25, 26, 27, 28], \"y\": [4.0, 5.0, 6.571428571428571, 11.571428571428571, 16.571428571428573, 18.714285714285715, 40.42857142857143, 40.142857142857146, 65.14285714285714, 78.71428571428571, 97.57142857142857, 125.85714285714286, 170.0, 204.57142857142858, 267.57142857142856, 315.0, 405.14285714285717, 474.57142857142856, 550.8571428571429, 623.4285714285714, 686.8571428571429, 736.8571428571429, 784.7142857142857, 802.7142857142857, 844.8571428571429, 868.1428571428571, 864.8571428571429, 841.4285714285714, 816.4285714285714]}, {\"line\": {\"color\": \"#208FCE\", \"width\": 2}, \"mode\": \"markers+text\", \"name\": \"Spain\", \"showlegend\": false, \"text\": [\"Spain\"], \"textfont\": {\"color\": \"#208FCE\", \"family\": \"Metric\", \"size\": 14}, \"textposition\": \"top left\", \"type\": \"scatter\", \"x\": [28], \"y\": [816.4285714285714]}, {\"line\": {\"color\": \"#B3325D\", \"width\": 2}, \"mode\": \"lines\", \"name\": \"United Kingdom\", \"showlegend\": false, \"type\": \"scatter\", \"x\": [0, 1, 2, 3, 4, 5, 6, 7, 8, 9, 10, 11, 12, 13, 14, 15, 16, 17, 18, 19, 20, 21, 22], \"y\": [4.571428571428571, 7.142857142857143, 7.714285714285714, 13.857142857142858, 19.142857142857142, 23.857142857142858, 30.285714285714285, 35.142857142857146, 40.0, 51.714285714285715, 51.42857142857143, 62.0, 83.14285714285714, 112.28571428571429, 135.28571428571428, 153.28571428571428, 195.28571428571428, 295.57142857142856, 334.7142857142857, 406.57142857142856, 470.57142857142856, 529.4285714285714, 566.4285714285714]}, {\"line\": {\"color\": \"#B3325D\", \"width\": 2}, \"mode\": \"markers+text\", \"name\": \"United Kingdom\", \"showlegend\": false, \"text\": [\"UK\"], \"textfont\": {\"color\": \"#B3325D\", \"family\": \"Metric\", \"size\": 14}, \"textposition\": \"top right\", \"type\": \"scatter\", \"x\": [22], \"y\": [566.4285714285714]}, {\"line\": {\"color\": \"#EB5E8D\", \"width\": 2}, \"mode\": \"lines\", \"name\": \"United States\", \"showlegend\": false, \"type\": \"scatter\", \"x\": [0, 1, 2, 3, 4, 5, 6, 7, 8, 9, 10, 11, 12, 13, 14, 15, 16, 17, 18, 19, 20, 21, 22, 23, 24, 25], \"y\": [4.0, 4.714285714285714, 5.714285714285714, 6.857142857142857, 8.428571428571429, 11.428571428571429, 17.142857142857142, 15.714285714285714, 30.428571428571427, 40.42857142857143, 57.42857142857143, 72.14285714285714, 99.0, 128.57142857142858, 163.71428571428572, 206.71428571428572, 264.42857142857144, 291.14285714285717, 368.57142857142856, 468.2857142857143, 584.0, 679.5714285714286, 778.5714285714286, 901.4285714285714, 1019.7142857142857, 1117.0]}, {\"line\": {\"color\": \"#EB5E8D\", \"width\": 2}, \"mode\": \"markers+text\", \"name\": \"United States\", \"showlegend\": false, \"text\": [\"US\"], \"textfont\": {\"color\": \"#EB5E8D\", \"family\": \"Metric\", \"size\": 14}, \"textposition\": \"top right\", \"type\": \"scatter\", \"x\": [25], \"y\": [1117.0]}],\n",
       "                        {\"annotations\": [{\"showarrow\": false, \"text\": \"Not a FT Graphic: Jake Carbone / @jakecarbone8\", \"x\": -0.04, \"xref\": \"paper\", \"y\": -0.175, \"yref\": \"paper\"}, {\"showarrow\": false, \"text\": \"Source: CDC - Situation Update Worldwide - Last updated 7th April, 12:15 (London Time)\", \"x\": -0.04, \"xref\": \"paper\", \"y\": -0.225, \"yref\": \"paper\"}, {\"showarrow\": false, \"text\": \"Number of days since 3 daily deaths first recorded\", \"x\": 0.5, \"xref\": \"paper\", \"y\": -0.115, \"yref\": \"paper\"}, {\"arrowcolor\": \"#636363\", \"arrowhead\": 2, \"arrowsize\": 1, \"arrowwidth\": 2, \"ax\": -50, \"axref\": \"pixel\", \"ay\": -0.092, \"opacity\": 0.7, \"showarrow\": true, \"x\": 0.74, \"xref\": \"paper\", \"y\": -0.0877, \"yref\": \"paper\"}], \"autosize\": true, \"font\": {\"color\": \"#68625E\", \"family\": \"Metric\", \"size\": 15}, \"height\": 618.0469715698392, \"legend\": {\"orientation\": \"h\", \"x\": 0, \"y\": -0.25}, \"margin\": {\"b\": 100}, \"paper_bgcolor\": \"#FFF1E5\", \"plot_bgcolor\": \"#FFF1E5\", \"template\": {\"layout\": {\"annotations\": [{\"font\": {\"color\": \"#CEC6B9\", \"size\": 24}, \"name\": \"draft watermark\", \"opacity\": 1, \"showarrow\": false, \"text\": \"NOT THE FINANCIAL TIMES\", \"textangle\": 0, \"x\": 0.95, \"xref\": \"paper\", \"y\": 0.9, \"yref\": \"paper\"}]}}, \"title\": {\"text\": \"<b style='color:#030303'>Italy and Spain's daily death tolls are plateauing, but in the UK and US<br>every day brings more new deaths than the last</b><br>Daily coronavirus deaths (7-day rolling avg.), by number of days since 3 daily deaths first recorded\", \"x\": 0.045, \"y\": 0.95}, \"width\": 1000, \"xaxis\": {\"color\": \"#857D78\", \"gridcolor\": \"#E7DACF\", \"gridwidth\": 1, \"linecolor\": \"#857D78\", \"range\": [0, 78], \"showgrid\": true, \"showline\": true, \"tick0\": 1, \"tickangle\": 0, \"ticklen\": 0, \"ticks\": \"outside\", \"tickson\": \"boundaries\", \"tickvals\": [10, 20, 30, 40, 50, 60, 70], \"zeroline\": false}, \"yaxis\": {\"automargin\": true, \"color\": \"#857D78\", \"gridcolor\": \"#E7DACF\", \"gridwidth\": 1, \"linecolor\": \"#857D78\", \"showgrid\": true, \"showline\": false, \"tick0\": 1, \"ticklen\": 0, \"ticks\": \"outside\", \"tickson\": \"boundaries\", \"tickvals\": [1, 2, 5, 10, 20, 50, 100, 200, 500, 1000, 2000], \"type\": \"log\", \"zeroline\": false}},\n",
       "                        {\"responsive\": true}\n",
       "                    ).then(function(){\n",
       "                            \n",
       "var gd = document.getElementById('083daf9f-9764-4078-944b-8e03f7123788');\n",
       "var x = new MutationObserver(function (mutations, observer) {{\n",
       "        var display = window.getComputedStyle(gd).display;\n",
       "        if (!display || display === 'none') {{\n",
       "            console.log([gd, 'removed!']);\n",
       "            Plotly.purge(gd);\n",
       "            observer.disconnect();\n",
       "        }}\n",
       "}});\n",
       "\n",
       "// Listen for the removal of the full notebook cells\n",
       "var notebookContainer = gd.closest('#notebook-container');\n",
       "if (notebookContainer) {{\n",
       "    x.observe(notebookContainer, {childList: true});\n",
       "}}\n",
       "\n",
       "// Listen for the clearing of the current output cell\n",
       "var outputEl = gd.closest('.output');\n",
       "if (outputEl) {{\n",
       "    x.observe(outputEl, {childList: true});\n",
       "}}\n",
       "\n",
       "                        })\n",
       "                };\n",
       "                });\n",
       "            </script>\n",
       "        </div>"
      ]
     },
     "metadata": {},
     "output_type": "display_data"
    }
   ],
   "source": [
    "fig2 = fig\n",
    "\n",
    "fig2.update_layout(\n",
    "    annotations=[\n",
    "        dict(\n",
    "            x=-0.04,\n",
    "#             x=0.045,\n",
    "\n",
    "            y=-0.175,\n",
    "            showarrow=False,\n",
    "            text=\"Not a FT Graphic: Jake Carbone / @jakecarbone8\",\n",
    "            xref=\"paper\",\n",
    "            yref=\"paper\"\n",
    "        ),\n",
    "        dict(\n",
    "            x=-0.04,\n",
    "#             x=0.045,\n",
    "\n",
    "            y=-0.225,\n",
    "            showarrow=False,\n",
    "            text=\"Source: CDC - Situation Update Worldwide - Last updated 7th April, 12:15 (London Time)\",\n",
    "            xref=\"paper\",\n",
    "            yref=\"paper\"\n",
    "        ),\n",
    "        \n",
    "        dict(\n",
    "            x=0.5,\n",
    "            y=-0.115,\n",
    "            showarrow=False,\n",
    "            text='Number of days since 3 daily deaths first recorded',\n",
    "            xref=\"paper\",\n",
    "            yref=\"paper\"),\n",
    "        \n",
    "    dict(\n",
    "        x=0.74,\n",
    "        y=-0.0877,\n",
    "        showarrow=True,\n",
    "        arrowhead=2,\n",
    "        arrowsize=1,\n",
    "        arrowwidth=2,\n",
    "        arrowcolor=\"#636363\",\n",
    "#         arrowlength=0.5,\n",
    "        ax=-50,\n",
    "        ay=-0.092,\n",
    "        opacity=0.7, \n",
    "        axref = 'pixel',\n",
    "        xref=\"paper\",\n",
    "        yref=\"paper\")\n",
    "    ],\n",
    "    margin=dict(\n",
    "        b=100\n",
    "    )\n",
    ")\n",
    "\n",
    "\n",
    "\n",
    "fig2.update_yaxes(automargin=True)\n",
    "fig2.show()"
   ]
  },
  {
   "cell_type": "markdown",
   "metadata": {},
   "source": [
    "All done!"
   ]
  },
  {
   "cell_type": "code",
   "execution_count": null,
   "metadata": {},
   "outputs": [],
   "source": []
  }
 ],
 "metadata": {
  "kernelspec": {
   "display_name": "Python 3",
   "language": "python",
   "name": "python3"
  },
  "language_info": {
   "codemirror_mode": {
    "name": "ipython",
    "version": 3
   },
   "file_extension": ".py",
   "mimetype": "text/x-python",
   "name": "python",
   "nbconvert_exporter": "python",
   "pygments_lexer": "ipython3",
   "version": "3.7.4"
  }
 },
 "nbformat": 4,
 "nbformat_minor": 4
}
